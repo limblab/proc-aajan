{
 "cells": [
  {
   "cell_type": "code",
   "execution_count": 20,
   "id": "44feae02",
   "metadata": {},
   "outputs": [],
   "source": [
    "import numpy as np\n",
    "import matplotlib.pyplot as plt\n",
    "import os"
   ]
  },
  {
   "cell_type": "code",
   "execution_count": 34,
   "id": "509acf7d",
   "metadata": {},
   "outputs": [],
   "source": [
    "fullyrestrained = ['20220224','20210712','20210928','20210816','20220203','20210710','20220309pipe','20220210pipe','20220210uc','20220309stick']\n",
    "semirestrained = ['20210921','20111108','20220405uc','20220405pipe','20210830','20211009']"
   ]
  },
  {
   "cell_type": "code",
   "execution_count": 83,
   "id": "3620a1d9",
   "metadata": {},
   "outputs": [],
   "source": [
    "base_dir = '/Volumes/L_MillerLab/limblab/User_folders/Aajan/Opensim_Jarvis_csvs/predictions3D/'\n",
    "jarvis_dict = {'FR': {}, 'SR':{}}\n",
    "for date in os.listdir(base_dir):\n",
    "    if (date != '.DS_Store') and (date != '20220405uc_trimmed') and (date != '20211111_test'):\n",
    "        if os.path.isfile(base_dir + date + '/data3D.csv'):\n",
    "            if date in fullyrestrained:\n",
    "                csv = np.genfromtxt(base_dir + date + '/data3D.csv',delimiter = ',')\n",
    "                jarvis_dict['FR'][date] = csv[2:,:]\n",
    "            else:\n",
    "                csv = np.genfromtxt(base_dir + date + '/data3D.csv',delimiter = ',')\n",
    "                jarvis_dict['SR'][date] = csv[2:,:]"
   ]
  },
  {
   "cell_type": "code",
   "execution_count": 84,
   "id": "06f32c33",
   "metadata": {},
   "outputs": [
    {
     "data": {
      "text/plain": [
       "array([[ 1.51097900e+02,  3.23111267e+01,  8.78082825e+02, ...,\n",
       "        -6.72047729e+01,  1.04768079e+03,  8.83806170e-01],\n",
       "       [ 1.52847992e+02,  3.23820801e+01,  8.76949890e+02, ...,\n",
       "        -6.72985077e+01,  1.04795227e+03,  8.82962800e-01],\n",
       "       [ 1.56043091e+02,  3.33421326e+01,  8.74368042e+02, ...,\n",
       "        -6.65853119e+01,  1.04646533e+03,  8.76131600e-01],\n",
       "       ...,\n",
       "       [ 1.52362579e+02,  5.91969604e+01,  8.24019470e+02, ...,\n",
       "        -6.92943878e+01,  1.04946912e+03,  8.89806700e-01],\n",
       "       [ 1.52071198e+02,  5.92404480e+01,  8.24416931e+02, ...,\n",
       "        -6.95464630e+01,  1.04915771e+03,  8.99242760e-01],\n",
       "       [ 1.52423218e+02,  5.90734558e+01,  8.23931885e+02, ...,\n",
       "        -6.93880005e+01,  1.04768872e+03,  8.90992400e-01]])"
      ]
     },
     "execution_count": 84,
     "metadata": {},
     "output_type": "execute_result"
    }
   ],
   "source": [
    "jarvis_dict['FR']['20220224']"
   ]
  },
  {
   "cell_type": "code",
   "execution_count": 88,
   "id": "16b7737b",
   "metadata": {
    "scrolled": false
   },
   "outputs": [
    {
     "name": "stdout",
     "output_type": "stream",
     "text": [
      "FR\n",
      "20220224 (18464, 104) (0,)\n",
      "0 True\n",
      "20210928 (37197, 104) (399,)\n",
      "399 True\n",
      "20210816 (36929, 104) (122,)\n",
      "122 True\n",
      "20220203 (18000, 104) (3,)\n",
      "3 True\n",
      "20210710 (54821, 104) (5273,)\n",
      "20220309pipe (17128, 104) (0,)\n",
      "0 True\n",
      "20220210uc (18475, 104) (0,)\n",
      "0 True\n",
      "20220210pipe (18000, 104) (0,)\n",
      "0 True\n",
      "20220309stick (18000, 104) (0,)\n",
      "0 True\n",
      "SR\n",
      "20210921 (37010, 104) (1127,)\n",
      "20211108 (18000, 104) (48,)\n",
      "48 True\n",
      "20220405uc (18000, 104) (0,)\n",
      "0 True\n",
      "20220405pipe (27691, 104) (0,)\n",
      "0 True\n",
      "20210830 (38843, 104) (12031,)\n",
      "20211009 (36910, 104) (21,)\n",
      "21 True\n"
     ]
    }
   ],
   "source": [
    "jarvis_dict_nonans = {'FR': {}, 'SR':{}}\n",
    "for key in jarvis_dict.keys():\n",
    "    print(key)\n",
    "    for date in jarvis_dict[key]:\n",
    "        nan_rows = np.isnan(jarvis_dict[key][date]).any(axis=1)\n",
    "        nan_rows_indices=np.where(nan_rows)[0]\n",
    "        print(date, jarvis_dict[key][date].shape, nan_rows_indices.shape)\n",
    "        if nan_rows_indices.shape[0]<500:\n",
    "            print(nan_rows_indices.shape[0],nan_rows_indices.shape[0]<500)\n",
    "            arr = np.copy(jarvis_dict[key][date])\n",
    "            for j in range(arr.shape[1]):\n",
    "                # check if the column contains any NaN values\n",
    "                if np.isnan(arr[:,j]).any():\n",
    "                    # if the column contains NaN values, interpolate the missing values\n",
    "                    x = np.arange(arr.shape[0])\n",
    "                    y = arr[:,j]\n",
    "                    y_interp = np.interp(x, x[~np.isnan(y)], y[~np.isnan(y)])\n",
    "                    arr[:,j] = np.where(np.isnan(y), y_interp, y)\n",
    "                    \n",
    "            jarvis_dict_nonans[key][date] = arr"
   ]
  },
  {
   "cell_type": "code",
   "execution_count": 52,
   "id": "faf60d52",
   "metadata": {},
   "outputs": [
    {
     "name": "stdout",
     "output_type": "stream",
     "text": [
      "(18464,) (18463,)\n",
      "(37197,) (37196,)\n",
      "(36929,) (36928,)\n",
      "(18000,) (17999,)\n",
      "(54821,) (54820,)\n",
      "(17128,) (17127,)\n",
      "(18475,) (18474,)\n",
      "(18000,) (17999,)\n",
      "(18000,) (17999,)\n",
      "(37010,) (37009,)\n",
      "(18000,) (17999,)\n",
      "(18000,) (17999,)\n",
      "(27691,) (27690,)\n",
      "(38843,) (38842,)\n",
      "(36910,) (36909,)\n"
     ]
    }
   ],
   "source": [
    "total_errors = {'FR': {}, 'SR': {}}\n",
    "speeds = {'FR': {}, 'SR': {}}\n",
    "for key in jarvis_dict.keys():\n",
    "    for date in jarvis_dict[key]:\n",
    "        data = jarvis_dict[key][date]\n",
    "\n",
    "        elect_mean = np.mean(data, axis = 0)\n",
    "        diff = data-elect_mean\n",
    "\n",
    "        #get three columns for each type\n",
    "        pinky_t = data[:,:3]\n",
    "        pinky_t_velocity = np.diff(pinky_t, axis = 0)*30\n",
    "        pinky_t_speed = np.sqrt(np.sum(pinky_t_velocity**2, axis =1))\n",
    "        pinky_d = data[:,4:7]\n",
    "        pinky_d_velocity = np.diff(pinky_d, axis = 0)*30\n",
    "        pinky_d_speed = np.sqrt(np.sum(pinky_d_velocity**2, axis =1))\n",
    "        pinky_m = data[:,8:11]\n",
    "        pinky_m_velocity = np.diff(pinky_m, axis = 0)*30\n",
    "        pinky_m_speed = np.sqrt(np.sum(pinky_m_velocity**2, axis =1))\n",
    "        pinky_p = data[:,12:15]\n",
    "        pinky_p_velocity = np.diff(pinky_p, axis = 0)*30\n",
    "        pinky_p_speed = np.sqrt(np.sum(pinky_p_velocity**2, axis =1))\n",
    "        ring_t = data[:,16:19]\n",
    "        ring_t_velocity = np.diff(ring_t, axis = 0)*30\n",
    "        ring_t_speed = np.sqrt(np.sum(ring_t_velocity**2, axis =1))\n",
    "        ring_d = data[:,20:23]\n",
    "        ring_d_velocity = np.diff(ring_d, axis = 0)*30\n",
    "        ring_d_speed = np.sqrt(np.sum(ring_d_velocity**2, axis =1))\n",
    "        ring_m = data[:,24:27]\n",
    "        ring_m_velocity = np.diff(ring_m, axis = 0)*30\n",
    "        ring_m_speed = np.sqrt(np.sum(ring_m_velocity**2, axis =1))\n",
    "        ring_p = data[:,28:31]\n",
    "        ring_p_velocity = np.diff(ring_p, axis = 0)*30\n",
    "        ring_p_speed = np.sqrt(np.sum(ring_p_velocity**2, axis =1))\n",
    "        middle_t = data[:,32:35]\n",
    "        middle_t_velocity = np.diff(middle_t, axis = 0)*30\n",
    "        middle_t_speed = np.sqrt(np.sum(middle_t_velocity**2, axis =1))\n",
    "        middle_d = data[:,36:39]\n",
    "        middle_d_velocity = np.diff(middle_d, axis = 0)*30\n",
    "        middle_d_speed = np.sqrt(np.sum(middle_d_velocity**2, axis =1))\n",
    "        middle_m = data[:,40:43]\n",
    "        middle_m_velocity = np.diff(middle_m, axis = 0)*30\n",
    "        middle_m_speed = np.sqrt(np.sum(middle_m_velocity**2, axis =1))\n",
    "        middle_p = data[:,44:47]\n",
    "        middle_p_velocity = np.diff(middle_p, axis = 0)*30\n",
    "        middle_p_speed = np.sqrt(np.sum(middle_p_velocity**2, axis =1))\n",
    "        index_t = data[:,48:51]\n",
    "        index_t_velocity = np.diff(index_t, axis = 0)*30\n",
    "        index_t_speed = np.sqrt(np.sum(index_t_velocity**2, axis =1))\n",
    "        index_d = data[:,52:55]\n",
    "        index_d_velocity = np.diff(index_d, axis = 0)*30\n",
    "        index_d_speed = np.sqrt(np.sum(index_d_velocity**2, axis =1))\n",
    "        index_m = data[:,56:59]\n",
    "        index_m_velocity = np.diff(index_m, axis = 0)*30\n",
    "        index_m_speed = np.sqrt(np.sum(index_m_velocity**2, axis =1))\n",
    "        index_p = data[:,60:63]\n",
    "        index_p_velocity = np.diff(index_p, axis = 0)*30\n",
    "        index_p_speed = np.sqrt(np.sum(index_p_velocity**2, axis =1))\n",
    "        thumb_t = data[:,64:67]\n",
    "        thumb_t_velocity = np.diff(thumb_t, axis = 0)*30\n",
    "        thumb_t_speed = np.sqrt(np.sum(thumb_t_velocity**2, axis =1))\n",
    "        thumb_d = data[:,68:71]\n",
    "        thumb_d_velocity = np.diff(thumb_d, axis = 0)*30\n",
    "        thumb_d_speed = np.sqrt(np.sum(thumb_d_velocity**2, axis =1))\n",
    "        thumb_m = data[:,72:75]\n",
    "        thumb_m_velocity = np.diff(thumb_m, axis = 0)*30\n",
    "        thumb_m_speed = np.sqrt(np.sum(thumb_m_velocity**2, axis =1))\n",
    "        thumb_p = data[:,76:79]\n",
    "        thumb_p_velocity = np.diff(thumb_p, axis = 0)*30\n",
    "        thumb_p_speed = np.sqrt(np.sum(thumb_p_velocity**2, axis =1))\n",
    "\n",
    "        pinky_dist_1 = pinky_t-pinky_d\n",
    "        pinky_dist_1_mean = np.mean(pinky_dist_1, axis = 0)\n",
    "        pinky_dist_1_error = np.sum((pinky_dist_1_mean - pinky_dist_1)**2, axis=1)\n",
    "        pinky_dist_2 = pinky_d-pinky_m\n",
    "        pinky_dist_2_mean = np.mean(pinky_dist_2, axis = 0)\n",
    "        pinky_dist_2_error = np.sum((pinky_dist_2_mean - pinky_dist_2)**2, axis=1)\n",
    "        pinky_dist_3 = pinky_m-pinky_p\n",
    "        pinky_dist_3_mean = np.mean(pinky_dist_3, axis = 0)\n",
    "        pinky_dist_3_error = np.sum((pinky_dist_3_mean - pinky_dist_3)**2, axis=1)\n",
    "        ring_dist_1 = ring_t-ring_d\n",
    "        ring_dist_1_mean = np.mean(ring_dist_1, axis = 0)\n",
    "        ring_dist_1_error = np.sum((ring_dist_1_mean - ring_dist_1)**2, axis=1)\n",
    "        ring_dist_2 = ring_d-ring_m\n",
    "        ring_dist_2_mean = np.mean(ring_dist_2, axis = 0)\n",
    "        ring_dist_2_error = np.sum((ring_dist_2_mean - ring_dist_2)**2, axis=1)\n",
    "        ring_dist_3 = ring_m-ring_p\n",
    "        ring_dist_3_mean = np.mean(ring_dist_3, axis = 0)\n",
    "        ring_dist_3_error = np.sum((ring_dist_3_mean - ring_dist_3)**2, axis=1)\n",
    "        middle_dist_1 = middle_t-middle_d\n",
    "        middle_dist_1_mean = np.mean(middle_dist_1, axis = 0)\n",
    "        middle_dist_1_error = np.sum((middle_dist_1_mean - middle_dist_1)**2, axis=1)\n",
    "        middle_dist_2 = middle_d-middle_m\n",
    "        middle_dist_2_mean = np.mean(middle_dist_2, axis = 0)\n",
    "        middle_dist_2_error = np.sum((middle_dist_2_mean - middle_dist_2)**2, axis=1)\n",
    "        middle_dist_3 = middle_m-middle_p\n",
    "        middle_dist_3_mean = np.mean(middle_dist_3, axis = 0)\n",
    "        middle_dist_3_error = np.sum((middle_dist_3_mean - middle_dist_3)**2, axis=1)\n",
    "        index_dist_1 = index_t-index_d\n",
    "        index_dist_1_mean = np.mean(index_dist_1, axis = 0)\n",
    "        index_dist_1_error = np.sum((index_dist_1_mean - index_dist_1)**2, axis=1)\n",
    "        index_dist_2 = index_d-index_m\n",
    "        index_dist_2_mean = np.mean(index_dist_2, axis = 0)\n",
    "        index_dist_2_error = np.sum((index_dist_2_mean - index_dist_2)**2, axis=1)\n",
    "        index_dist_3 = index_m-index_p\n",
    "        index_dist_3_mean = np.mean(index_dist_3, axis = 0)\n",
    "        index_dist_3_error = np.sum((index_dist_3_mean - index_dist_3)**2, axis=1)\n",
    "        thumb_dist_1 = thumb_t-thumb_d\n",
    "        thumb_dist_1_mean = np.mean(thumb_dist_1, axis = 0)\n",
    "        thumb_dist_1_error = np.sum((thumb_dist_1_mean - thumb_dist_1)**2, axis=1)\n",
    "        thumb_dist_2 = thumb_d-thumb_m\n",
    "        thumb_dist_2_mean = np.mean(thumb_dist_2, axis = 0)\n",
    "        thumb_dist_2_error = np.sum((thumb_dist_2_mean - thumb_dist_2)**2, axis=1)\n",
    "        thumb_dist_3 = thumb_m-thumb_p\n",
    "        thumb_dist_3_mean = np.mean(thumb_dist_3, axis = 0)\n",
    "        thumb_dist_3_error = np.sum((thumb_dist_3_mean - thumb_dist_3)**2, axis=1)\n",
    "\n",
    "        total_error = (pinky_dist_1_error+pinky_dist_2_error+pinky_dist_3_error+\n",
    "                       ring_dist_1_error+ring_dist_2_error+ring_dist_3_error+\n",
    "                       middle_dist_1_error+middle_dist_2_error+middle_dist_3_error+\n",
    "                       index_dist_1_error+index_dist_2_error+index_dist_3_error+\n",
    "                       thumb_dist_1_error+thumb_dist_2_error+thumb_dist_3_error)/15\n",
    "        average_speed = (pinky_t_speed+pinky_d_speed+pinky_m_speed+pinky_p_speed+\n",
    "                         ring_t_speed+ring_d_speed+ring_m_speed+ring_p_speed+\n",
    "                         middle_t_speed+middle_d_speed+middle_m_speed+middle_p_speed+\n",
    "                         index_t_speed+index_d_speed+index_m_speed+index_p_speed+\n",
    "                         thumb_t_speed+thumb_d_speed+thumb_m_speed+thumb_p_speed)/20\n",
    "        print(total_error.shape, average_speed.shape)\n",
    "\n",
    "        total_errors[key][date] = total_error\n",
    "        speeds[key][date]jarvis_dict_nonans = average_speed"
   ]
  },
  {
   "cell_type": "code",
   "execution_count": 15,
   "id": "19b14a19",
   "metadata": {},
   "outputs": [],
   "source": [
    "frame_ranges = {'FR':{'20210712': (0,300)}, \n",
    "                'SR':{'20211108': (0,300), '20211009': (7800, 8100)}}\n",
    "titles_dict = {'Speed': ' OpenSIM Average Landmark Speed', 'Squared Distance from Mean': ' OpenSIM Reprojection Squared Distance from Mean'}"
   ]
  },
  {
   "cell_type": "code",
   "execution_count": 54,
   "id": "34d2a856",
   "metadata": {},
   "outputs": [
    {
     "data": {
      "text/plain": [
       "(18464,)"
      ]
     },
     "execution_count": 54,
     "metadata": {},
     "output_type": "execute_result"
    }
   ],
   "source": [
    "total_errors[key][date].shape"
   ]
  },
  {
   "cell_type": "code",
   "execution_count": 53,
   "id": "2e0a4652",
   "metadata": {
    "scrolled": true
   },
   "outputs": [
    {
     "ename": "IndexError",
     "evalue": "too many indices for array: array is 1-dimensional, but 2 were indexed",
     "output_type": "error",
     "traceback": [
      "\u001b[0;31m---------------------------------------------------------------------------\u001b[0m",
      "\u001b[0;31mIndexError\u001b[0m                                Traceback (most recent call last)",
      "Input \u001b[0;32mIn [53]\u001b[0m, in \u001b[0;36m<cell line: 1>\u001b[0;34m()\u001b[0m\n\u001b[1;32m      1\u001b[0m \u001b[38;5;28;01mfor\u001b[39;00m key \u001b[38;5;129;01min\u001b[39;00m total_errors:\n\u001b[1;32m      2\u001b[0m     \u001b[38;5;28;01mfor\u001b[39;00m date \u001b[38;5;129;01min\u001b[39;00m total_errors[key]:\n\u001b[0;32m----> 3\u001b[0m         \u001b[38;5;28mprint\u001b[39m(\u001b[43mtotal_errors\u001b[49m\u001b[43m[\u001b[49m\u001b[43mkey\u001b[49m\u001b[43m]\u001b[49m\u001b[43m[\u001b[49m\u001b[43mdate\u001b[49m\u001b[43m]\u001b[49m\u001b[43m[\u001b[49m\u001b[38;5;241;43m5\u001b[39;49m\u001b[43m,\u001b[49m\u001b[43m:\u001b[49m\u001b[43m]\u001b[49m)\n",
      "\u001b[0;31mIndexError\u001b[0m: too many indices for array: array is 1-dimensional, but 2 were indexed"
     ]
    }
   ],
   "source": [
    "for key in total_errors:\n",
    "    for date in total_errors[key]:\n",
    "        print(total_errors[key][date][5,:])"
   ]
  },
  {
   "cell_type": "code",
   "execution_count": 61,
   "id": "2b99154c",
   "metadata": {
    "scrolled": true
   },
   "outputs": [
    {
     "data": {
      "text/plain": [
       "array([606.93898118, 596.18630592, 571.38240375, ..., 276.43299552,\n",
       "       278.74547056, 274.5691614 ])"
      ]
     },
     "execution_count": 61,
     "metadata": {},
     "output_type": "execute_result"
    }
   ],
   "source": [
    "total_errors['FR']['20220224']"
   ]
  },
  {
   "cell_type": "code",
   "execution_count": null,
   "id": "0acac6f4",
   "metadata": {},
   "outputs": [],
   "source": [
    "plt.plot(total_errors['SR']['20211009'])"
   ]
  },
  {
   "cell_type": "code",
   "execution_count": 38,
   "id": "552b2bb9",
   "metadata": {},
   "outputs": [],
   "source": [
    "def plot_metric(metric_dict,metric):\n",
    "    for key in metric_dict.keys():\n",
    "        print(key)\n",
    "        for date in metric_dict[key]:\n",
    "            plt.figure(figsize=(30, 6))\n",
    "            f1=frame_ranges[key][0]\n",
    "            f2=frame_ranges[key][1]\n",
    "            plt.plot(np.linspace(f1/30, f2/30, f2-f1),metric_dict[key][date][f1:f2])\n",
    "            plt.xlabel('Time (sec)')\n",
    "            plt.ylabel(metric)\n",
    "            plt.title(key+titles_dict[metric])\n",
    "            plt.show()"
   ]
  }
 ],
 "metadata": {
  "kernelspec": {
   "display_name": "Python 3 (ipykernel)",
   "language": "python",
   "name": "python3"
  },
  "language_info": {
   "codemirror_mode": {
    "name": "ipython",
    "version": 3
   },
   "file_extension": ".py",
   "mimetype": "text/x-python",
   "name": "python",
   "nbconvert_exporter": "python",
   "pygments_lexer": "ipython3",
   "version": "3.10.4"
  }
 },
 "nbformat": 4,
 "nbformat_minor": 5
}
