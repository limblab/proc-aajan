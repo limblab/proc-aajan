{
 "cells": [
  {
   "cell_type": "code",
   "execution_count": 7,
   "metadata": {
    "colab": {
     "base_uri": "https://localhost:8080/"
    },
    "executionInfo": {
     "elapsed": 746,
     "status": "ok",
     "timestamp": 1670016470429,
     "user": {
      "displayName": "Xuan Ma",
      "userId": "15359827987439085692"
     },
     "user_tz": 360
    },
    "id": "nZn75iBNp6eD",
    "outputId": "1f050d98-283b-4fb7-8f31-4d32b9f10d5f"
   },
   "outputs": [
    {
     "name": "stdout",
     "output_type": "stream",
     "text": [
      "Drive already mounted at /content/drive; to attempt to forcibly remount, call drive.mount(\"/content/drive\", force_remount=True).\n"
     ]
    }
   ],
   "source": [
    "from google.colab import drive\n",
    "import fnmatch, os, sys\n",
    "from IPython.display import clear_output\n",
    "\n",
    "drive.mount('/content/drive')\n",
    "\n",
    "\n",
    "os.chdir(\"/content/drive/MyDrive/Colab/\")\n",
    "sys.path.append('/content/drive/MyDrive/Colab/xuan_code_lib/xds_free_reaching_dev/xds_python/')"
   ]
  },
  {
   "cell_type": "code",
   "execution_count": null,
   "metadata": {
    "id": "_9ULOp3GqYmR"
   },
   "outputs": [],
   "source": [
    "from xds import lab_data\n",
    "file = 'h_20210712_Pop_FR_01.mat'\n",
    "my_xds = lab_data('./', file)\n",
    "joint_angles = my_xds.joint_angles"
   ]
  },
  {
   "cell_type": "code",
   "execution_count": null,
   "metadata": {
    "colab": {
     "base_uri": "https://localhost:8080/"
    },
    "executionInfo": {
     "elapsed": 162,
     "status": "ok",
     "timestamp": 1670015351518,
     "user": {
      "displayName": "Xuan Ma",
      "userId": "15359827987439085692"
     },
     "user_tz": 360
    },
    "id": "kL8QArPjq6yQ",
    "outputId": "afd5c7eb-97e5-462d-ed6b-30ac75ed2933"
   },
   "outputs": [
    {
     "data": {
      "text/plain": [
       "['__class__',\n",
       " '__delattr__',\n",
       " '__dict__',\n",
       " '__dir__',\n",
       " '__doc__',\n",
       " '__eq__',\n",
       " '__format__',\n",
       " '__ge__',\n",
       " '__getattribute__',\n",
       " '__gt__',\n",
       " '__hash__',\n",
       " '__init__',\n",
       " '__init_subclass__',\n",
       " '__le__',\n",
       " '__lt__',\n",
       " '__module__',\n",
       " '__ne__',\n",
       " '__new__',\n",
       " '__reduce__',\n",
       " '__reduce_ex__',\n",
       " '__repr__',\n",
       " '__setattr__',\n",
       " '__sizeof__',\n",
       " '__str__',\n",
       " '__subclasshook__',\n",
       " '__weakref__',\n",
       " '_lab_data__meta',\n",
       " 'bin_spikes',\n",
       " 'bin_width',\n",
       " 'clean_up_trials',\n",
       " 'compute_force_onset_time',\n",
       " 'compute_movement_onset_time',\n",
       " 'del_electrode',\n",
       " 'file_name',\n",
       " 'get_electrode_idx',\n",
       " 'get_meta',\n",
       " 'get_one_colum_in_trial_info_table',\n",
       " 'get_trial_info',\n",
       " 'get_trials_data_EMG',\n",
       " 'get_trials_data_cursor',\n",
       " 'get_trials_data_force',\n",
       " 'get_trials_data_kin',\n",
       " 'get_trials_data_raw_EMG',\n",
       " 'get_trials_data_spike_counts',\n",
       " 'get_trials_data_spikes',\n",
       " 'get_trials_data_time_frame',\n",
       " 'get_trials_idx',\n",
       " 'has_EMG',\n",
       " 'has_cursor',\n",
       " 'has_force',\n",
       " 'has_kin',\n",
       " 'has_raw_EMG',\n",
       " 'has_raw_force',\n",
       " 'has_trials',\n",
       " 'joint_angle_time_frame',\n",
       " 'joint_angles',\n",
       " 'joint_names',\n",
       " 'n_EMG',\n",
       " 'n_force',\n",
       " 'n_neural',\n",
       " 'parse_file',\n",
       " 'print_file_info',\n",
       " 'print_trial_info_table_header',\n",
       " 'resample_EMG',\n",
       " 'resample_force',\n",
       " 'resample_kin',\n",
       " 'save_to_pickle',\n",
       " 'smooth_binned_spikes',\n",
       " 'sort_trials_target_center',\n",
       " 'sort_trials_target_dir',\n",
       " 'sorted',\n",
       " 'spike_counts',\n",
       " 'spike_waveforms',\n",
       " 'spikes',\n",
       " 'time_frame',\n",
       " 'unit_names',\n",
       " 'update_bin_data',\n",
       " 'update_target_dir']"
      ]
     },
     "execution_count": 6,
     "metadata": {},
     "output_type": "execute_result"
    }
   ],
   "source": [
    "dir(my_xds)"
   ]
  }
 ],
 "metadata": {
  "colab": {
   "authorship_tag": "ABX9TyNgcetvMCvBZ82sjBPZM+yT",
   "provenance": []
  },
  "kernelspec": {
   "display_name": "Python 3 (ipykernel)",
   "language": "python",
   "name": "python3"
  },
  "language_info": {
   "codemirror_mode": {
    "name": "ipython",
    "version": 3
   },
   "file_extension": ".py",
   "mimetype": "text/x-python",
   "name": "python",
   "nbconvert_exporter": "python",
   "pygments_lexer": "ipython3",
   "version": "3.10.4"
  }
 },
 "nbformat": 4,
 "nbformat_minor": 1
}
