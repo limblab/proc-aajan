{
 "cells": [
  {
   "cell_type": "code",
   "execution_count": 3,
   "id": "b36c6980",
   "metadata": {},
   "outputs": [],
   "source": [
    "import numpy as np\n",
    "import math\n",
    "import matplotlib.pyplot as plt"
   ]
  },
  {
   "cell_type": "code",
   "execution_count": 16,
   "id": "521c3c92",
   "metadata": {},
   "outputs": [],
   "source": [
    "x = np.arange(-15, 15)"
   ]
  },
  {
   "cell_type": "code",
   "execution_count": 31,
   "id": "b7e15d93",
   "metadata": {},
   "outputs": [],
   "source": [
    "a1 = 0.3\n",
    "a2 = 0.5\n",
    "a3_l = [0.1,0.2,0.4,0.8]\n",
    "a4 = 0.4"
   ]
  },
  {
   "cell_type": "markdown",
   "id": "9c985515",
   "metadata": {},
   "source": [
    "Changing a3 changes the slope of the sigmoid"
   ]
  },
  {
   "cell_type": "code",
   "execution_count": 32,
   "id": "4ff19ea2",
   "metadata": {},
   "outputs": [
    {
     "data": {
      "image/png": "[encoded data removed]",
      "text/plain": [
       "<Figure size 432x288 with 1 Axes>"
      ]
     },
     "metadata": {
      "needs_background": "light"
     },
     "output_type": "display_data"
    }
   ],
   "source": [
    "for a3 in a3_l:\n",
    "    y = np.array([a1 + (a2-a1)/(1+math.exp(-a3*(xi-a4))) for xi in x])\n",
    "    plt.scatter(x,y)\n",
    "plt.legend(a3_l)\n",
    "plt.show()"
   ]
  },
  {
   "cell_type": "code",
   "execution_count": 35,
   "id": "13a6d81c",
   "metadata": {},
   "outputs": [],
   "source": [
    "a1 = 0.3\n",
    "a2 = 0.5\n",
    "a3 = 0.4\n",
    "a4_l = [0,1,5,10]"
   ]
  },
  {
   "cell_type": "markdown",
   "id": "1765d163",
   "metadata": {},
   "source": [
    "Changing a4 changes the inflection point of the sigmoid (in the x direction)"
   ]
  },
  {
   "cell_type": "code",
   "execution_count": 36,
   "id": "af5c1ce1",
   "metadata": {
    "scrolled": true
   },
   "outputs": [
    {
     "data": {
      "image/png": "[encoded data removed]",
      "text/plain": [
       "<Figure size 432x288 with 1 Axes>"
      ]
     },
     "metadata": {
      "needs_background": "light"
     },
     "output_type": "display_data"
    }
   ],
   "source": [
    "for a4 in a4_l:\n",
    "    y = np.array([a1 + (a2-a1)/(1+math.exp(-a3*(xi-a4))) for xi in x])\n",
    "    plt.scatter(x,y)\n",
    "plt.legend(a3_l)\n",
    "plt.show()"
   ]
  },
  {
   "cell_type": "code",
   "execution_count": 1,
   "id": "20ea63f7",
   "metadata": {},
   "outputs": [],
   "source": [
    "def double_sig_model(xi, theta):\n",
    "    a1, a2, a3, a4, a5, a6, a7 = theta[0], theta[1], theta[2], theta[3], theta[4], theta[5], theta[6]\n",
    "    return a1 + (a2-a1)/(1+math.exp(-a3*(xi-a4))) + (a5-a2)/(1+math.exp(-a6*(xi-a7)))\n",
    "\n",
    "def compute_square_loss_double_sig(xi, yi, theta):\n",
    "    loss = (double_sig_model(xi, theta)-yi)**2\n",
    "    return(loss)\n",
    "\n",
    "def compute_square_loss_gradient_double_sig(xi, yi, theta):\n",
    "    a1, a2, a3, a4, a5, a6, a7 = theta[0], theta[1], theta[2], theta[3], theta[4], theta[5], theta[6]\n",
    "    \n",
    "    df_da1 = 1 - 1/(1+math.exp(-a3*(xi-a4)))\n",
    "    df_da2 = 1/(1+math.exp(-a3*(xi-a4))) - 1/(1+math.exp(-a6*(xi-a7)))\n",
    "    df_da3 = (-1*(a2-a1)/((1+math.exp(-a3*(xi-a4)))**2)) * math.exp(-a3*(xi-a4))*(a4-xi)\n",
    "    df_da4 = (-1*(a2-a1)/((1+math.exp(-a3*(xi-a4)))**2)) * math.exp(-a3*(xi-a4))*a3\n",
    "    \n",
    "    df_da5 = 1/(1+math.exp(-a6*(xi-a7)))\n",
    "    df_da6 = (-1*(a5-a2)/((1+math.exp(-a6*(xi-a7)))**2)) * math.exp(-a6*(xi-a7))*(a7-xi)\n",
    "    df_da7 = (-1*(a5-a2)/((1+math.exp(-a6*(xi-a7)))**2)) * math.exp(-a6*(xi-a7))*a6\n",
    "    \n",
    "    grad_J = np.array([2*df_da1*(double_sig_model(xi, theta)-yi), 2*df_da2*(double_sig_model(xi, theta)-yi), \\\n",
    "                       2*df_da3*(double_sig_model(xi, theta)-yi), 2*df_da4*(double_sig_model(xi, theta)-yi), \\\n",
    "                       2*df_da5*(double_sig_model(xi, theta)-yi), 2*df_da6*(double_sig_model(xi, theta)-yi), \\\n",
    "                       2*df_da7*(double_sig_model(xi, theta)-yi)])\n",
    "    return(grad_J)"
   ]
  },
  {
   "cell_type": "code",
   "execution_count": 16,
   "id": "aee04747",
   "metadata": {},
   "outputs": [],
   "source": [
    "def stochastic_grad_descent_double_sig(X, y, theta = np.array([0.0,0.5,1.0,0.25,1.0,1.0,0.75]), num_epoch=1000):\n",
    "    num_instances, num_features = 30, 8\n",
    "    loss_hist = np.zeros(num_epoch) #Initialize loss_hist\n",
    "    stepsize = 0.05\n",
    "    \n",
    "    for n in range(num_epoch):\n",
    "        loss = 0\n",
    "        if n>0 and n%100==0:\n",
    "            stepsize = stepsize/2\n",
    "        for i in range(len(X)):\n",
    "            xi = X[i]\n",
    "            yi = y[i]\n",
    "            grad_f = compute_square_loss_gradient_double_sig(xi,yi,theta)\n",
    "            #step size changes with 1/sqrt(t)\n",
    "            theta -= stepsize*grad_f\n",
    "            loss += compute_square_loss_double_sig(xi,yi,theta)\n",
    "        loss_hist[n]=loss/num_instances\n",
    "        \n",
    "    return(theta,loss_hist)"
   ]
  },
  {
   "cell_type": "code",
   "execution_count": 17,
   "id": "5f98f4c3",
   "metadata": {},
   "outputs": [],
   "source": [
    "X1 = np.arange(1,250)\n",
    "X2 = np.arange(1,250)\n",
    "X3 = np.arange(0.1,3.1,0.1)\n",
    "\n",
    "theta1 = np.array([0.0,0.47,0.8,0.3,0.994,0.04,158.56])\n",
    "theta2 = np.array([0.0,0.47,9.865,0.3,0.994,0.04,158.56])\n",
    "theta3 = np.array([0.0,0.47,0.8,0.3,0.994,0.04,158.56])\n",
    "\n",
    "y1 = np.array([double_sig_model(xi, theta1) for xi in X1])\n",
    "y2 = np.array([double_sig_model(xi, theta2) for xi in X2])\n",
    "y3 = np.array([double_sig_model(xi, theta3) for xi in X3])"
   ]
  },
  {
   "cell_type": "code",
   "execution_count": 12,
   "id": "1924a511",
   "metadata": {},
   "outputs": [],
   "source": []
  },
  {
   "cell_type": "code",
   "execution_count": 13,
   "id": "30daff6e",
   "metadata": {},
   "outputs": [
    {
     "data": {
      "text/plain": [
       "<matplotlib.collections.PathCollection at 0x11780cd00>"
      ]
     },
     "execution_count": 13,
     "metadata": {},
     "output_type": "execute_result"
    },
    {
     "data": {
      "image/png": "[encoded data removed]",
      "text/plain": [
       "<Figure size 432x288 with 1 Axes>"
      ]
     },
     "metadata": {
      "needs_background": "light"
     },
     "output_type": "display_data"
    }
   ],
   "source": [
    "plt.scatter(X,y)"
   ]
  },
  {
   "cell_type": "code",
   "execution_count": 14,
   "id": "1dd1a91a",
   "metadata": {},
   "outputs": [],
   "source": [
    "thetas = []\n",
    "preds_l = []"
   ]
  },
  {
   "cell_type": "code",
   "execution_count": 15,
   "id": "e8994a15",
   "metadata": {},
   "outputs": [
    {
     "name": "stdout",
     "output_type": "stream",
     "text": [
      "Final loss: 0.0063658\n",
      "a1: -0.269, a2: 0.466, a3: 0.124, a4: 11.151, , a5: 0.962, , a6: 0.043, , a7: 150.349\n"
     ]
    },
    {
     "data": {
      "image/png": "[encoded data removed]",
      "text/plain": [
       "<Figure size 576x216 with 2 Axes>"
      ]
     },
     "metadata": {
      "needs_background": "light"
     },
     "output_type": "display_data"
    }
   ],
   "source": [
    "theta, loss_hist = stochastic_grad_descent_double_sig(X, y)\n",
    "final_loss = round(loss_hist[-1],7)\n",
    "theta = np.round(theta,3)\n",
    "print('Final loss: {}'.format(final_loss))\n",
    "print('a1: {}, a2: {}, a3: {}, a4: {}, , a5: {}, , a6: {}, , a7: {}'.format(theta[0],theta[1],theta[2],theta[3],theta[4],theta[5],theta[6]))\n",
    "fig, ax = plt.subplots(nrows = 1, ncols = 2)\n",
    "fig.set_size_inches(8, 3)\n",
    "ax[0].plot(loss_hist)\n",
    "ax[0].set_xlabel('Epoch')\n",
    "ax[0].set_ylabel('Loss')\n",
    "\n",
    "preds = [double_sig_model(xi, theta) for xi in X]\n",
    "ax[1].plot(X, preds, color ='red')\n",
    "ax[1].scatter(X, y)\n",
    "ax[1].set_xlabel('Current (mA)')\n",
    "ax[1].set_ylabel('Activation')\n",
    "plt.show()\n",
    "\n",
    "thetas.append(theta)\n",
    "preds_l.append(preds)"
   ]
  },
  {
   "cell_type": "code",
   "execution_count": null,
   "id": "f99b31d9",
   "metadata": {},
   "outputs": [],
   "source": []
  }
 ],
 "metadata": {
  "kernelspec": {
   "display_name": "Python 3 (ipykernel)",
   "language": "python",
   "name": "python3"
  },
  "language_info": {
   "codemirror_mode": {
    "name": "ipython",
    "version": 3
   },
   "file_extension": ".py",
   "mimetype": "text/x-python",
   "name": "python",
   "nbconvert_exporter": "python",
   "pygments_lexer": "ipython3",
   "version": "3.10.4"
  }
 },
 "nbformat": 4,
 "nbformat_minor": 5
}
