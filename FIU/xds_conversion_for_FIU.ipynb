{
 "cells": [
  {
   "cell_type": "code",
   "execution_count": 4,
   "id": "8f692856",
   "metadata": {},
   "outputs": [
    {
     "name": "stdout",
     "output_type": "stream",
     "text": [
      "/Users/aajanquail/Desktop/Jupyter_Notebooks/Miller_Lab/FIU\r\n"
     ]
    }
   ],
   "source": [
    "!pwd"
   ]
  },
  {
   "cell_type": "code",
   "execution_count": 1,
   "id": "4acddcfa",
   "metadata": {},
   "outputs": [],
   "source": [
    "import sys\n",
    "sys.path.append('../')"
   ]
  },
  {
   "cell_type": "code",
   "execution_count": 6,
   "id": "e2f8d606",
   "metadata": {},
   "outputs": [],
   "source": [
    "from xds.xds_python import xds"
   ]
  },
  {
   "cell_type": "code",
   "execution_count": 20,
   "id": "2def421a",
   "metadata": {},
   "outputs": [],
   "source": [
    "f = xds.lab_data('/Users/aajanquail/Desktop/Jupyter_Notebooks/Miller_Lab/FIU/neural_data/Sorted_XDS/', '20210814_Pop_FR_001.mat')"
   ]
  },
  {
   "cell_type": "code",
   "execution_count": 21,
   "id": "a99f213d",
   "metadata": {},
   "outputs": [
    {
     "data": {
      "text/plain": [
       "<xds.xds_python.xds.lab_data at 0x118983220>"
      ]
     },
     "execution_count": 21,
     "metadata": {},
     "output_type": "execute_result"
    }
   ],
   "source": [
    "f"
   ]
  },
  {
   "cell_type": "code",
   "execution_count": 22,
   "id": "cdb067ad",
   "metadata": {},
   "outputs": [
    {
     "data": {
      "text/plain": [
       "{'monkey_name': 'Pop',\n",
       " 'hand': 'Left',\n",
       " 'task_name': 'FR',\n",
       " 'duration': 1800.0095,\n",
       " 'collect_date': '2021/8/14 18:45:31.170',\n",
       " 'raw_file_name': 'Pop_20210814_FR_001',\n",
       " 'array': 'M1',\n",
       " 'processed_time': '05-Dec-2022'}"
      ]
     },
     "execution_count": 22,
     "metadata": {},
     "output_type": "execute_result"
    }
   ],
   "source": [
    "f.get_meta()"
   ]
  },
  {
   "cell_type": "code",
   "execution_count": 23,
   "id": "212bd063",
   "metadata": {},
   "outputs": [
    {
     "data": {
      "text/plain": [
       "(1800010, 145)"
      ]
     },
     "execution_count": 23,
     "metadata": {},
     "output_type": "execute_result"
    }
   ],
   "source": [
    "f.spike_counts.shape"
   ]
  },
  {
   "cell_type": "code",
   "execution_count": 24,
   "id": "f2466165",
   "metadata": {},
   "outputs": [
    {
     "data": {
      "text/plain": [
       "(12638, 1)"
      ]
     },
     "execution_count": 24,
     "metadata": {},
     "output_type": "execute_result"
    }
   ],
   "source": [
    "f.spikes[0].shape"
   ]
  },
  {
   "cell_type": "code",
   "execution_count": 17,
   "id": "93ad912a",
   "metadata": {},
   "outputs": [
    {
     "name": "stdout",
     "output_type": "stream",
     "text": [
      "Monkey: Pop\n",
      "Task: FR\n",
      "Collected on 2021/7/12 20:17:2.453 \n",
      "Raw file name is 20210712_Pop_FR_01\n",
      "The array is in M1\n",
      "There are 142 neural channels\n",
      "Sorted? 1\n",
      "There are 12 EMG channels\n",
      "Current bin width is 0.0010 seconds\n",
      "The name of each EMG channel:\n",
      "EMG_FCR1\n",
      "EMG_FDP2\n",
      "EMG_FCU1\n",
      "EMG_FCU2\n",
      "EMG_FDP1\n",
      "EMG_FCR2\n",
      "EMG_FDS1\n",
      "EMG_FDS2\n",
      "EMG_EDC2\n",
      "EMG_Lum\n",
      "EMG_FPB\n",
      "EMG_APB\n",
      "The dataset lasts 1200.0040 seconds\n"
     ]
    },
    {
     "ename": "AttributeError",
     "evalue": "'lab_data' object has no attribute 'trial_result'",
     "output_type": "error",
     "traceback": [
      "\u001b[0;31m---------------------------------------------------------------------------\u001b[0m",
      "\u001b[0;31mAttributeError\u001b[0m                            Traceback (most recent call last)",
      "Input \u001b[0;32mIn [17]\u001b[0m, in \u001b[0;36m<cell line: 1>\u001b[0;34m()\u001b[0m\n\u001b[0;32m----> 1\u001b[0m \u001b[43mf\u001b[49m\u001b[38;5;241;43m.\u001b[39;49m\u001b[43mprint_file_info\u001b[49m\u001b[43m(\u001b[49m\u001b[43m)\u001b[49m\n",
      "File \u001b[0;32m~/Desktop/Jupyter_Notebooks/Miller_Lab/FIU/../xds/xds_python/xds.py:159\u001b[0m, in \u001b[0;36mlab_data.print_file_info\u001b[0;34m(self)\u001b[0m\n\u001b[1;32m    157\u001b[0m         \u001b[38;5;28mprint\u001b[39m(\u001b[38;5;28mself\u001b[39m\u001b[38;5;241m.\u001b[39mEMG_names[i])\n\u001b[1;32m    158\u001b[0m \u001b[38;5;28mprint\u001b[39m(\u001b[38;5;124m'\u001b[39m\u001b[38;5;124mThe dataset lasts \u001b[39m\u001b[38;5;132;01m%.4f\u001b[39;00m\u001b[38;5;124m seconds\u001b[39m\u001b[38;5;124m'\u001b[39m \u001b[38;5;241m%\u001b[39m (\u001b[38;5;28mself\u001b[39m\u001b[38;5;241m.\u001b[39m__meta[\u001b[38;5;124m'\u001b[39m\u001b[38;5;124mduration\u001b[39m\u001b[38;5;124m'\u001b[39m]))\n\u001b[0;32m--> 159\u001b[0m \u001b[38;5;28mprint\u001b[39m(\u001b[38;5;124m'\u001b[39m\u001b[38;5;124mThere are \u001b[39m\u001b[38;5;132;01m%d\u001b[39;00m\u001b[38;5;124m trials\u001b[39m\u001b[38;5;124m'\u001b[39m \u001b[38;5;241m%\u001b[39m (\u001b[38;5;28mlen\u001b[39m(\u001b[38;5;28;43mself\u001b[39;49m\u001b[38;5;241;43m.\u001b[39;49m\u001b[43mtrial_result\u001b[49m)))\n\u001b[1;32m    160\u001b[0m \u001b[38;5;28mprint\u001b[39m(\u001b[38;5;124m'\u001b[39m\u001b[38;5;124mIn \u001b[39m\u001b[38;5;132;01m%d\u001b[39;00m\u001b[38;5;124m trials the monkey got reward\u001b[39m\u001b[38;5;124m'\u001b[39m \u001b[38;5;241m%\u001b[39m (\u001b[38;5;28mlen\u001b[39m(np\u001b[38;5;241m.\u001b[39mwhere(\u001b[38;5;28mself\u001b[39m\u001b[38;5;241m.\u001b[39mtrial_result \u001b[38;5;241m==\u001b[39m \u001b[38;5;124m'\u001b[39m\u001b[38;5;124mR\u001b[39m\u001b[38;5;124m'\u001b[39m)[\u001b[38;5;241m0\u001b[39m])))\n",
      "\u001b[0;31mAttributeError\u001b[0m: 'lab_data' object has no attribute 'trial_result'"
     ]
    }
   ],
   "source": [
    "f.print_file_info()"
   ]
  },
  {
   "cell_type": "code",
   "execution_count": 28,
   "id": "f5c7b286",
   "metadata": {},
   "outputs": [
    {
     "name": "stdout",
     "output_type": "stream",
     "text": [
      "The new bin size is 0.1000 s\n"
     ]
    }
   ],
   "source": [
    "f.update_bin_data(0.1)"
   ]
  },
  {
   "cell_type": "code",
   "execution_count": 29,
   "id": "9e25843d",
   "metadata": {},
   "outputs": [
    {
     "data": {
      "text/plain": [
       "(18000, 145)"
      ]
     },
     "execution_count": 29,
     "metadata": {},
     "output_type": "execute_result"
    }
   ],
   "source": [
    "f.spike_counts.shape"
   ]
  },
  {
   "cell_type": "code",
   "execution_count": 27,
   "id": "91238ed2",
   "metadata": {},
   "outputs": [
    {
     "data": {
      "text/plain": [
       "(12638, 1)"
      ]
     },
     "execution_count": 27,
     "metadata": {},
     "output_type": "execute_result"
    }
   ],
   "source": [
    "f.spikes[0].shape"
   ]
  },
  {
   "cell_type": "code",
   "execution_count": null,
   "id": "68ee73d0",
   "metadata": {},
   "outputs": [],
   "source": []
  }
 ],
 "metadata": {
  "kernelspec": {
   "display_name": "Python 3 (ipykernel)",
   "language": "python",
   "name": "python3"
  },
  "language_info": {
   "codemirror_mode": {
    "name": "ipython",
    "version": 3
   },
   "file_extension": ".py",
   "mimetype": "text/x-python",
   "name": "python",
   "nbconvert_exporter": "python",
   "pygments_lexer": "ipython3",
   "version": "3.10.4"
  }
 },
 "nbformat": 4,
 "nbformat_minor": 5
}
