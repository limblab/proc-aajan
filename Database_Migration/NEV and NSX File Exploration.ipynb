{
 "cells": [
  {
   "cell_type": "markdown",
   "id": "1892326f",
   "metadata": {},
   "source": [
    "Blackrock's Python Documentation: https://blackrockneurotech.com/research/wp-content/ifu/LB-0826-1.11-Python-Offline-Utilities-IFU-Draft.pdf\n",
    "\n",
    "Blackrock's Matlab Documentation: https://github.com/BlackrockNeurotech/NPMK/blob/master/NPMK/Users%20Guide.pdf\n",
    "\n",
    "Blackrock's Github: https://github.com/BlackrockNeurotech/Python-Utilities"
   ]
  },
  {
   "cell_type": "markdown",
   "id": "24cfd3c5",
   "metadata": {},
   "source": [
    "Here I extract the data that is necessary to populate the sessions and threshold_files tables. The sessions table requires the following fields:\n",
    "- day_key  - DONE\n",
    "- rec_time\n",
    "- sessions_key\n",
    "- paper_key\n",
    "- behavior_notes\n",
    "- behavior_quality\n",
    "- other_notes\n",
    "- task_id\n",
    "- lab_num\n",
    "- duration\n",
    "- numChannels\n",
    "- hasTriggers\n",
    "- hasChaoticLoad\n",
    "- hasBumps - check with kevin for encoding\n",
    "- numTrials\n",
    "- numReward - DONE\n",
    "- numAbort - DONE\n",
    "- numFail - DONE\n",
    "- numIncomplete - DONE\n",
    "- reward_size\n",
    "\n",
    "The threshold_files table requires the following fields:\n",
    "- sessions_key\n",
    "- array_serial\n",
    "- paper_key\n",
    "- filename\n",
    "- file_id\n",
    "- setting_file\n",
    "- is_sorted\n",
    "- sorted_by\n",
    "- num_chans\n",
    "- num_units\n",
    "- rec_system\n",
    "- connect_type\n",
    "- connect_serial\n",
    "- threshold_quality\n",
    "- threshold_notes"
   ]
  },
  {
   "cell_type": "code",
   "execution_count": 1,
   "id": "c1db6e2a",
   "metadata": {},
   "outputs": [],
   "source": [
    "# Import dependencies\n",
    "import pandas as pd\n",
    "import numpy as np\n",
    "from sqlalchemy import create_engine\n",
    "from os import path, system\n",
    "import sys\n",
    "from sys import platform\n",
    "import glob\n",
    "from scipy import signal\n",
    "import matplotlib.pyplot as plt\n",
    "import xml.etree.ElementTree as ET\n",
    "import time\n",
    "# from PyQt5.QtWidgets import QFileDialog\n",
    "\n",
    "# brpylib is the module that contains functions/classes that allow us to open and extract data from .nev and .nsx files\n",
    "from Python_Utilities import brpylib\n",
    "from Python_Utilities import brMiscFxns"
   ]
  },
  {
   "cell_type": "markdown",
   "id": "5d534679",
   "metadata": {},
   "source": [
    "# Scrape directory and put file names into lists"
   ]
  },
  {
   "cell_type": "code",
   "execution_count": 2,
   "id": "29bda160",
   "metadata": {},
   "outputs": [],
   "source": [
    "# Monkey data\n",
    "monkeyName = \"Greyson\"\n",
    "ccmID = \"18E2\"\n",
    "\n",
    "# directory info\n",
    "scrape_dir = '/Volumes/L_MillerLab/data/Greyson_17L2/CerebusData'\n",
    "if not path.exists(scrape_dir):\n",
    "    print(f\"{scrape_dir} does not exist! Try again!\")"
   ]
  },
  {
   "cell_type": "code",
   "execution_count": 3,
   "id": "fc385ce1",
   "metadata": {},
   "outputs": [
    {
     "name": "stdout",
     "output_type": "stream",
     "text": [
      "CPU times: user 58.4 ms, sys: 119 ms, total: 177 ms\n",
      "Wall time: 6.31 s\n"
     ]
    }
   ],
   "source": [
    "%%time\n",
    "nev_list = glob.glob(f\"{scrape_dir}/*/*.nev\")\n",
    "nsx_list = glob.glob(f\"{scrape_dir}/*/*.ns*\")\n",
    "# plx_list = glob.glob(f\"{scrape_dir}/*/*.plx\")\n",
    "# ccf_list = glob.glob(f\"{scrape_dir}/*/*.ccf\")"
   ]
  },
  {
   "cell_type": "code",
   "execution_count": 4,
   "id": "a7df78c0",
   "metadata": {},
   "outputs": [
    {
     "data": {
      "text/plain": [
       "(322, 260)"
      ]
     },
     "execution_count": 4,
     "metadata": {},
     "output_type": "execute_result"
    }
   ],
   "source": [
    "len(nev_list), len(nsx_list), #len(plx_list), len(ccf_list)"
   ]
  },
  {
   "cell_type": "code",
   "execution_count": 5,
   "id": "30dd402e",
   "metadata": {},
   "outputs": [
    {
     "data": {
      "text/plain": [
       "('/Volumes/L_MillerLab/data/Greyson_17L2/CerebusData/20181220/20181220_Greyson_FreeReaching_001.nev',\n",
       " '/Volumes/L_MillerLab/data/Greyson_17L2/CerebusData/20181220/20181220_Greyson_PG_001.ns3')"
      ]
     },
     "execution_count": 5,
     "metadata": {},
     "output_type": "execute_result"
    }
   ],
   "source": [
    "nev_list[0], nsx_list[0]"
   ]
  },
  {
   "cell_type": "code",
   "execution_count": 8,
   "id": "5ee5839e",
   "metadata": {},
   "outputs": [
    {
     "data": {
      "text/plain": [
       "'20181220_Greyson_FreeReaching_001'"
      ]
     },
     "execution_count": 8,
     "metadata": {},
     "output_type": "execute_result"
    }
   ],
   "source": [
    "nev_list[0][60:-4]"
   ]
  },
  {
   "cell_type": "code",
   "execution_count": 11,
   "id": "084e25d9",
   "metadata": {},
   "outputs": [],
   "source": [
    "nev_list_fnames = [fname[60:-4] for fname in nev_list]\n",
    "nsx_list_fnames = [fname[60:-4] for fname in nsx_list]"
   ]
  },
  {
   "cell_type": "code",
   "execution_count": 23,
   "id": "67beec3d",
   "metadata": {},
   "outputs": [],
   "source": [
    "nev_nsx = []\n",
    "nsx_nev = []\n",
    "for fname in nev_list_fnames:\n",
    "    if fname in nsx_list_fnames:\n",
    "        nev_nsx.append(fname)\n",
    "for fname in nsx_list_fnames:\n",
    "    if fname in nev_list_fnames:\n",
    "        nsx_nev.append(fname)"
   ]
  },
  {
   "cell_type": "code",
   "execution_count": 24,
   "id": "a2acc119",
   "metadata": {},
   "outputs": [
    {
     "data": {
      "text/plain": [
       "(259, 260)"
      ]
     },
     "execution_count": 24,
     "metadata": {},
     "output_type": "execute_result"
    }
   ],
   "source": [
    "len(nev_nsx), len(nsx_nev)"
   ]
  },
  {
   "cell_type": "markdown",
   "id": "4a7c1b97",
   "metadata": {},
   "source": [
    "## Nev File exploration"
   ]
  },
  {
   "cell_type": "markdown",
   "id": "6ee31979",
   "metadata": {},
   "source": [
    "### Compare time it takes to read from server vs copying locally and then loading"
   ]
  },
  {
   "cell_type": "markdown",
   "id": "3f47b7ab",
   "metadata": {},
   "source": [
    "#### From  server"
   ]
  },
  {
   "cell_type": "code",
   "execution_count": 8,
   "id": "dc5b0a4a",
   "metadata": {
    "scrolled": true
   },
   "outputs": [
    {
     "name": "stdout",
     "output_type": "stream",
     "text": [
      "\n",
      "20181220_Greyson_PG_001.nev opened\n",
      "total time taken to open file:  0.1470646858215332\n",
      "total time taken to extract file data:  158.48820614814758\n",
      "\n",
      "20181220_Greyson_PG_001.nev opened\n",
      "total time taken to open file:  0.5008480548858643\n",
      "total time taken to extract file data:  72.9266140460968\n",
      "\n",
      "20181220_Greyson_PG_001.nev opened\n",
      "total time taken to open file:  0.22360682487487793\n",
      "total time taken to extract file data:  70.55444812774658\n",
      "\n",
      "20181220_Greyson_PG_001.nev opened\n",
      "total time taken to open file:  0.21303200721740723\n",
      "total time taken to extract file data:  72.02680325508118\n",
      "\n",
      "20181220_Greyson_PG_001.nev opened\n",
      "total time taken to open file:  0.1834559440612793\n",
      "total time taken to extract file data:  68.69132113456726\n",
      "\n",
      "20181220_Greyson_PG_001.nev opened\n",
      "total time taken to open file:  1.0721611976623535\n",
      "total time taken to extract file data:  72.90764474868774\n",
      "\n",
      "20181220_Greyson_PG_001.nev opened\n",
      "total time taken to open file:  0.45429301261901855\n",
      "total time taken to extract file data:  73.25585603713989\n",
      "\n",
      "20181220_Greyson_PG_001.nev opened\n",
      "total time taken to open file:  0.8693921566009521\n",
      "total time taken to extract file data:  71.98393487930298\n",
      "\n",
      "20181220_Greyson_PG_001.nev opened\n",
      "total time taken to open file:  0.45044803619384766\n",
      "total time taken to extract file data:  75.87621998786926\n",
      "\n",
      "20181220_Greyson_PG_001.nev opened\n",
      "total time taken to open file:  0.9965939521789551\n",
      "total time taken to extract file data:  72.75788617134094\n",
      "\n",
      "20181220_Greyson_PG_001.nev opened\n",
      "total time taken to open file:  0.6226248741149902\n",
      "total time taken to extract file data:  73.14961528778076\n",
      "\n",
      "20181220_Greyson_PG_001.nev opened\n",
      "total time taken to open file:  0.6801190376281738\n",
      "total time taken to extract file data:  73.63081169128418\n",
      "\n",
      "20181220_Greyson_PG_001.nev opened\n",
      "total time taken to open file:  0.862191915512085\n",
      "total time taken to extract file data:  72.456866979599\n",
      "\n",
      "20181220_Greyson_PG_001.nev opened\n",
      "total time taken to open file:  0.28601527214050293\n",
      "total time taken to extract file data:  78.63813185691833\n",
      "\n",
      "20181220_Greyson_PG_001.nev opened\n",
      "total time taken to open file:  0.5792191028594971\n",
      "total time taken to extract file data:  75.97776484489441\n",
      "\n",
      "20181220_Greyson_PG_001.nev opened\n",
      "total time taken to open file:  1.8714818954467773\n",
      "total time taken to extract file data:  76.85840106010437\n",
      "\n",
      "20181220_Greyson_PG_001.nev opened\n",
      "total time taken to open file:  0.49012303352355957\n",
      "total time taken to extract file data:  75.53033304214478\n",
      "\n",
      "20181220_Greyson_PG_001.nev opened\n",
      "total time taken to open file:  1.2216331958770752\n",
      "total time taken to extract file data:  81.80617308616638\n",
      "\n",
      "20181220_Greyson_PG_001.nev opened\n",
      "total time taken to open file:  1.3257031440734863\n",
      "total time taken to extract file data:  79.9677619934082\n",
      "\n",
      "20181220_Greyson_PG_001.nev opened\n",
      "total time taken to open file:  0.30197811126708984\n",
      "total time taken to extract file data:  72.51568579673767\n"
     ]
    }
   ],
   "source": [
    "# create one NEV File object\n",
    "open_extract_server_files = []\n",
    "for i in range(20):\n",
    "    start = time.time()\n",
    "    NevFileObj = brpylib.NevFile(nev_list[1])\n",
    "    end1 = time.time()\n",
    "    print(\"total time taken to open file: \", end1 - start)\n",
    "    output = NevFileObj.getdata(elec_ids='all')\n",
    "    end2 = time.time()\n",
    "    print(\"total time taken to extract file data: \", end2 - end1)\n",
    "    open_extract_server_files.append(end2-start)"
   ]
  },
  {
   "cell_type": "code",
   "execution_count": 10,
   "id": "d3c7e10c",
   "metadata": {
    "scrolled": true
   },
   "outputs": [
    {
     "name": "stdout",
     "output_type": "stream",
     "text": [
      "^C\n",
      "total time taken to copy file:  20.26966094970703\n",
      "\n",
      "20181220_Greyson_PG_001.nev opened\n",
      "total time taken to open file:  0.015027999877929688\n"
     ]
    },
    {
     "ename": "KeyboardInterrupt",
     "evalue": "",
     "output_type": "error",
     "traceback": [
      "\u001b[0;31m---------------------------------------------------------------------------\u001b[0m",
      "\u001b[0;31mKeyboardInterrupt\u001b[0m                         Traceback (most recent call last)",
      "Input \u001b[0;32mIn [10]\u001b[0m, in \u001b[0;36m<cell line: 2>\u001b[0;34m()\u001b[0m\n\u001b[1;32m      8\u001b[0m end1 \u001b[38;5;241m=\u001b[39m time\u001b[38;5;241m.\u001b[39mtime()\n\u001b[1;32m      9\u001b[0m \u001b[38;5;28mprint\u001b[39m(\u001b[38;5;124m\"\u001b[39m\u001b[38;5;124mtotal time taken to open file: \u001b[39m\u001b[38;5;124m\"\u001b[39m, end1 \u001b[38;5;241m-\u001b[39m end0)\n\u001b[0;32m---> 10\u001b[0m output \u001b[38;5;241m=\u001b[39m \u001b[43mNevFileObj\u001b[49m\u001b[38;5;241;43m.\u001b[39;49m\u001b[43mgetdata\u001b[49m\u001b[43m(\u001b[49m\u001b[43melec_ids\u001b[49m\u001b[38;5;241;43m=\u001b[39;49m\u001b[38;5;124;43m'\u001b[39;49m\u001b[38;5;124;43mall\u001b[39;49m\u001b[38;5;124;43m'\u001b[39;49m\u001b[43m)\u001b[49m\n\u001b[1;32m     11\u001b[0m end2 \u001b[38;5;241m=\u001b[39m time\u001b[38;5;241m.\u001b[39mtime()\n\u001b[1;32m     12\u001b[0m \u001b[38;5;28mprint\u001b[39m(\u001b[38;5;124m\"\u001b[39m\u001b[38;5;124mtotal time taken to extract file data: \u001b[39m\u001b[38;5;124m\"\u001b[39m, end2 \u001b[38;5;241m-\u001b[39m end1)\n",
      "File \u001b[0;32m~/Desktop/Jupyter_Notebooks/Miller_Lab/Database_Migration/Python_Utilities/brpylib.py:509\u001b[0m, in \u001b[0;36mNevFile.getdata\u001b[0;34m(self, elec_ids, wave_read)\u001b[0m\n\u001b[1;32m    506\u001b[0m         output[\u001b[38;5;124m'\u001b[39m\u001b[38;5;124mspike_events\u001b[39m\u001b[38;5;124m'\u001b[39m]\u001b[38;5;241m.\u001b[39mupdate({\u001b[38;5;124m'\u001b[39m\u001b[38;5;124mWaveforms\u001b[39m\u001b[38;5;124m'\u001b[39m: wfs[neuralPackets,:]})\n\u001b[1;32m    508\u001b[0m \u001b[38;5;66;03m# digital events, i.e. digital inputs and serial inputs\u001b[39;00m\n\u001b[0;32m--> 509\u001b[0m digiPackets \u001b[38;5;241m=\u001b[39m [idx \u001b[38;5;28;01mfor\u001b[39;00m idx, element \u001b[38;5;129;01min\u001b[39;00m \u001b[38;5;28menumerate\u001b[39m(PacketID) \u001b[38;5;28;01mif\u001b[39;00m element \u001b[38;5;241m==\u001b[39m DIGITAL_PACKET_ID]\n\u001b[1;32m    510\u001b[0m \u001b[38;5;28;01mif\u001b[39;00m \u001b[38;5;28mlen\u001b[39m(digiPackets) \u001b[38;5;241m>\u001b[39m \u001b[38;5;241m0\u001b[39m :\n\u001b[1;32m    511\u001b[0m     insertionReason \u001b[38;5;241m=\u001b[39m np\u001b[38;5;241m.\u001b[39mndarray((nPackets,),\u001b[38;5;124m'\u001b[39m\u001b[38;5;124m<B\u001b[39m\u001b[38;5;124m'\u001b[39m,rawdata,tsBytes\u001b[38;5;241m+\u001b[39m\u001b[38;5;241m2\u001b[39m,(\u001b[38;5;28mself\u001b[39m\u001b[38;5;241m.\u001b[39mbasic_header[\u001b[38;5;124m'\u001b[39m\u001b[38;5;124mBytesInDataPackets\u001b[39m\u001b[38;5;124m'\u001b[39m],))\n",
      "File \u001b[0;32m~/Desktop/Jupyter_Notebooks/Miller_Lab/Database_Migration/Python_Utilities/brpylib.py:509\u001b[0m, in \u001b[0;36m<listcomp>\u001b[0;34m(.0)\u001b[0m\n\u001b[1;32m    506\u001b[0m         output[\u001b[38;5;124m'\u001b[39m\u001b[38;5;124mspike_events\u001b[39m\u001b[38;5;124m'\u001b[39m]\u001b[38;5;241m.\u001b[39mupdate({\u001b[38;5;124m'\u001b[39m\u001b[38;5;124mWaveforms\u001b[39m\u001b[38;5;124m'\u001b[39m: wfs[neuralPackets,:]})\n\u001b[1;32m    508\u001b[0m \u001b[38;5;66;03m# digital events, i.e. digital inputs and serial inputs\u001b[39;00m\n\u001b[0;32m--> 509\u001b[0m digiPackets \u001b[38;5;241m=\u001b[39m [idx \u001b[38;5;28;01mfor\u001b[39;00m idx, element \u001b[38;5;129;01min\u001b[39;00m \u001b[38;5;28menumerate\u001b[39m(PacketID) \u001b[38;5;28;01mif\u001b[39;00m element \u001b[38;5;241m==\u001b[39m DIGITAL_PACKET_ID]\n\u001b[1;32m    510\u001b[0m \u001b[38;5;28;01mif\u001b[39;00m \u001b[38;5;28mlen\u001b[39m(digiPackets) \u001b[38;5;241m>\u001b[39m \u001b[38;5;241m0\u001b[39m :\n\u001b[1;32m    511\u001b[0m     insertionReason \u001b[38;5;241m=\u001b[39m np\u001b[38;5;241m.\u001b[39mndarray((nPackets,),\u001b[38;5;124m'\u001b[39m\u001b[38;5;124m<B\u001b[39m\u001b[38;5;124m'\u001b[39m,rawdata,tsBytes\u001b[38;5;241m+\u001b[39m\u001b[38;5;241m2\u001b[39m,(\u001b[38;5;28mself\u001b[39m\u001b[38;5;241m.\u001b[39mbasic_header[\u001b[38;5;124m'\u001b[39m\u001b[38;5;124mBytesInDataPackets\u001b[39m\u001b[38;5;124m'\u001b[39m],))\n",
      "\u001b[0;31mKeyboardInterrupt\u001b[0m: "
     ]
    }
   ],
   "source": [
    "copy_open_extract_local_files = []\n",
    "for i in range(20):\n",
    "    start = time.time()\n",
    "    !scp '/Volumes/L_MillerLab/data/Greyson_17L2/CerebusData/20181220/20181220_Greyson_PG_001.nev' '/Users/aajanquail/Desktop/Jupyter_Notebooks/Miller_Lab/Database_Migration/20181220_Greyson_PG_001.nev'\n",
    "    end0 = time.time()\n",
    "    print(\"total time taken to copy file: \", end0 - start)\n",
    "    NevFileObj = brpylib.NevFile('/Users/aajanquail/Desktop/Jupyter_Notebooks/Miller_Lab/Database_Migration/20181220_Greyson_PG_001.nev')\n",
    "    end1 = time.time()\n",
    "    print(\"total time taken to open file: \", end1 - end0)\n",
    "    output = NevFileObj.getdata(elec_ids='all')\n",
    "    end2 = time.time()\n",
    "    print(\"total time taken to extract file data: \", end2 - end1)\n",
    "    !rm '/Users/aajanquail/Desktop/Jupyter_Notebooks/Miller_Lab/Database_Migration/20181220_Greyson_PG_001.nev'\n",
    "    end3 = time.time()\n",
    "    print(\"total time taken to remove file: \", end3 - end2)\n",
    "    copy_open_extract_local_files.append(end2-start)"
   ]
  },
  {
   "cell_type": "code",
   "execution_count": 30,
   "id": "b757e2ab",
   "metadata": {},
   "outputs": [
    {
     "data": {
      "image/png": "[encoded data removed]",
      "text/plain": [
       "<Figure size 432x288 with 1 Axes>"
      ]
     },
     "metadata": {
      "needs_background": "light"
     },
     "output_type": "display_data"
    }
   ],
   "source": [
    "x1 = np.arange(len(copy_open_extract_local_files))\n",
    "x2 = np.arange(len(open_extract_server_files))\n",
    "plt.xticks(x)\n",
    "plt.xlabel('Trial Number')\n",
    "plt.ylabel('Total Time Taken (s)')\n",
    "plt.plot(x1,copy_open_extract_local_files, label='Local')\n",
    "plt.plot(x2,open_extract_server_files, label = 'Server')\n",
    "plt.legend()\n",
    "plt.show()"
   ]
  },
  {
   "cell_type": "markdown",
   "id": "7c21cbe8",
   "metadata": {},
   "source": [
    "### Single File examination"
   ]
  },
  {
   "cell_type": "markdown",
   "id": "b0eb4722",
   "metadata": {},
   "source": [
    "Getting the data from a single NEV File object takes quite some time... May be due to the fact that older files are put into cold storage and thus take longer to retrieve."
   ]
  },
  {
   "cell_type": "code",
   "execution_count": 5,
   "id": "3f8acb56",
   "metadata": {},
   "outputs": [
    {
     "data": {
      "text/plain": [
       "['/Volumes/L_MillerLab/data/Greyson_17L2/CerebusData/20181220/20181220_Greyson_FreeReaching_001.nev',\n",
       " '/Volumes/L_MillerLab/data/Greyson_17L2/CerebusData/20181220/20181220_Greyson_PG_001.nev',\n",
       " '/Volumes/L_MillerLab/data/Greyson_17L2/CerebusData/20181205/20181205_Greyson_PG_002.nev',\n",
       " '/Volumes/L_MillerLab/data/Greyson_17L2/CerebusData/20181205/20181205_Greyson_PG_001.nev',\n",
       " '/Volumes/L_MillerLab/data/Greyson_17L2/CerebusData/20200213/20200213_Greyson_Cage_003003.nev',\n",
       " '/Volumes/L_MillerLab/data/Greyson_17L2/CerebusData/20200213/20200213_Greyson_Cage_005005.nev',\n",
       " '/Volumes/L_MillerLab/data/Greyson_17L2/CerebusData/20200213/20200213_Greyson_Cage_010010.nev',\n",
       " '/Volumes/L_MillerLab/data/Greyson_17L2/CerebusData/20200213/20200213_Greyson_Cage_004004.nev',\n",
       " '/Volumes/L_MillerLab/data/Greyson_17L2/CerebusData/20200213/20200213_Greyson_Cage_016016.nev',\n",
       " '/Volumes/L_MillerLab/data/Greyson_17L2/CerebusData/20200213/20200213_Greyson_Cage_007007.nev',\n",
       " '/Volumes/L_MillerLab/data/Greyson_17L2/CerebusData/20200213/20200213_Greyson_Cage_006006.nev',\n",
       " '/Volumes/L_MillerLab/data/Greyson_17L2/CerebusData/20200213/20200213_Greyson_Cage_011011.nev',\n",
       " '/Volumes/L_MillerLab/data/Greyson_17L2/CerebusData/20200213/20200213_Greyson_Cage_001001.nev',\n",
       " '/Volumes/L_MillerLab/data/Greyson_17L2/CerebusData/20200213/20200213_Greyson_Cage_015015.nev',\n",
       " '/Volumes/L_MillerLab/data/Greyson_17L2/CerebusData/20200213/20200213_Greyson_Cage_014014.nev',\n",
       " '/Volumes/L_MillerLab/data/Greyson_17L2/CerebusData/20200213/20200213_Greyson_Cage_009009.nev',\n",
       " '/Volumes/L_MillerLab/data/Greyson_17L2/CerebusData/20200213/20200213_Greyson_Cage_002002.nev',\n",
       " '/Volumes/L_MillerLab/data/Greyson_17L2/CerebusData/20200213/20200213_Greyson_Cage_012012.nev',\n",
       " '/Volumes/L_MillerLab/data/Greyson_17L2/CerebusData/20200213/20200213_Greyson_Cage_008008.nev',\n",
       " '/Volumes/L_MillerLab/data/Greyson_17L2/CerebusData/20200213/20200213_Greyson_Cage_013013.nev',\n",
       " '/Volumes/L_MillerLab/data/Greyson_17L2/CerebusData/20181130/20181130_Greyson_PG_002.nev',\n",
       " '/Volumes/L_MillerLab/data/Greyson_17L2/CerebusData/20181130/20181130_Greyson_PG_001.nev',\n",
       " '/Volumes/L_MillerLab/data/Greyson_17L2/CerebusData/20181121/20181121_Greyson_PG_002.nev',\n",
       " '/Volumes/L_MillerLab/data/Greyson_17L2/CerebusData/20181121/20181121_Greyson_PG_003.nev',\n",
       " '/Volumes/L_MillerLab/data/Greyson_17L2/CerebusData/20181121/20181121_Greyson_PG_001.nev',\n",
       " '/Volumes/L_MillerLab/data/Greyson_17L2/CerebusData/20190910/20190910_Greyson_PG_002.nev',\n",
       " '/Volumes/L_MillerLab/data/Greyson_17L2/CerebusData/20190910/20190910_Greyson_PG_003.nev',\n",
       " '/Volumes/L_MillerLab/data/Greyson_17L2/CerebusData/20190910/20190910_Greyson_PG_001.nev',\n",
       " '/Volumes/L_MillerLab/data/Greyson_17L2/CerebusData/20181116/20181116_Greyson_Cage_001.nev',\n",
       " '/Volumes/L_MillerLab/data/Greyson_17L2/CerebusData/20181116/20181116_Greyson_Cage_004.nev',\n",
       " '/Volumes/L_MillerLab/data/Greyson_17L2/CerebusData/20181116/20181116_Greyson_Cage_005.nev',\n",
       " '/Volumes/L_MillerLab/data/Greyson_17L2/CerebusData/20181116/20181116_Greyson_Cage_003.nev',\n",
       " '/Volumes/L_MillerLab/data/Greyson_17L2/CerebusData/20181116/20181116_Greyson_Cage_006.nev',\n",
       " '/Volumes/L_MillerLab/data/Greyson_17L2/CerebusData/20181116/20181116_Greyson_Cage_007.nev',\n",
       " '/Volumes/L_MillerLab/data/Greyson_17L2/CerebusData/20181116/20181116_Greyson_Cage_002.nev',\n",
       " '/Volumes/L_MillerLab/data/Greyson_17L2/CerebusData/20190917/20190917_Greyson_FreeReaching_002.nev',\n",
       " '/Volumes/L_MillerLab/data/Greyson_17L2/CerebusData/20190917/20190917_Greyson_FreeReaching_001.nev',\n",
       " '/Volumes/L_MillerLab/data/Greyson_17L2/CerebusData/20191115/20191115_Greyson_WM_001.nev',\n",
       " '/Volumes/L_MillerLab/data/Greyson_17L2/CerebusData/20191115/20191115_Greyson_WM_002.nev',\n",
       " '/Volumes/L_MillerLab/data/Greyson_17L2/CerebusData/20191115/20191115_Greyson_PG_003.nev',\n",
       " '/Volumes/L_MillerLab/data/Greyson_17L2/CerebusData/20190411/Greyson_kluver_MUblock__20190411_114637_013.nev',\n",
       " '/Volumes/L_MillerLab/data/Greyson_17L2/CerebusData/20190411/Greyson_kluver_MUblock__20190411_113447_009.nev',\n",
       " '/Volumes/L_MillerLab/data/Greyson_17L2/CerebusData/20190411/Greyson_kluver_MUblock__20190411_113840_010.nev',\n",
       " '/Volumes/L_MillerLab/data/Greyson_17L2/CerebusData/20190411/Greyson_MG_KG_MUblock__20190411_112651_008.nev',\n",
       " '/Volumes/L_MillerLab/data/Greyson_17L2/CerebusData/20190411/Greyson_MG_KG_MUblock__20190411_111110_004.nev',\n",
       " '/Volumes/L_MillerLab/data/Greyson_17L2/CerebusData/20190411/Greyson_kluver_MUblock__20190411_114509_012.nev',\n",
       " '/Volumes/L_MillerLab/data/Greyson_17L2/CerebusData/20190411/Greyson_MG_KG_MUblock__20190411_111114_005.nev',\n",
       " '/Volumes/L_MillerLab/data/Greyson_17L2/CerebusData/20190411/Greyson_kluver_MUblock__20190411_114356_011.nev',\n",
       " '/Volumes/L_MillerLab/data/Greyson_17L2/CerebusData/20190411/Greyson_MG_KG_MUblock__20190411_111209_006.nev',\n",
       " '/Volumes/L_MillerLab/data/Greyson_17L2/CerebusData/20190411/Greyson_MG_KG_MUblock__20190411_111607_007.nev',\n",
       " '/Volumes/L_MillerLab/data/Greyson_17L2/CerebusData/20190411/Greyson_MG_KG_MUblock__20190411_110312_003.nev',\n",
       " '/Volumes/L_MillerLab/data/Greyson_17L2/CerebusData/20181126/20181126_Greyson_PG_002.nev',\n",
       " '/Volumes/L_MillerLab/data/Greyson_17L2/CerebusData/20181126/20181126_Greyson_PG_001.nev',\n",
       " '/Volumes/L_MillerLab/data/Greyson_17L2/CerebusData/20181126/20181126_Greyson_PG_003.nev',\n",
       " '/Volumes/L_MillerLab/data/Greyson_17L2/CerebusData/20181128/20181126_Greyson_PG_002.nev',\n",
       " '/Volumes/L_MillerLab/data/Greyson_17L2/CerebusData/20181128/20181126_Greyson_PG_001.nev',\n",
       " '/Volumes/L_MillerLab/data/Greyson_17L2/CerebusData/20190102/20190102_Greyson_PG_001.nev',\n",
       " '/Volumes/L_MillerLab/data/Greyson_17L2/CerebusData/20190916/20190916_Greyson_PG_002.nev',\n",
       " '/Volumes/L_MillerLab/data/Greyson_17L2/CerebusData/20190916/20190916_Greyson_PG_001.nev',\n",
       " '/Volumes/L_MillerLab/data/Greyson_17L2/CerebusData/20190426/20190426_Greyson_Cage_001.nev',\n",
       " '/Volumes/L_MillerLab/data/Greyson_17L2/CerebusData/20190426/20190426_Greyson_Cage_003.nev',\n",
       " '/Volumes/L_MillerLab/data/Greyson_17L2/CerebusData/20190426/20190426_Greyson_Cage_002.nev',\n",
       " '/Volumes/L_MillerLab/data/Greyson_17L2/CerebusData/20191015/20191015_Greyson_Horiz_WM_002.nev',\n",
       " '/Volumes/L_MillerLab/data/Greyson_17L2/CerebusData/20191015/20191015_Greyson_Horiz_WM_001.nev',\n",
       " '/Volumes/L_MillerLab/data/Greyson_17L2/CerebusData/20191108/20191108_Greyson_Horiz_WM_001.nev',\n",
       " '/Volumes/L_MillerLab/data/Greyson_17L2/CerebusData/20181119/20181119_Greyson_PG_001.nev',\n",
       " '/Volumes/L_MillerLab/data/Greyson_17L2/CerebusData/20181005/20181005_Greyson_isoWF_wEMG_001.nev',\n",
       " '/Volumes/L_MillerLab/data/Greyson_17L2/CerebusData/20181005/20181005_Greyson_isoWF_002.nev',\n",
       " '/Volumes/L_MillerLab/data/Greyson_17L2/CerebusData/20181005/20181005_Greyson_isoWF_001.nev',\n",
       " '/Volumes/L_MillerLab/data/Greyson_17L2/CerebusData/20190221/20190221_Greyson_system_check_001001.nev',\n",
       " '/Volumes/L_MillerLab/data/Greyson_17L2/CerebusData/20181011/20181011_Greyson_cage_8008.nev',\n",
       " '/Volumes/L_MillerLab/data/Greyson_17L2/CerebusData/20181011/20181011_Greyson_cage_12012.nev',\n",
       " '/Volumes/L_MillerLab/data/Greyson_17L2/CerebusData/20181011/20181011_Greyson_cage_4004.nev',\n",
       " '/Volumes/L_MillerLab/data/Greyson_17L2/CerebusData/20181011/20181011_Greyson_cage_9009.nev',\n",
       " '/Volumes/L_MillerLab/data/Greyson_17L2/CerebusData/20181011/20181011_Greyson_cage_10010.nev',\n",
       " '/Volumes/L_MillerLab/data/Greyson_17L2/CerebusData/20181011/20181011_Greyson_cage_13013.nev',\n",
       " '/Volumes/L_MillerLab/data/Greyson_17L2/CerebusData/20181011/20181011_Greyson_cage_11011.nev',\n",
       " '/Volumes/L_MillerLab/data/Greyson_17L2/CerebusData/20181011/20181011_Greyson_cage_3003.nev',\n",
       " '/Volumes/L_MillerLab/data/Greyson_17L2/CerebusData/20181011/20181011_Greyson_cage_6006.nev',\n",
       " '/Volumes/L_MillerLab/data/Greyson_17L2/CerebusData/20181011/20181011_Greyson_cage_1001.nev',\n",
       " '/Volumes/L_MillerLab/data/Greyson_17L2/CerebusData/20181011/20181011_Greyson_cage_5005.nev',\n",
       " '/Volumes/L_MillerLab/data/Greyson_17L2/CerebusData/20181011/20181011_Greyson_cage_2002.nev',\n",
       " '/Volumes/L_MillerLab/data/Greyson_17L2/CerebusData/20181011/20181011_Greyson_cage_14014.nev',\n",
       " '/Volumes/L_MillerLab/data/Greyson_17L2/CerebusData/20181011/20181011_Greyson_cage_7007.nev',\n",
       " '/Volumes/L_MillerLab/data/Greyson_17L2/CerebusData/20181114/20181114_Greyson_PG_002.nev',\n",
       " '/Volumes/L_MillerLab/data/Greyson_17L2/CerebusData/20181114/20181114_Greyson_PG_003.nev',\n",
       " '/Volumes/L_MillerLab/data/Greyson_17L2/CerebusData/20181114/20181114_Greyson_PG_001.nev',\n",
       " '/Volumes/L_MillerLab/data/Greyson_17L2/CerebusData/20181114/20181114_Greyson_PG_004.nev',\n",
       " '/Volumes/L_MillerLab/data/Greyson_17L2/CerebusData/20190305/20190305_Greyson_FreeReaching_001.nev',\n",
       " '/Volumes/L_MillerLab/data/Greyson_17L2/CerebusData/20190205/20190205_Greyson_key_002.nev',\n",
       " '/Volumes/L_MillerLab/data/Greyson_17L2/CerebusData/20190205/20190205_Greyson_key_001.nev',\n",
       " '/Volumes/L_MillerLab/data/Greyson_17L2/CerebusData/20190920/20190920_Greyson_Key_001.nev',\n",
       " '/Volumes/L_MillerLab/data/Greyson_17L2/CerebusData/20190920/20190920_Greyson_PG_002.nev',\n",
       " '/Volumes/L_MillerLab/data/Greyson_17L2/CerebusData/20191220/20191220_Greyson_Cage_152_001.nev',\n",
       " '/Volumes/L_MillerLab/data/Greyson_17L2/CerebusData/20190911/20190911_Greyson_PG_001.nev',\n",
       " '/Volumes/L_MillerLab/data/Greyson_17L2/CerebusData/20190911/20190911_Greyson_Key_003.nev',\n",
       " '/Volumes/L_MillerLab/data/Greyson_17L2/CerebusData/20190911/20190911_Greyson_Key_004.nev',\n",
       " '/Volumes/L_MillerLab/data/Greyson_17L2/CerebusData/20190911/20190911_Greyson_PG_002.nev',\n",
       " '/Volumes/L_MillerLab/data/Greyson_17L2/CerebusData/20190913/20190913_Greyson_Key_001.nev',\n",
       " '/Volumes/L_MillerLab/data/Greyson_17L2/CerebusData/20190913/20190913_Greyson_PG_002.nev',\n",
       " '/Volumes/L_MillerLab/data/Greyson_17L2/CerebusData/20190227/20190227_Greyson_Key_002.nev',\n",
       " '/Volumes/L_MillerLab/data/Greyson_17L2/CerebusData/20190227/20190227_Greyson_Key_001.nev',\n",
       " '/Volumes/L_MillerLab/data/Greyson_17L2/CerebusData/20190227/20190227_Greyson_freereaching_003.nev',\n",
       " '/Volumes/L_MillerLab/data/Greyson_17L2/CerebusData/20190918/20190918_Greyson_Key_001.nev',\n",
       " '/Volumes/L_MillerLab/data/Greyson_17L2/CerebusData/20190918/20190918_Greyson_PG_002.nev',\n",
       " '/Volumes/L_MillerLab/data/Greyson_17L2/CerebusData/20190104/20190104_Greyson_PG_001.nev',\n",
       " '/Volumes/L_MillerLab/data/Greyson_17L2/CerebusData/20180928/20180928_Greyson_isoWF_004.nev',\n",
       " '/Volumes/L_MillerLab/data/Greyson_17L2/CerebusData/20180928/20180928_Greyson_isoWF_002.nev',\n",
       " '/Volumes/L_MillerLab/data/Greyson_17L2/CerebusData/20180928/20180928_Greyson_isoWF_003.nev',\n",
       " '/Volumes/L_MillerLab/data/Greyson_17L2/CerebusData/20180928/20180928_Greyson_isoWF_001.nev',\n",
       " '/Volumes/L_MillerLab/data/Greyson_17L2/CerebusData/20181112/20181112_Greyson_IsoWF_001.nev',\n",
       " '/Volumes/L_MillerLab/data/Greyson_17L2/CerebusData/20181112/20181112_Greyson_IsoWF_002.nev',\n",
       " '/Volumes/L_MillerLab/data/Greyson_17L2/CerebusData/20181112/20181112_Greyson_IsoWF_003.nev',\n",
       " '/Volumes/L_MillerLab/data/Greyson_17L2/CerebusData/20181112/20181112_Greyson_IsoWF_004.nev',\n",
       " '/Volumes/L_MillerLab/data/Greyson_17L2/CerebusData/20190507/20190502_Greyson_Free_reaching_002.nev',\n",
       " '/Volumes/L_MillerLab/data/Greyson_17L2/CerebusData/20190507/20190502_Greyson_Free_reaching_001.nev',\n",
       " '/Volumes/L_MillerLab/data/Greyson_17L2/CerebusData/20180927/20180927_Greyson_isoWF_001.nev',\n",
       " '/Volumes/L_MillerLab/data/Greyson_17L2/CerebusData/20180927/20180927_Greyson_isoWF_002.nev',\n",
       " '/Volumes/L_MillerLab/data/Greyson_17L2/CerebusData/20190813/20190813_Greyson_Cage_001001.nev',\n",
       " '/Volumes/L_MillerLab/data/Greyson_17L2/CerebusData/20200102/20200102_Greyson_WM_001.nev',\n",
       " '/Volumes/L_MillerLab/data/Greyson_17L2/CerebusData/20200102/20200102_Greyson_WM_002.nev',\n",
       " '/Volumes/L_MillerLab/data/Greyson_17L2/CerebusData/20200102/20200102_Greyson_WM_003.nev',\n",
       " '/Volumes/L_MillerLab/data/Greyson_17L2/CerebusData/20190819/20190819_Greyson_Key_001.nev',\n",
       " '/Volumes/L_MillerLab/data/Greyson_17L2/CerebusData/20190502/20190502_Greyson_Free_reaching_problematic001.nev',\n",
       " '/Volumes/L_MillerLab/data/Greyson_17L2/CerebusData/20191211/20191211_Greyson_WM_001.nev',\n",
       " '/Volumes/L_MillerLab/data/Greyson_17L2/CerebusData/20191211/20191211_Greyson_WM_002.nev',\n",
       " '/Volumes/L_MillerLab/data/Greyson_17L2/CerebusData/20190103/20190103_Greyson_PG_001.nev',\n",
       " '/Volumes/L_MillerLab/data/Greyson_17L2/CerebusData/20190103/20190103_Greyson_PG_002.nev',\n",
       " '/Volumes/L_MillerLab/data/Greyson_17L2/CerebusData/20191112/20191112_Greyson_Horiz_WM_002.nev',\n",
       " '/Volumes/L_MillerLab/data/Greyson_17L2/CerebusData/20191112/20191112_Greyson_Horiz_WM_001.nev',\n",
       " '/Volumes/L_MillerLab/data/Greyson_17L2/CerebusData/20191007/20191007_Greyson_PG_001.nev',\n",
       " '/Volumes/L_MillerLab/data/Greyson_17L2/CerebusData/20191007/20191007_Greyson_Key_002.nev',\n",
       " '/Volumes/L_MillerLab/data/Greyson_17L2/CerebusData/20180831/20180831_Greyson_Kluver_002.nev',\n",
       " '/Volumes/L_MillerLab/data/Greyson_17L2/CerebusData/20180831/20180831_Greyson_PG_003.nev',\n",
       " '/Volumes/L_MillerLab/data/Greyson_17L2/CerebusData/20180831/20180831_Greyson_PG_001.nev',\n",
       " '/Volumes/L_MillerLab/data/Greyson_17L2/CerebusData/20190919/20190919_Greyson_FreeReaching_001.nev',\n",
       " '/Volumes/L_MillerLab/data/Greyson_17L2/CerebusData/20190919/20190919_Greyson_FreeReaching_002.nev',\n",
       " '/Volumes/L_MillerLab/data/Greyson_17L2/CerebusData/20180926/20180926_Greyson_isoWF_002.nev',\n",
       " '/Volumes/L_MillerLab/data/Greyson_17L2/CerebusData/20180926/20180926_Greyson_isoWF_001.nev',\n",
       " '/Volumes/L_MillerLab/data/Greyson_17L2/CerebusData/20191212/20191212_Greyson_WM_001.nev',\n",
       " '/Volumes/L_MillerLab/data/Greyson_17L2/CerebusData/20191212/20191212_Greyson_WM_003.nev',\n",
       " '/Volumes/L_MillerLab/data/Greyson_17L2/CerebusData/20191212/20191212_Greyson_WM_002.nev',\n",
       " '/Volumes/L_MillerLab/data/Greyson_17L2/CerebusData/20181115/20181115_Greyson_PG_001.nev',\n",
       " '/Volumes/L_MillerLab/data/Greyson_17L2/CerebusData/20181115/20181115_Greyson_PG_002.nev',\n",
       " '/Volumes/L_MillerLab/data/Greyson_17L2/CerebusData/20200108/20200108_Greyson_WM_002.nev',\n",
       " '/Volumes/L_MillerLab/data/Greyson_17L2/CerebusData/20200108/20200108_Greyson_WM_003.nev',\n",
       " '/Volumes/L_MillerLab/data/Greyson_17L2/CerebusData/20200108/20200108_Greyson_WM_001.nev',\n",
       " '/Volumes/L_MillerLab/data/Greyson_17L2/CerebusData/20190909/20190909_Greyson_PG_001.nev',\n",
       " '/Volumes/L_MillerLab/data/Greyson_17L2/CerebusData/20180906/20180906_Greyson_003.nev',\n",
       " '/Volumes/L_MillerLab/data/Greyson_17L2/CerebusData/20180906/20180906_Greyson_002.nev',\n",
       " '/Volumes/L_MillerLab/data/Greyson_17L2/CerebusData/20180906/20180906_Greyson_001.nev',\n",
       " '/Volumes/L_MillerLab/data/Greyson_17L2/CerebusData/20191113/20191113_Greyson_WM_001.nev',\n",
       " '/Volumes/L_MillerLab/data/Greyson_17L2/CerebusData/20190116/20190116_Greyson_Cage_003.nev',\n",
       " '/Volumes/L_MillerLab/data/Greyson_17L2/CerebusData/20190116/20190116_Greyson_Cage_002.nev',\n",
       " '/Volumes/L_MillerLab/data/Greyson_17L2/CerebusData/20190116/20190116_Greyson_Cage_001.nev',\n",
       " '/Volumes/L_MillerLab/data/Greyson_17L2/CerebusData/20190116/20190116_Greyson_Cage_004.nev',\n",
       " '/Volumes/L_MillerLab/data/Greyson_17L2/CerebusData/20190314/20190314_Greyson_FreeReaching_001.nev',\n",
       " '/Volumes/L_MillerLab/data/Greyson_17L2/CerebusData/20190413/20190413_Greyson_Key_001.nev',\n",
       " '/Volumes/L_MillerLab/data/Greyson_17L2/CerebusData/20181129/20181129_Greyson_PG_001.nev',\n",
       " '/Volumes/L_MillerLab/data/Greyson_17L2/CerebusData/20181129/20181129_Greyson_PG_002.nev',\n",
       " '/Volumes/L_MillerLab/data/Greyson_17L2/CerebusData/20181129/20181129_Greyson_PG_003.nev',\n",
       " '/Volumes/L_MillerLab/data/Greyson_17L2/CerebusData/20190923/20190923_Greyson_PG_002.nev',\n",
       " '/Volumes/L_MillerLab/data/Greyson_17L2/CerebusData/20190923/20190923_Greyson_Key_001.nev',\n",
       " '/Volumes/L_MillerLab/data/Greyson_17L2/CerebusData/20181217/20181217_Greyson_FreeReaching_001.nev',\n",
       " '/Volumes/L_MillerLab/data/Greyson_17L2/CerebusData/20181217/20181217_Greyson_PG_001.nev',\n",
       " '/Volumes/L_MillerLab/data/Greyson_17L2/CerebusData/20191101/20191101_Greyson_freereaching_001.nev',\n",
       " '/Volumes/L_MillerLab/data/Greyson_17L2/CerebusData/20191101/20191101_Greyson_freereaching_002.nev',\n",
       " '/Volumes/L_MillerLab/data/Greyson_17L2/CerebusData/20181203/20181203_Greyson_PG_001.nev',\n",
       " '/Volumes/L_MillerLab/data/Greyson_17L2/CerebusData/20181203/20181203_Greyson_PG_002.nev',\n",
       " '/Volumes/L_MillerLab/data/Greyson_17L2/CerebusData/20181203/20181203_Greyson_PG_003.nev',\n",
       " '/Volumes/L_MillerLab/data/Greyson_17L2/CerebusData/20181213/20181213_Greyson_Cage_014008.nev',\n",
       " '/Volumes/L_MillerLab/data/Greyson_17L2/CerebusData/20181213/20181213_Greyson_Cage_007001.nev',\n",
       " '/Volumes/L_MillerLab/data/Greyson_17L2/CerebusData/20181213/20181213_Greyson_Cage_010004.nev',\n",
       " '/Volumes/L_MillerLab/data/Greyson_17L2/CerebusData/20181213/20181213_Greyson_Cage_012006.nev',\n",
       " '/Volumes/L_MillerLab/data/Greyson_17L2/CerebusData/20181213/20181213_Greyson_Cage_011005.nev',\n",
       " '/Volumes/L_MillerLab/data/Greyson_17L2/CerebusData/20181213/20181213_Greyson_Cage_015009.nev',\n",
       " '/Volumes/L_MillerLab/data/Greyson_17L2/CerebusData/20181213/20181213_Greyson_Cage_013007.nev',\n",
       " '/Volumes/L_MillerLab/data/Greyson_17L2/CerebusData/20181213/20181213_Greyson_Cage_009003.nev',\n",
       " '/Volumes/L_MillerLab/data/Greyson_17L2/CerebusData/20181213/20181213_Greyson_Cage_008002.nev',\n",
       " '/Volumes/L_MillerLab/data/Greyson_17L2/CerebusData/20181214/20181214_Greyson_PG_001.nev',\n",
       " '/Volumes/L_MillerLab/data/Greyson_17L2/CerebusData/20181214/20181214_Greyson_FreeReaching_001.nev',\n",
       " '/Volumes/L_MillerLab/data/Greyson_17L2/CerebusData/20181107/20181107_Greyson_Cage_001.nev',\n",
       " '/Volumes/L_MillerLab/data/Greyson_17L2/CerebusData/20181206/20181206_Greyson_PG_001.nev',\n",
       " '/Volumes/L_MillerLab/data/Greyson_17L2/CerebusData/20181206/20181206_Greyson_PG_002.nev',\n",
       " '/Volumes/L_MillerLab/data/Greyson_17L2/CerebusData/20180810/20180810_Greyson_cage_3003.nev',\n",
       " '/Volumes/L_MillerLab/data/Greyson_17L2/CerebusData/20180810/20180810_Greyson_cage_4004.nev',\n",
       " '/Volumes/L_MillerLab/data/Greyson_17L2/CerebusData/20180810/20180810_Greyson_cage_2002.nev',\n",
       " '/Volumes/L_MillerLab/data/Greyson_17L2/CerebusData/20180810/20180810_Greyson_cage_1001.nev',\n",
       " '/Volumes/L_MillerLab/data/Greyson_17L2/CerebusData/20181017/20181017_Greyson_isoWF_001.nev',\n",
       " '/Volumes/L_MillerLab/data/Greyson_17L2/CerebusData/20181017/20181017_Greyson_Freereaching_001.nev',\n",
       " '/Volumes/L_MillerLab/data/Greyson_17L2/CerebusData/20181017/20181017_Greyson_isoWF_002.nev',\n",
       " '/Volumes/L_MillerLab/data/Greyson_17L2/CerebusData/20191107/20191107_Greyson_Horiz_WM_001.nev',\n",
       " '/Volumes/L_MillerLab/data/Greyson_17L2/CerebusData/20191107/20191107_Greyson_Horiz_WM_002.nev',\n",
       " '/Volumes/L_MillerLab/data/Greyson_17L2/CerebusData/20181120/20181120_Greyson_PG_003.nev',\n",
       " '/Volumes/L_MillerLab/data/Greyson_17L2/CerebusData/20181120/20181120_Greyson_PG_001.nev',\n",
       " '/Volumes/L_MillerLab/data/Greyson_17L2/CerebusData/20181120/20181120_Greyson_PG_002.nev',\n",
       " '/Volumes/L_MillerLab/data/Greyson_17L2/CerebusData/20191111/20191111_Greyson_Horiz_WM_001.nev',\n",
       " '/Volumes/L_MillerLab/data/Greyson_17L2/CerebusData/20191111/20191111_Greyson_Vertical_WM_002.nev',\n",
       " '/Volumes/L_MillerLab/data/Greyson_17L2/CerebusData/20181211/old erceiver013.nev',\n",
       " '/Volumes/L_MillerLab/data/Greyson_17L2/CerebusData/20181211/old erceiver010.nev',\n",
       " '/Volumes/L_MillerLab/data/Greyson_17L2/CerebusData/20181211/datafile002.nev',\n",
       " '/Volumes/L_MillerLab/data/Greyson_17L2/CerebusData/20181211/datafile004.nev',\n",
       " '/Volumes/L_MillerLab/data/Greyson_17L2/CerebusData/20181211/og hardware nss001.nev',\n",
       " '/Volumes/L_MillerLab/data/Greyson_17L2/CerebusData/20181211/old _receiver014.nev',\n",
       " '/Volumes/L_MillerLab/data/Greyson_17L2/CerebusData/20181211/og hardware_2 nss002.nev',\n",
       " '/Volumes/L_MillerLab/data/Greyson_17L2/CerebusData/20181211/second W nss003.nev',\n",
       " '/Volumes/L_MillerLab/data/Greyson_17L2/CerebusData/20181211/old erceiver009.nev',\n",
       " '/Volumes/L_MillerLab/data/Greyson_17L2/CerebusData/20181211/datafile008.nev',\n",
       " '/Volumes/L_MillerLab/data/Greyson_17L2/CerebusData/20181211/firdt W BR reciever nss005.nev',\n",
       " '/Volumes/L_MillerLab/data/Greyson_17L2/CerebusData/20181211/datafile003.nev',\n",
       " '/Volumes/L_MillerLab/data/Greyson_17L2/CerebusData/20181211/old _receiver retuned018.nev',\n",
       " '/Volumes/L_MillerLab/data/Greyson_17L2/CerebusData/20181211/second W BR reciever nss004.nev',\n",
       " '/Volumes/L_MillerLab/data/Greyson_17L2/CerebusData/20181211/old _receiver retuned017.nev',\n",
       " '/Volumes/L_MillerLab/data/Greyson_17L2/CerebusData/20181211/BRn transmitter BR W001.nev',\n",
       " '/Volumes/L_MillerLab/data/Greyson_17L2/CerebusData/20181211/old _receiver retuned015.nev',\n",
       " '/Volumes/L_MillerLab/data/Greyson_17L2/CerebusData/20181211/old erceiver012.nev',\n",
       " '/Volumes/L_MillerLab/data/Greyson_17L2/CerebusData/20181211/old _receiver retuned016.nev',\n",
       " '/Volumes/L_MillerLab/data/Greyson_17L2/CerebusData/20181211/old erceiver011.nev',\n",
       " '/Volumes/L_MillerLab/data/Greyson_17L2/CerebusData/20181211/datafile006.nev',\n",
       " '/Volumes/L_MillerLab/data/Greyson_17L2/CerebusData/20181211/datafile001.nev',\n",
       " '/Volumes/L_MillerLab/data/Greyson_17L2/CerebusData/20181211/datafile005.nev',\n",
       " '/Volumes/L_MillerLab/data/Greyson_17L2/CerebusData/20181211/datafile007.nev',\n",
       " '/Volumes/L_MillerLab/data/Greyson_17L2/CerebusData/20181210/20181210_Greyson_testWBlackrock001.nev',\n",
       " '/Volumes/L_MillerLab/data/Greyson_17L2/CerebusData/20190904/20190904_Greyson_Cage_001.nev',\n",
       " '/Volumes/L_MillerLab/data/Greyson_17L2/CerebusData/20180830/20180830_Greyson_Kluver_002.nev',\n",
       " '/Volumes/L_MillerLab/data/Greyson_17L2/CerebusData/20180830/20180830_Greyson_Kluver_001.nev',\n",
       " '/Volumes/L_MillerLab/data/Greyson_17L2/CerebusData/20180830/20180830_Greyson_PG_003.nev',\n",
       " '/Volumes/L_MillerLab/data/Greyson_17L2/CerebusData/20190218/20190218_Greyson_Key_001.nev',\n",
       " '/Volumes/L_MillerLab/data/Greyson_17L2/CerebusData/20190114/20190114_Greyson_Key_002.nev',\n",
       " '/Volumes/L_MillerLab/data/Greyson_17L2/CerebusData/20190114/20190114_Greyson_Key_001.nev',\n",
       " '/Volumes/L_MillerLab/data/Greyson_17L2/CerebusData/20190213/20190213_Greyson_key_001.nev',\n",
       " '/Volumes/L_MillerLab/data/Greyson_17L2/CerebusData/20181113/20181113_Greyson_PG_003.nev',\n",
       " '/Volumes/L_MillerLab/data/Greyson_17L2/CerebusData/20181113/20181113_Greyson_PG_002.nev',\n",
       " '/Volumes/L_MillerLab/data/Greyson_17L2/CerebusData/20181113/20181113_Greyson_PG_001.nev',\n",
       " '/Volumes/L_MillerLab/data/Greyson_17L2/CerebusData/20190107/20190107_Greyson_Key_001.nev',\n",
       " '/Volumes/L_MillerLab/data/Greyson_17L2/CerebusData/20190816/20190816_Greyson_Key_001.nev',\n",
       " '/Volumes/L_MillerLab/data/Greyson_17L2/CerebusData/20190816/20190816_Greyson_Cage_002.nev',\n",
       " '/Volumes/L_MillerLab/data/Greyson_17L2/CerebusData/20190816/20190816_Greyson_Cage_001.nev',\n",
       " '/Volumes/L_MillerLab/data/Greyson_17L2/CerebusData/20190816/20190816_Greyson_Key_002.nev',\n",
       " '/Volumes/L_MillerLab/data/Greyson_17L2/CerebusData/20190204/20190204_Greyson_key_001.nev',\n",
       " '/Volumes/L_MillerLab/data/Greyson_17L2/CerebusData/20181207/20181207_Greyson_PG_001.nev',\n",
       " '/Volumes/L_MillerLab/data/Greyson_17L2/CerebusData/20181207/20181207_Greyson_PG_002.nev',\n",
       " '/Volumes/L_MillerLab/data/Greyson_17L2/CerebusData/20191217/20191217_Greyson_WM_002.nev',\n",
       " '/Volumes/L_MillerLab/data/Greyson_17L2/CerebusData/20191217/20191217_Greyson_WM_003.nev',\n",
       " '/Volumes/L_MillerLab/data/Greyson_17L2/CerebusData/20191217/20191217_Greyson_WM_001.nev',\n",
       " '/Volumes/L_MillerLab/data/Greyson_17L2/CerebusData/20191217/20191217_Greyson_WM_004.nev',\n",
       " '/Volumes/L_MillerLab/data/Greyson_17L2/CerebusData/20190416/20190416_Greyson_freereach_002.nev',\n",
       " '/Volumes/L_MillerLab/data/Greyson_17L2/CerebusData/20190416/Greyson_MG_KG_MUblock__20190416_112924_003.nev',\n",
       " '/Volumes/L_MillerLab/data/Greyson_17L2/CerebusData/20190416/20190416_Greyson_key_001.nev',\n",
       " '/Volumes/L_MillerLab/data/Greyson_17L2/CerebusData/20190416/Greyson_MG_KG_MUblock__20190416_112458_002.nev',\n",
       " '/Volumes/L_MillerLab/data/Greyson_17L2/CerebusData/20190627/20190627_Greyson_Cage_001.nev',\n",
       " '/Volumes/L_MillerLab/data/Greyson_17L2/CerebusData/20190627/20190627_Greyson_Cage_003.nev',\n",
       " '/Volumes/L_MillerLab/data/Greyson_17L2/CerebusData/20190627/20190627_Greyson_Cage_002.nev',\n",
       " '/Volumes/L_MillerLab/data/Greyson_17L2/CerebusData/20190627/20190627_Greyson_Cage_004.nev',\n",
       " '/Volumes/L_MillerLab/data/Greyson_17L2/CerebusData/20181204/20181204_Greyson_PG_002.nev',\n",
       " '/Volumes/L_MillerLab/data/Greyson_17L2/CerebusData/20181204/20181204_Greyson_PG_001.nev',\n",
       " '/Volumes/L_MillerLab/data/Greyson_17L2/CerebusData/20191206/20191206_Greyson_WM_002.nev',\n",
       " '/Volumes/L_MillerLab/data/Greyson_17L2/CerebusData/20191206/20191206_Greyson_WM_001.nev',\n",
       " '/Volumes/L_MillerLab/data/Greyson_17L2/CerebusData/20191213/20191213_Greyson_WM_001.nev',\n",
       " '/Volumes/L_MillerLab/data/Greyson_17L2/CerebusData/20191213/20191213_Greyson_WM_002.nev',\n",
       " '/Volumes/L_MillerLab/data/Greyson_17L2/CerebusData/20191213/20191213_Greyson_WM_003.nev',\n",
       " '/Volumes/L_MillerLab/data/Greyson_17L2/CerebusData/20180907/20180907_Greyson_003.nev',\n",
       " '/Volumes/L_MillerLab/data/Greyson_17L2/CerebusData/20180907/20180907_Greyson_002.nev',\n",
       " '/Volumes/L_MillerLab/data/Greyson_17L2/CerebusData/20180907/20180907_Greyson_001.nev',\n",
       " '/Volumes/L_MillerLab/data/Greyson_17L2/CerebusData/20180907/20180907_Greyson_004.nev',\n",
       " '/Volumes/L_MillerLab/data/Greyson_17L2/CerebusData/20181212/20181212_Greyson_PG_001.nev',\n",
       " '/Volumes/L_MillerLab/data/Greyson_17L2/CerebusData/20191216/20191216_Greyson_WM_001.nev',\n",
       " '/Volumes/L_MillerLab/data/Greyson_17L2/CerebusData/20191216/20191216_Greyson_WM_003.nev',\n",
       " '/Volumes/L_MillerLab/data/Greyson_17L2/CerebusData/20191216/20191216_Greyson_WM_002.nev',\n",
       " '/Volumes/L_MillerLab/data/Greyson_17L2/CerebusData/20190726/20190726_Greyson_Cage_001001.nev',\n",
       " '/Volumes/L_MillerLab/data/Greyson_17L2/CerebusData/20190726/20190726_Greyson_Cage_002002.nev',\n",
       " '/Volumes/L_MillerLab/data/Greyson_17L2/CerebusData/20190726/20190726_Greyson_Cage_003003.nev',\n",
       " '/Volumes/L_MillerLab/data/Greyson_17L2/CerebusData/20190726/20190726_Greyson_Cage_004004.nev',\n",
       " '/Volumes/L_MillerLab/data/Greyson_17L2/CerebusData/20190805/20190805_Greyson_Cage_006.nev',\n",
       " '/Volumes/L_MillerLab/data/Greyson_17L2/CerebusData/20190805/20190805_Greyson_Cage_007.nev',\n",
       " '/Volumes/L_MillerLab/data/Greyson_17L2/CerebusData/20190805/20190805_Greyson_Cage_004.nev',\n",
       " '/Volumes/L_MillerLab/data/Greyson_17L2/CerebusData/20190805/20190805_Greyson_Cage_008.nev',\n",
       " '/Volumes/L_MillerLab/data/Greyson_17L2/CerebusData/20190805/20190805_Greyson_Cage_001.nev',\n",
       " '/Volumes/L_MillerLab/data/Greyson_17L2/CerebusData/20190805/20190805_Greyson_Cage_003.nev',\n",
       " '/Volumes/L_MillerLab/data/Greyson_17L2/CerebusData/20190805/20190805_Greyson_Cage_002.nev',\n",
       " '/Volumes/L_MillerLab/data/Greyson_17L2/CerebusData/20190805/20190805_Greyson_Cage_005.nev',\n",
       " '/Volumes/L_MillerLab/data/Greyson_17L2/CerebusData/20190805/20190805_Greyson_Cage_009.nev',\n",
       " '/Volumes/L_MillerLab/data/Greyson_17L2/CerebusData/20200114/20200114_Greyson_rightM1_freeTouch_preStim_001.nev',\n",
       " '/Volumes/L_MillerLab/data/Greyson_17L2/CerebusData/20200114/20200114_Greyson_rightM1_freeTouch_postStim_001.nev',\n",
       " '/Volumes/L_MillerLab/data/Greyson_17L2/CerebusData/20191114/20191114_Greyson_WM_001.nev',\n",
       " '/Volumes/L_MillerLab/data/Greyson_17L2/CerebusData/20191114/20191114_Greyson_WM_003.nev',\n",
       " '/Volumes/L_MillerLab/data/Greyson_17L2/CerebusData/20191114/20191114_Greyson_WM_002.nev',\n",
       " '/Volumes/L_MillerLab/data/Greyson_17L2/CerebusData/20190418/20190418_Greyson_FreeReach_001.nev',\n",
       " '/Volumes/L_MillerLab/data/Greyson_17L2/CerebusData/20191205/20191205_Greyson_WM_001.nev',\n",
       " '/Volumes/L_MillerLab/data/Greyson_17L2/CerebusData/20191205/20191205_Greyson_WM_002.nev',\n",
       " '/Volumes/L_MillerLab/data/Greyson_17L2/CerebusData/20191005/20191015_Greyson_Horiz_WM_002.nev',\n",
       " '/Volumes/L_MillerLab/data/Greyson_17L2/CerebusData/20191005/20191015_Greyson_Horiz_WM_001.nev',\n",
       " '/Volumes/L_MillerLab/data/Greyson_17L2/CerebusData/20180910/20180910_Greyson_002.nev',\n",
       " '/Volumes/L_MillerLab/data/Greyson_17L2/CerebusData/20180910/20180910_Greyson_001.nev',\n",
       " '/Volumes/L_MillerLab/data/Greyson_17L2/CerebusData/20190415/20190415_Greyson_isoWF_003.nev',\n",
       " '/Volumes/L_MillerLab/data/Greyson_17L2/CerebusData/20190415/20190415_Greyson_isoWF_002.nev',\n",
       " '/Volumes/L_MillerLab/data/Greyson_17L2/CerebusData/20190415/20190415_Greyson_isoWF_001.nev',\n",
       " '/Volumes/L_MillerLab/data/Greyson_17L2/CerebusData/20190812/20190812_Greyson_Key001.nev',\n",
       " '/Volumes/L_MillerLab/data/Greyson_17L2/CerebusData/20191209/20191209_Greyson_WM_001.nev',\n",
       " '/Volumes/L_MillerLab/data/Greyson_17L2/CerebusData/20191209/20191209_Greyson_WM_002.nev',\n",
       " '/Volumes/L_MillerLab/data/Greyson_17L2/CerebusData/20190417/20190417_Greyson_FreeReach_002.nev',\n",
       " '/Volumes/L_MillerLab/data/Greyson_17L2/CerebusData/20190417/20190417_Greyson_Key_001.nev',\n",
       " '/Volumes/L_MillerLab/data/Greyson_17L2/CerebusData/20181009/20181009_Greyson_cage_1001.nev',\n",
       " '/Volumes/L_MillerLab/data/Greyson_17L2/CerebusData/20200103/20200103_Greyson_WM_001.nev',\n",
       " '/Volumes/L_MillerLab/data/Greyson_17L2/CerebusData/20200103/20200103_Greyson_WM_iso_002.nev',\n",
       " '/Volumes/L_MillerLab/data/Greyson_17L2/CerebusData/20190409/20190409_Greyson_Key_001.nev',\n",
       " '/Volumes/L_MillerLab/data/Greyson_17L2/CerebusData/20181003/20181003_Greyson_isoWF_001.nev',\n",
       " '/Volumes/L_MillerLab/data/Greyson_17L2/CerebusData/20181003/20181003_Greyson_isoWF_002.nev',\n",
       " '/Volumes/L_MillerLab/data/Greyson_17L2/CerebusData/20190412/20190412_Greyson_Key_002.nev',\n",
       " '/Volumes/L_MillerLab/data/Greyson_17L2/CerebusData/20190412/20190412_Greyson_Free_Reaching_003.nev',\n",
       " '/Volumes/L_MillerLab/data/Greyson_17L2/CerebusData/20190412/20190412_Greyson_Key_001.nev',\n",
       " '/Volumes/L_MillerLab/data/Greyson_17L2/CerebusData/20191218/20191218_Greyson_WM_004.nev',\n",
       " '/Volumes/L_MillerLab/data/Greyson_17L2/CerebusData/20191218/20191218_Greyson_WM_001.nev',\n",
       " '/Volumes/L_MillerLab/data/Greyson_17L2/CerebusData/20191218/20191218_Greyson_WM_003.nev',\n",
       " '/Volumes/L_MillerLab/data/Greyson_17L2/CerebusData/20191218/20191218_Greyson_WM_002.nev',\n",
       " '/Volumes/L_MillerLab/data/Greyson_17L2/CerebusData/20191011/20191011_Greyson_Horiz_WM_001.nev',\n",
       " '/Volumes/L_MillerLab/data/Greyson_17L2/CerebusData/20191016/20191016_Greyson_Horiz_WM_001.nev',\n",
       " '/Volumes/L_MillerLab/data/Greyson_17L2/CerebusData/20191016/20191016_Greyson_Horiz_WM_002.nev',\n",
       " '/Volumes/L_MillerLab/data/Greyson_17L2/CerebusData/20181127/20181127_Greyson_PG_001.nev',\n",
       " '/Volumes/L_MillerLab/data/Greyson_17L2/CerebusData/20181127/20181127_Greyson_PG_002.nev',\n",
       " '/Volumes/L_MillerLab/data/Greyson_17L2/CerebusData/20190815/20190815_Greyson_Key_001.nev',\n",
       " '/Volumes/L_MillerLab/data/Greyson_17L2/CerebusData/20190815/20190815_Greyson_Key_002.nev']"
      ]
     },
     "execution_count": 5,
     "metadata": {},
     "output_type": "execute_result"
    }
   ],
   "source": [
    "nev_list"
   ]
  },
  {
   "cell_type": "code",
   "execution_count": 6,
   "id": "d23172d9",
   "metadata": {},
   "outputs": [],
   "source": [
    "nev_folder_date_list = sorted([nev_list[i][51:59] for i in range(len(nev_list))])"
   ]
  },
  {
   "cell_type": "code",
   "execution_count": 7,
   "id": "ab82feac",
   "metadata": {},
   "outputs": [
    {
     "data": {
      "text/plain": [
       "['20180810',\n",
       " '20180810',\n",
       " '20180810',\n",
       " '20180810',\n",
       " '20180830',\n",
       " '20180830',\n",
       " '20180830',\n",
       " '20180831',\n",
       " '20180831',\n",
       " '20180831',\n",
       " '20180906',\n",
       " '20180906',\n",
       " '20180906',\n",
       " '20180907',\n",
       " '20180907',\n",
       " '20180907',\n",
       " '20180907',\n",
       " '20180910',\n",
       " '20180910',\n",
       " '20180926',\n",
       " '20180926',\n",
       " '20180927',\n",
       " '20180927',\n",
       " '20180928',\n",
       " '20180928',\n",
       " '20180928',\n",
       " '20180928',\n",
       " '20181003',\n",
       " '20181003',\n",
       " '20181005',\n",
       " '20181005',\n",
       " '20181005',\n",
       " '20181009',\n",
       " '20181011',\n",
       " '20181011',\n",
       " '20181011',\n",
       " '20181011',\n",
       " '20181011',\n",
       " '20181011',\n",
       " '20181011',\n",
       " '20181011',\n",
       " '20181011',\n",
       " '20181011',\n",
       " '20181011',\n",
       " '20181011',\n",
       " '20181011',\n",
       " '20181011',\n",
       " '20181017',\n",
       " '20181017',\n",
       " '20181017',\n",
       " '20181107',\n",
       " '20181112',\n",
       " '20181112',\n",
       " '20181112',\n",
       " '20181112',\n",
       " '20181113',\n",
       " '20181113',\n",
       " '20181113',\n",
       " '20181114',\n",
       " '20181114',\n",
       " '20181114',\n",
       " '20181114',\n",
       " '20181115',\n",
       " '20181115',\n",
       " '20181116',\n",
       " '20181116',\n",
       " '20181116',\n",
       " '20181116',\n",
       " '20181116',\n",
       " '20181116',\n",
       " '20181116',\n",
       " '20181119',\n",
       " '20181120',\n",
       " '20181120',\n",
       " '20181120',\n",
       " '20181121',\n",
       " '20181121',\n",
       " '20181121',\n",
       " '20181126',\n",
       " '20181126',\n",
       " '20181126',\n",
       " '20181127',\n",
       " '20181127',\n",
       " '20181128',\n",
       " '20181128',\n",
       " '20181129',\n",
       " '20181129',\n",
       " '20181129',\n",
       " '20181130',\n",
       " '20181130',\n",
       " '20181203',\n",
       " '20181203',\n",
       " '20181203',\n",
       " '20181204',\n",
       " '20181204',\n",
       " '20181205',\n",
       " '20181205',\n",
       " '20181206',\n",
       " '20181206',\n",
       " '20181207',\n",
       " '20181207',\n",
       " '20181210',\n",
       " '20181211',\n",
       " '20181211',\n",
       " '20181211',\n",
       " '20181211',\n",
       " '20181211',\n",
       " '20181211',\n",
       " '20181211',\n",
       " '20181211',\n",
       " '20181211',\n",
       " '20181211',\n",
       " '20181211',\n",
       " '20181211',\n",
       " '20181211',\n",
       " '20181211',\n",
       " '20181211',\n",
       " '20181211',\n",
       " '20181211',\n",
       " '20181211',\n",
       " '20181211',\n",
       " '20181211',\n",
       " '20181211',\n",
       " '20181211',\n",
       " '20181211',\n",
       " '20181211',\n",
       " '20181212',\n",
       " '20181213',\n",
       " '20181213',\n",
       " '20181213',\n",
       " '20181213',\n",
       " '20181213',\n",
       " '20181213',\n",
       " '20181213',\n",
       " '20181213',\n",
       " '20181213',\n",
       " '20181214',\n",
       " '20181214',\n",
       " '20181217',\n",
       " '20181217',\n",
       " '20181220',\n",
       " '20181220',\n",
       " '20190102',\n",
       " '20190103',\n",
       " '20190103',\n",
       " '20190104',\n",
       " '20190107',\n",
       " '20190114',\n",
       " '20190114',\n",
       " '20190116',\n",
       " '20190116',\n",
       " '20190116',\n",
       " '20190116',\n",
       " '20190204',\n",
       " '20190205',\n",
       " '20190205',\n",
       " '20190213',\n",
       " '20190218',\n",
       " '20190221',\n",
       " '20190227',\n",
       " '20190227',\n",
       " '20190227',\n",
       " '20190305',\n",
       " '20190314',\n",
       " '20190409',\n",
       " '20190411',\n",
       " '20190411',\n",
       " '20190411',\n",
       " '20190411',\n",
       " '20190411',\n",
       " '20190411',\n",
       " '20190411',\n",
       " '20190411',\n",
       " '20190411',\n",
       " '20190411',\n",
       " '20190411',\n",
       " '20190412',\n",
       " '20190412',\n",
       " '20190412',\n",
       " '20190413',\n",
       " '20190415',\n",
       " '20190415',\n",
       " '20190415',\n",
       " '20190416',\n",
       " '20190416',\n",
       " '20190416',\n",
       " '20190416',\n",
       " '20190417',\n",
       " '20190417',\n",
       " '20190418',\n",
       " '20190426',\n",
       " '20190426',\n",
       " '20190426',\n",
       " '20190502',\n",
       " '20190507',\n",
       " '20190507',\n",
       " '20190627',\n",
       " '20190627',\n",
       " '20190627',\n",
       " '20190627',\n",
       " '20190726',\n",
       " '20190726',\n",
       " '20190726',\n",
       " '20190726',\n",
       " '20190805',\n",
       " '20190805',\n",
       " '20190805',\n",
       " '20190805',\n",
       " '20190805',\n",
       " '20190805',\n",
       " '20190805',\n",
       " '20190805',\n",
       " '20190805',\n",
       " '20190812',\n",
       " '20190813',\n",
       " '20190815',\n",
       " '20190815',\n",
       " '20190816',\n",
       " '20190816',\n",
       " '20190816',\n",
       " '20190816',\n",
       " '20190819',\n",
       " '20190904',\n",
       " '20190909',\n",
       " '20190910',\n",
       " '20190910',\n",
       " '20190910',\n",
       " '20190911',\n",
       " '20190911',\n",
       " '20190911',\n",
       " '20190911',\n",
       " '20190913',\n",
       " '20190913',\n",
       " '20190916',\n",
       " '20190916',\n",
       " '20190917',\n",
       " '20190917',\n",
       " '20190918',\n",
       " '20190918',\n",
       " '20190919',\n",
       " '20190919',\n",
       " '20190920',\n",
       " '20190920',\n",
       " '20190923',\n",
       " '20190923',\n",
       " '20191005',\n",
       " '20191005',\n",
       " '20191007',\n",
       " '20191007',\n",
       " '20191011',\n",
       " '20191015',\n",
       " '20191015',\n",
       " '20191016',\n",
       " '20191016',\n",
       " '20191101',\n",
       " '20191101',\n",
       " '20191107',\n",
       " '20191107',\n",
       " '20191108',\n",
       " '20191111',\n",
       " '20191111',\n",
       " '20191112',\n",
       " '20191112',\n",
       " '20191113',\n",
       " '20191114',\n",
       " '20191114',\n",
       " '20191114',\n",
       " '20191115',\n",
       " '20191115',\n",
       " '20191115',\n",
       " '20191205',\n",
       " '20191205',\n",
       " '20191206',\n",
       " '20191206',\n",
       " '20191209',\n",
       " '20191209',\n",
       " '20191211',\n",
       " '20191211',\n",
       " '20191212',\n",
       " '20191212',\n",
       " '20191212',\n",
       " '20191213',\n",
       " '20191213',\n",
       " '20191213',\n",
       " '20191216',\n",
       " '20191216',\n",
       " '20191216',\n",
       " '20191217',\n",
       " '20191217',\n",
       " '20191217',\n",
       " '20191217',\n",
       " '20191218',\n",
       " '20191218',\n",
       " '20191218',\n",
       " '20191218',\n",
       " '20191220',\n",
       " '20200102',\n",
       " '20200102',\n",
       " '20200102',\n",
       " '20200103',\n",
       " '20200103',\n",
       " '20200108',\n",
       " '20200108',\n",
       " '20200108',\n",
       " '20200114',\n",
       " '20200114',\n",
       " '20200213',\n",
       " '20200213',\n",
       " '20200213',\n",
       " '20200213',\n",
       " '20200213',\n",
       " '20200213',\n",
       " '20200213',\n",
       " '20200213',\n",
       " '20200213',\n",
       " '20200213',\n",
       " '20200213',\n",
       " '20200213',\n",
       " '20200213',\n",
       " '20200213',\n",
       " '20200213',\n",
       " '20200213']"
      ]
     },
     "execution_count": 7,
     "metadata": {},
     "output_type": "execute_result"
    }
   ],
   "source": [
    "nev_folder_date_list"
   ]
  },
  {
   "cell_type": "code",
   "execution_count": 8,
   "id": "cca1c463",
   "metadata": {
    "scrolled": false
   },
   "outputs": [
    {
     "name": "stdout",
     "output_type": "stream",
     "text": [
      "\n",
      "20181220_Greyson_FreeReaching_001.nev opened\n",
      "\n",
      "20181220_Greyson_PG_001.nev opened\n",
      "\n",
      "20181205_Greyson_PG_002.nev opened\n",
      "\n",
      "20181205_Greyson_PG_001.nev opened\n",
      "\n",
      "20200213_Greyson_Cage_003003.nev opened\n",
      "\n",
      "20200213_Greyson_Cage_005005.nev opened\n",
      "\n",
      "20200213_Greyson_Cage_010010.nev opened\n",
      "\n",
      "20200213_Greyson_Cage_004004.nev opened\n",
      "\n",
      "20200213_Greyson_Cage_016016.nev opened\n",
      "\n",
      "20200213_Greyson_Cage_007007.nev opened\n",
      "\n",
      "20200213_Greyson_Cage_006006.nev opened\n",
      "\n",
      "20200213_Greyson_Cage_011011.nev opened\n",
      "\n",
      "20200213_Greyson_Cage_001001.nev opened\n",
      "\n",
      "20200213_Greyson_Cage_015015.nev opened\n",
      "\n",
      "20200213_Greyson_Cage_014014.nev opened\n",
      "\n",
      "20200213_Greyson_Cage_009009.nev opened\n",
      "\n",
      "20200213_Greyson_Cage_002002.nev opened\n",
      "\n",
      "20200213_Greyson_Cage_012012.nev opened\n",
      "\n",
      "20200213_Greyson_Cage_008008.nev opened\n",
      "\n",
      "20200213_Greyson_Cage_013013.nev opened\n",
      "\n",
      "20181130_Greyson_PG_002.nev opened\n",
      "\n",
      "20181130_Greyson_PG_001.nev opened\n",
      "\n",
      "20181121_Greyson_PG_002.nev opened\n",
      "\n",
      "20181121_Greyson_PG_003.nev opened\n",
      "\n",
      "20181121_Greyson_PG_001.nev opened\n",
      "\n",
      "20190910_Greyson_PG_002.nev opened\n",
      "\n",
      "20190910_Greyson_PG_003.nev opened\n",
      "\n",
      "20190910_Greyson_PG_001.nev opened\n",
      "\n",
      "*** File given does exist, try again ***\n",
      "\n",
      "Enter complete .nev file path or hit enter to browse: \n"
     ]
    },
    {
     "ename": "TypeError",
     "evalue": "stat: path should be string, bytes, os.PathLike or integer, not tuple",
     "output_type": "error",
     "traceback": [
      "\u001b[0;31m---------------------------------------------------------------------------\u001b[0m",
      "\u001b[0;31mTypeError\u001b[0m                                 Traceback (most recent call last)",
      "Input \u001b[0;32mIn [8]\u001b[0m, in \u001b[0;36m<cell line: 2>\u001b[0;34m()\u001b[0m\n\u001b[1;32m      1\u001b[0m nev_file_date_list \u001b[38;5;241m=\u001b[39m []\n\u001b[1;32m      2\u001b[0m \u001b[38;5;28;01mfor\u001b[39;00m i \u001b[38;5;129;01min\u001b[39;00m \u001b[38;5;28mrange\u001b[39m(\u001b[38;5;28mlen\u001b[39m(nev_list)):\n\u001b[0;32m----> 3\u001b[0m     nevobj \u001b[38;5;241m=\u001b[39m \u001b[43mbrpylib\u001b[49m\u001b[38;5;241;43m.\u001b[39;49m\u001b[43mNevFile\u001b[49m\u001b[43m(\u001b[49m\u001b[43mnev_list\u001b[49m\u001b[43m[\u001b[49m\u001b[43mi\u001b[49m\u001b[43m]\u001b[49m\u001b[43m)\u001b[49m\n\u001b[1;32m      4\u001b[0m     dt \u001b[38;5;241m=\u001b[39m \u001b[38;5;28mstr\u001b[39m(nevobj\u001b[38;5;241m.\u001b[39mbasic_header[\u001b[38;5;124m'\u001b[39m\u001b[38;5;124mTimeOrigin\u001b[39m\u001b[38;5;124m'\u001b[39m]\u001b[38;5;241m.\u001b[39mdate())\u001b[38;5;241m.\u001b[39mreplace(\u001b[38;5;124m'\u001b[39m\u001b[38;5;124m-\u001b[39m\u001b[38;5;124m'\u001b[39m,\u001b[38;5;124m'\u001b[39m\u001b[38;5;124m'\u001b[39m)\n\u001b[1;32m      5\u001b[0m     nev_file_date_list\u001b[38;5;241m.\u001b[39mappend(dt)\n",
      "File \u001b[0;32m~/Desktop/Jupyter_Notebooks/Miller_Lab/Database_Migration/Python_Utilities/brpylib.py:428\u001b[0m, in \u001b[0;36mNevFile.__init__\u001b[0;34m(self, datafile)\u001b[0m\n\u001b[1;32m    425\u001b[0m \u001b[38;5;28mself\u001b[39m\u001b[38;5;241m.\u001b[39mextended_headers \u001b[38;5;241m=\u001b[39m []\n\u001b[1;32m    427\u001b[0m \u001b[38;5;66;03m# Run openfilecheck and open the file passed or allow user to browse to one\u001b[39;00m\n\u001b[0;32m--> 428\u001b[0m \u001b[38;5;28mself\u001b[39m\u001b[38;5;241m.\u001b[39mdatafile \u001b[38;5;241m=\u001b[39m \u001b[43mopenfilecheck\u001b[49m\u001b[43m(\u001b[49m\u001b[38;5;124;43m'\u001b[39;49m\u001b[38;5;124;43mrb\u001b[39;49m\u001b[38;5;124;43m'\u001b[39;49m\u001b[43m,\u001b[49m\u001b[43m \u001b[49m\u001b[43mfile_name\u001b[49m\u001b[38;5;241;43m=\u001b[39;49m\u001b[38;5;28;43mself\u001b[39;49m\u001b[38;5;241;43m.\u001b[39;49m\u001b[43mdatafile\u001b[49m\u001b[43m,\u001b[49m\u001b[43m \u001b[49m\u001b[43mfile_ext\u001b[49m\u001b[38;5;241;43m=\u001b[39;49m\u001b[38;5;124;43m'\u001b[39;49m\u001b[38;5;124;43m.nev\u001b[39;49m\u001b[38;5;124;43m'\u001b[39;49m\u001b[43m,\u001b[49m\u001b[43m \u001b[49m\u001b[43mfile_type\u001b[49m\u001b[38;5;241;43m=\u001b[39;49m\u001b[38;5;124;43m'\u001b[39;49m\u001b[38;5;124;43mBlackrock NEV Files\u001b[39;49m\u001b[38;5;124;43m'\u001b[39;49m\u001b[43m)\u001b[49m\n\u001b[1;32m    430\u001b[0m \u001b[38;5;66;03m# extract basic header information\u001b[39;00m\n\u001b[1;32m    431\u001b[0m \u001b[38;5;28mself\u001b[39m\u001b[38;5;241m.\u001b[39mbasic_header \u001b[38;5;241m=\u001b[39m processheaders(\u001b[38;5;28mself\u001b[39m\u001b[38;5;241m.\u001b[39mdatafile, nev_header_dict[\u001b[38;5;124m'\u001b[39m\u001b[38;5;124mbasic\u001b[39m\u001b[38;5;124m'\u001b[39m])\n",
      "File \u001b[0;32m~/Desktop/Jupyter_Notebooks/Miller_Lab/Database_Migration/Python_Utilities/brMiscFxns.py:48\u001b[0m, in \u001b[0;36mopenfilecheck\u001b[0;34m(open_mode, file_name, file_ext, file_type)\u001b[0m\n\u001b[1;32m     44\u001b[0m         file_name \u001b[38;5;241m=\u001b[39m QFileDialog\u001b[38;5;241m.\u001b[39mgetOpenFileName(QFileDialog(), \u001b[38;5;124m\"\u001b[39m\u001b[38;5;124mSelect File\u001b[39m\u001b[38;5;124m\"\u001b[39m, getcwd(),\n\u001b[1;32m     45\u001b[0m                                                 file_type \u001b[38;5;241m+\u001b[39m \u001b[38;5;124m\"\u001b[39m\u001b[38;5;124m (*\u001b[39m\u001b[38;5;124m\"\u001b[39m \u001b[38;5;241m+\u001b[39m file_ext \u001b[38;5;241m+\u001b[39m \u001b[38;5;124m\"\u001b[39m\u001b[38;5;124m)\u001b[39m\u001b[38;5;124m\"\u001b[39m)\n\u001b[1;32m     47\u001b[0m \u001b[38;5;66;03m# Ensure file exists (really needed for users type entering)\u001b[39;00m\n\u001b[0;32m---> 48\u001b[0m \u001b[38;5;28;01mif\u001b[39;00m \u001b[43mpath\u001b[49m\u001b[38;5;241;43m.\u001b[39;49m\u001b[43misfile\u001b[49m\u001b[43m(\u001b[49m\u001b[43mfile_name\u001b[49m\u001b[43m)\u001b[49m:\n\u001b[1;32m     49\u001b[0m     \u001b[38;5;66;03m# Ensure given file matches file_ext\u001b[39;00m\n\u001b[1;32m     50\u001b[0m     \u001b[38;5;28;01mif\u001b[39;00m file_ext:\n\u001b[1;32m     51\u001b[0m         _, fext \u001b[38;5;241m=\u001b[39m path\u001b[38;5;241m.\u001b[39msplitext(file_name)\n",
      "File \u001b[0;32m/Library/Frameworks/Python.framework/Versions/3.10/lib/python3.10/genericpath.py:30\u001b[0m, in \u001b[0;36misfile\u001b[0;34m(path)\u001b[0m\n\u001b[1;32m     28\u001b[0m \u001b[38;5;124;03m\"\"\"Test whether a path is a regular file\"\"\"\u001b[39;00m\n\u001b[1;32m     29\u001b[0m \u001b[38;5;28;01mtry\u001b[39;00m:\n\u001b[0;32m---> 30\u001b[0m     st \u001b[38;5;241m=\u001b[39m \u001b[43mos\u001b[49m\u001b[38;5;241;43m.\u001b[39;49m\u001b[43mstat\u001b[49m\u001b[43m(\u001b[49m\u001b[43mpath\u001b[49m\u001b[43m)\u001b[49m\n\u001b[1;32m     31\u001b[0m \u001b[38;5;28;01mexcept\u001b[39;00m (\u001b[38;5;167;01mOSError\u001b[39;00m, \u001b[38;5;167;01mValueError\u001b[39;00m):\n\u001b[1;32m     32\u001b[0m     \u001b[38;5;28;01mreturn\u001b[39;00m \u001b[38;5;28;01mFalse\u001b[39;00m\n",
      "\u001b[0;31mTypeError\u001b[0m: stat: path should be string, bytes, os.PathLike or integer, not tuple"
     ]
    }
   ],
   "source": [
    "nev_file_date_list = []\n",
    "for i in range(len(nev_list)):\n",
    "    nevobj = brpylib.NevFile(nev_list[i])\n",
    "    dt = str(nevobj.basic_header['TimeOrigin'].date()).replace('-','')\n",
    "    nev_file_date_list.append(dt)"
   ]
  },
  {
   "cell_type": "markdown",
   "id": "7adb423a",
   "metadata": {},
   "source": [
    "# Obtain Fields"
   ]
  },
  {
   "cell_type": "markdown",
   "id": "679339cb",
   "metadata": {},
   "source": [
    "**Nev obj structure**\n",
    "\n",
    "It has three main attributes/functions: basic_header, getdata(), extended_headers. The documentation mentions others, such as processroicommments(), but the files we have do not have those.\n",
    "\n",
    "nevobj.basic_header returns a dictionary with the following keys/values:\n",
    "- **key**: 'FileTypeID', **value**: str (e.g. 'NEURALEV')\n",
    "- **key**: 'FileSpec', **value**: str with float (e.g. '2.3')\n",
    "- **key**: 'AddFlags', **value**: int (likely bool 1/0)\n",
    "- **key**: 'BytesInHeader', **value**: int\n",
    "- **key**: 'BytesInDataPackets', **value**: int\n",
    "- **key**: 'TimeStampResolution', **value**: int\n",
    "- **key**: 'SampleTimeResolution', **value**: int\n",
    "- **key**: 'TimeOrigin', **value**: datetime.datetime\n",
    "- **key**: 'CreatingApplication', **value**: str (e.g. 'File Dialog v7.0.4')\n",
    "- **key**: 'Comment', **value**: str\n",
    "- **key**: 'NumExtendedHeaders', **value**: int\n",
    "\n",
    "nevobj.getdata() takes a long time and returns a dictionary with the following structure:\n",
    "- **key**: spike_events, **value**: dict\n",
    "    - **key**: TimeStamps, **value**: list\n",
    "        - A list of times (integers) in ascending order at which spikes occur (**note**: this is NOT the same as the total duration of the session)\n",
    "        - The length of this list should, in theory, equal the number of spikes (aka threshold crossings)\n",
    "    - **key**: Unit, **value**: list\n",
    "        - A list whose length is equal to Timestamps. In all files I've opened, this list contains only 0s\n",
    "    - **key**: Channel, **value**: list\n",
    "        - A list that contains the channel number that corresponds to the spike event time in TimeStamps\n",
    "        - If the first entry of Timestamps is 30 and the first entry of Channel is 2, that means that a spike occurred in channel 2 at time 30\n",
    "    - **key**: Waveforms, ****value****: array\n",
    "        - Array shape: num timestamps x num channels\n",
    "        - The columns of this array contain the activity of the corresponding channel\n",
    "- **key**: digital_events, **value**: dict (**note: not all files have digital_events**)\n",
    "    - **key**: Timestamps, **value**: list\n",
    "        - Not the same timestamps as spike_events. Different lengths and values.\n",
    "    - **key**: InsertionReason, **value**: list\n",
    "        - A list whose length is equal to Timestamps. In all files I've opened, this list contains only 1s\n",
    "    - **key**: UnparsedData, **value**: list\n",
    "        - A list with integers that encode various task- and trial-related information. Details can be found here:  https://github.com/limblab/Behavior/blob/master/src/target/words.h\n",
    "        \n",
    "nevobj.extended_headers returns a list of dicts; the number of dicts equals 'NumExtendedHeaders' in nevobj.basic_headers. 3 dicts in a row correspond to one electrode and contain the following info:\n",
    "- dict1\n",
    "    - **key**: 'PacketID':, **value**: str (e.g. 'NEUEVWAV')\n",
    "    - **key**: 'ElectrodeID':, **value**:  int\n",
    "    - **key**: 'PhysicalConnector':, **value**: int\n",
    "    - **key**: 'ConnectorPin':, **value**:  int,\n",
    "    - **key**: 'DigitizationFactor':, **value**:  int,\n",
    "    - **key**: 'EnergyThreshold':, **value**:  int,\n",
    "    - **key**: 'HighThreshold':, **value**:  int,\n",
    "    - **key**: 'LowThreshold':, **value**:  int,\n",
    "    - **key**: 'NumSortedUnits':, **value**:  int,\n",
    "    - **key**: 'BytesPerWaveform':, **value**:  int,\n",
    "    - **key**: 'SpikeWidthSamples':, **value**:  int,\n",
    "    - **key**: 'EmptyBytes':, **value**: bytes\n",
    "- dict2: electrode number\n",
    "    - **key**: PacketID:, **value**: str 'NEUEVLBL'\n",
    "    - **key**: ElectrodeID:, **value**: int (e.g. 1, should correspond to dict1)\n",
    "    - **key**: Label:, **value**: str (the actual electrode number - e.g. 'elec78')\n",
    "    - **key**: EmptyBytes:, **value**:  bytes (e.g. b'\\x00\\x00\\x00\\x00\\x00\\x00')\n",
    "- dict3: filter information (type, frequency)\n",
    "    - **key**: PacketID, **value**: str (e.g. 'NEUEVFLT')\n",
    "    - **key**: ElectrodeID, **value**: int (e.g. 1, should corresond to dicts 1,2)\n",
    "    - **key**: HighFreqCorner, **value**: str with float (e.g. '250.0 Hz')\n",
    "    - **key**: HighFreqOrder, **value**: int (e.g. 4),\n",
    "    - **key**: HighFreqType, **value**: str (e.g. 'butterworth')\n",
    "    - **key**: LowFreqCorner, **value**: str with float (e.g. '7500.0 Hz')\n",
    "    - **key**: LowFreqOrder, **value**: int (e.g. 3)\n",
    "    - **key**: LowFreqType, **value**: str (e.g. 'butterworth')\n",
    "    - **key**: EmptyBytes, **value**: bytes\n",
    "        \n",
    "**Nsx obj structure**\n",
    "\n",
    "nsxobj.getdata() takes a few seconds a dict with the following structure:\n",
    "- **key**: elec_ids, **value**: list\n",
    "    - List of electrode id's\n",
    "- **key**: start_time_s, **value**: float\n",
    "    - Usually 0.\n",
    "- **key**: data_time_s, **value**: str\n",
    "    - In all of the files I've opened, this string has been 'all'.\n",
    "- **key**: downsample, **value**: int\n",
    "    - Likely boolean - 1s or 0s. In all the files I've opened, it's been 1.\n",
    "- **key**: data, **value**: list\n",
    "    - A list containing an array.\n",
    "- **key**: data_headers, **value**: list whose only element is a dict\n",
    "    - **key**: Timestamp, **value**: int (always 0 from what I've seen)\n",
    "    - **key**: NumDataPoints, **value**: int (with number of total data points - should equal time length of file times sampling rate)\n",
    "- **key**: ExtendedHeaderIndices, **value**: list"
   ]
  },
  {
   "cell_type": "markdown",
   "id": "605ac044",
   "metadata": {},
   "source": [
    "https://github.com/limblab/Behavior/blob/master/src/target/words.h"
   ]
  },
  {
   "cell_type": "code",
   "execution_count": 8,
   "id": "ea8a59e3",
   "metadata": {},
   "outputs": [],
   "source": [
    "# day_key - DONE\n",
    "# rec_time - DONE\n",
    "# sessions_key\n",
    "# paper_key\n",
    "# behavior_notes\n",
    "# behavior_quality\n",
    "# other_notes\n",
    "# task_id\n",
    "# lab_num\n",
    "# duration\n",
    "# numChannels\n",
    "# hasTriggers # leave nan - if you don't fill in it should be nan\n",
    "# hasChaoticLoad # leave nan - if you don't fill in it should be nan\n",
    "# hasBumps - check with kevin for encoding\n",
    "# numTrials - DONE\n",
    "# numReward - DONE\n",
    "# numAbort - DONE\n",
    "# numFail - DONE\n",
    "# numIncomplete - DONE\n",
    "# reward_size"
   ]
  },
  {
   "cell_type": "code",
   "execution_count": 9,
   "id": "dcb241c8",
   "metadata": {},
   "outputs": [],
   "source": [
    "day_key = [] #done\n",
    "rec_time = [] #done\n",
    "sessions_key = [] #obtain from sessions table\n",
    "paper_key = [] #leave nan - reference for which papers have used this data\n",
    "behavior_notes = [] #Information from daily log - something clever?\n",
    "behavior_quality = [] #Information from daily log - something clever?\n",
    "other_notes = [] #Information from daily log\n",
    "task_id = [] # target words #define WORD_TASK_CODE 0x02\n",
    "lab_num = [] # Daily Log \n",
    "duration = [] #check nev - should be in metadata\n",
    "numChannels = [] #check nev - unique entries inside threshold\n",
    "hasTriggers = [] #leave nan - if you don't fill in it should be nan\n",
    "hasChaoticLoad = [] #leave nan - if you don't fill in it should be nan\n",
    "hasBumps = [] #word_bump?\n",
    "numTrials = [] #done\n",
    "numReward = [] #done\n",
    "numAbort = [] #done\n",
    "numFail = [] #done\n",
    "numIncomplete = [] #done\n",
    "reward_size = [] #leave blank for now, fill in as we go through daily logs"
   ]
  },
  {
   "cell_type": "code",
   "execution_count": 18,
   "id": "6ba22f2c",
   "metadata": {
    "scrolled": false
   },
   "outputs": [
    {
     "name": "stdout",
     "output_type": "stream",
     "text": [
      "\n",
      "20181220_Greyson_FreeReaching_001.nev opened\n"
     ]
    }
   ],
   "source": [
    "# create one NEV File object\n",
    "shortened_nev_list = [nev_list[0]]\n",
    "for nev_filename in shortened_nev_list:\n",
    "    # open file\n",
    "    nevobj = brpylib.NevFile(nev_filename)\n",
    "    \n",
    "    # check that date in filename is same as date in basic header, if so append to day_key\n",
    "    filname_date = nev_filename[51:59]\n",
    "    dt = str(nevobj.basic_header['TimeOrigin'].date()).replace('-','')\n",
    "    assert filname_date == dt\n",
    "    #note that appending filename_date is a placeholder - should be of type int(11)\n",
    "    day_key.append(filename_date)\n",
    "    rt = str(nevobj.basic_header['TimeOrigin'].time())\n",
    "    rec_time.append(rt)\n",
    "    \n",
    "    output = nevobj.getdata(elec_ids='all')\n",
    "    \n",
    "    words = {'reward':0x20, 'abort': 0x21, 'fail': 0x22, 'incomp':0x23, 'trials':0x30}\n",
    "    words_count = {'reward':0, 'abort': 0, 'fail': 0, 'incomp':0, 'trials':0}\n",
    "\n",
    "    for word,code in words.items():\n",
    "        n_events = np.sum([((out & 0xFF00) >> 8)==code for out in output['digital_events']['UnparsedData']])\n",
    "        words_count[word] += n_events\n",
    "    numReward.append(words_count['reward'])\n",
    "    numAbort.append(words_count['abort'])\n",
    "    numFail.append(words_count['fail'])\n",
    "    numIncomplete.append(words_count['incomp'])\n",
    "    numTrials.append(words_count['trials'])"
   ]
  },
  {
   "cell_type": "code",
   "execution_count": 33,
   "id": "0cf8a7c2",
   "metadata": {},
   "outputs": [
    {
     "name": "stdout",
     "output_type": "stream",
     "text": [
      "\n",
      "20181220_Greyson_FreeReaching_001.nev opened\n"
     ]
    },
    {
     "data": {
      "text/plain": [
       "0"
      ]
     },
     "execution_count": 33,
     "metadata": {},
     "output_type": "execute_result"
    }
   ],
   "source": [
    "nevobj = brpylib.NevFile(nev_list[0])\n",
    "output = nevobj.getdata(elec_ids='all')\n",
    "output['digital_events']['UnparsedData']\n",
    "np.sum([((out & 0xFF00) >> 8)==0x02 for out in output['digital_events']['UnparsedData']])"
   ]
  },
  {
   "cell_type": "code",
   "execution_count": 36,
   "id": "72e3b7a9",
   "metadata": {},
   "outputs": [
    {
     "data": {
      "text/plain": [
       "{'FileTypeID': 'NEURALEV',\n",
       " 'FileSpec': '2.3',\n",
       " 'AddFlags': 1,\n",
       " 'BytesInHeader': 26512,\n",
       " 'BytesInDataPackets': 104,\n",
       " 'TimeStampResolution': 30000,\n",
       " 'SampleTimeResolution': 30000,\n",
       " 'TimeOrigin': datetime.datetime(2018, 12, 20, 17, 6, 59, 781000),\n",
       " 'CreatingApplication': 'File Dialog v7.0.4',\n",
       " 'Comment': '',\n",
       " 'NumExtendedHeaders': 818}"
      ]
     },
     "execution_count": 36,
     "metadata": {},
     "output_type": "execute_result"
    }
   ],
   "source": [
    "nevobj.basic_header"
   ]
  },
  {
   "cell_type": "code",
   "execution_count": 41,
   "id": "ccc10383",
   "metadata": {},
   "outputs": [
    {
     "data": {
      "text/plain": [
       "[('FileTypeID', str),\n",
       " ('FileSpec', str),\n",
       " ('AddFlags', int),\n",
       " ('BytesInHeader', int),\n",
       " ('BytesInDataPackets', int),\n",
       " ('TimeStampResolution', int),\n",
       " ('SampleTimeResolution', int),\n",
       " ('TimeOrigin', datetime.datetime),\n",
       " ('CreatingApplication', str),\n",
       " ('Comment', str),\n",
       " ('NumExtendedHeaders', int)]"
      ]
     },
     "execution_count": 41,
     "metadata": {},
     "output_type": "execute_result"
    }
   ],
   "source": [
    "[(i, type(nevobj.basic_header[i])) for i in nevobj.basic_header]"
   ]
  },
  {
   "cell_type": "code",
   "execution_count": 79,
   "id": "a633ffb0",
   "metadata": {},
   "outputs": [
    {
     "data": {
      "text/plain": [
       "'20181220'"
      ]
     },
     "execution_count": 79,
     "metadata": {},
     "output_type": "execute_result"
    }
   ],
   "source": [
    "str(NevFileObj.basic_header['TimeOrigin'].date()).replace('-','')"
   ]
  },
  {
   "cell_type": "markdown",
   "id": "6a7d9610",
   "metadata": {},
   "source": [
    "Examining Spike Events. Waveforms array (shape (426190, 96)) contains 96 copies of the EXACT SAME signal. Confirmed this by looking at individual rows of waveform and getting distinct values in each row (each row had 1 distinct value)."
   ]
  },
  {
   "cell_type": "code",
   "execution_count": 35,
   "id": "fc40aef7",
   "metadata": {},
   "outputs": [
    {
     "data": {
      "text/plain": [
       "4"
      ]
     },
     "execution_count": 35,
     "metadata": {},
     "output_type": "execute_result"
    }
   ],
   "source": [
    "len(output['spike_events'])"
   ]
  },
  {
   "cell_type": "code",
   "execution_count": 52,
   "id": "414cc93e",
   "metadata": {},
   "outputs": [
    {
     "data": {
      "text/plain": [
       "(426190, list)"
      ]
     },
     "execution_count": 52,
     "metadata": {},
     "output_type": "execute_result"
    }
   ],
   "source": [
    "len(output['spike_events']['TimeStamps']), type(output['spike_events']['TimeStamps'])"
   ]
  },
  {
   "cell_type": "code",
   "execution_count": 53,
   "id": "9b1fb985",
   "metadata": {},
   "outputs": [
    {
     "data": {
      "text/plain": [
       "(426190, list)"
      ]
     },
     "execution_count": 53,
     "metadata": {},
     "output_type": "execute_result"
    }
   ],
   "source": [
    "len(output['spike_events']['Unit']), type(output['spike_events']['Unit'])"
   ]
  },
  {
   "cell_type": "code",
   "execution_count": 54,
   "id": "f3c515ef",
   "metadata": {},
   "outputs": [
    {
     "data": {
      "text/plain": [
       "(426190, list)"
      ]
     },
     "execution_count": 54,
     "metadata": {},
     "output_type": "execute_result"
    }
   ],
   "source": [
    "len(output['spike_events']['Channel']), type(output['spike_events']['Channel'])"
   ]
  },
  {
   "cell_type": "code",
   "execution_count": 55,
   "id": "2df1d213",
   "metadata": {},
   "outputs": [
    {
     "data": {
      "text/plain": [
       "array([ 1,  2,  3,  4,  5,  6,  7,  8,  9, 10, 11, 12, 13, 14, 15, 16, 17,\n",
       "       18, 19, 20, 21, 22, 23, 24, 25, 26, 27, 28, 29, 30, 31, 32, 33, 34,\n",
       "       35, 36, 37, 38, 39, 40, 41, 42, 43, 44, 45, 46, 47, 48, 49, 50, 51,\n",
       "       52, 53, 54, 55, 56, 57, 58, 59, 60, 61, 62, 63, 64, 65, 66, 67, 68,\n",
       "       69, 70, 71, 72, 73, 74, 75, 76, 77, 78, 79, 80, 81, 82, 83, 84, 85,\n",
       "       86, 87, 88, 89, 90, 91, 92, 93, 94, 95, 96], dtype=uint16)"
      ]
     },
     "execution_count": 55,
     "metadata": {},
     "output_type": "execute_result"
    }
   ],
   "source": [
    "np.unique(output['spike_events']['Channel'])"
   ]
  },
  {
   "cell_type": "code",
   "execution_count": 56,
   "id": "f7d36055",
   "metadata": {
    "scrolled": true
   },
   "outputs": [
    {
     "data": {
      "text/plain": [
       "((426190, 96), numpy.ndarray)"
      ]
     },
     "execution_count": 56,
     "metadata": {},
     "output_type": "execute_result"
    }
   ],
   "source": [
    "output['spike_events']['Waveforms'].shape, type(output['spike_events']['Waveforms'])"
   ]
  },
  {
   "cell_type": "code",
   "execution_count": 58,
   "id": "b40c478f",
   "metadata": {},
   "outputs": [
    {
     "data": {
      "text/plain": [
       "True"
      ]
     },
     "execution_count": 58,
     "metadata": {},
     "output_type": "execute_result"
    }
   ],
   "source": [
    "brMiscFxns.checkequal(output['spike_events']['Waveforms'][0,:])"
   ]
  },
  {
   "cell_type": "code",
   "execution_count": 59,
   "id": "3f6f1cc2",
   "metadata": {},
   "outputs": [
    {
     "data": {
      "text/plain": [
       "True"
      ]
     },
     "execution_count": 59,
     "metadata": {},
     "output_type": "execute_result"
    }
   ],
   "source": [
    "brMiscFxns.checkequal(output['spike_events']['Waveforms'][0])"
   ]
  },
  {
   "cell_type": "markdown",
   "id": "73685f36",
   "metadata": {},
   "source": [
    "#### Digital Events"
   ]
  },
  {
   "cell_type": "code",
   "execution_count": 32,
   "id": "455e998b",
   "metadata": {},
   "outputs": [
    {
     "ename": "NameError",
     "evalue": "name 'output' is not defined",
     "output_type": "error",
     "traceback": [
      "\u001b[0;31m---------------------------------------------------------------------------\u001b[0m",
      "\u001b[0;31mNameError\u001b[0m                                 Traceback (most recent call last)",
      "Input \u001b[0;32mIn [32]\u001b[0m, in \u001b[0;36m<cell line: 6>\u001b[0;34m()\u001b[0m\n\u001b[1;32m      1\u001b[0m tasks \u001b[38;5;241m=\u001b[39m {\u001b[38;5;124m'\u001b[39m\u001b[38;5;124mCO\u001b[39m\u001b[38;5;124m'\u001b[39m:\u001b[38;5;241m0x01\u001b[39m, \u001b[38;5;124m'\u001b[39m\u001b[38;5;124mRW\u001b[39m\u001b[38;5;124m'\u001b[39m:\u001b[38;5;241m0x02\u001b[39m, \u001b[38;5;124m'\u001b[39m\u001b[38;5;124mFC\u001b[39m\u001b[38;5;124m'\u001b[39m:\u001b[38;5;241m0x03\u001b[39m, \u001b[38;5;124m'\u001b[39m\u001b[38;5;124mMG\u001b[39m\u001b[38;5;124m'\u001b[39m:\u001b[38;5;241m0x06\u001b[39m, \u001b[38;5;124m'\u001b[39m\u001b[38;5;124mWF\u001b[39m\u001b[38;5;124m'\u001b[39m:\u001b[38;5;241m0x07\u001b[39m}\n\u001b[1;32m      2\u001b[0m \u001b[38;5;66;03m# for task,code in tasks.items():\u001b[39;00m\n\u001b[1;32m      3\u001b[0m \u001b[38;5;66;03m#     n_events = np.sum([((out & 0xFF00) >> 8)< for out in output['digital_events']['UnparsedData']])\u001b[39;00m\n\u001b[1;32m      4\u001b[0m \u001b[38;5;66;03m#     print(f\"{task}: {n_events}\")\u001b[39;00m\n\u001b[0;32m----> 6\u001b[0m np\u001b[38;5;241m.\u001b[39munique([((out \u001b[38;5;241m&\u001b[39m \u001b[38;5;241m0xFF00\u001b[39m) \u001b[38;5;241m>>\u001b[39m \u001b[38;5;241m8\u001b[39m) \u001b[38;5;28;01mfor\u001b[39;00m out \u001b[38;5;129;01min\u001b[39;00m \u001b[43moutput\u001b[49m[\u001b[38;5;124m'\u001b[39m\u001b[38;5;124mdigital_events\u001b[39m\u001b[38;5;124m'\u001b[39m][\u001b[38;5;124m'\u001b[39m\u001b[38;5;124mUnparsedData\u001b[39m\u001b[38;5;124m'\u001b[39m] \u001b[38;5;28;01mif\u001b[39;00m ((out \u001b[38;5;241m&\u001b[39m \u001b[38;5;241m0xFF00\u001b[39m) \u001b[38;5;241m>>\u001b[39m \u001b[38;5;241m8\u001b[39m)\u001b[38;5;241m<\u001b[39m\u001b[38;5;241m0x10\u001b[39m])\n",
      "\u001b[0;31mNameError\u001b[0m: name 'output' is not defined"
     ]
    }
   ],
   "source": [
    "tasks = {'CO':0x01, 'RW':0x02, 'FC':0x03, 'MG':0x06, 'WF':0x07}\n",
    "# for task,code in tasks.items():\n",
    "#     n_events = np.sum([((out & 0xFF00) >> 8)< for out in output['digital_events']['UnparsedData']])\n",
    "#     print(f\"{task}: {n_events}\")\n",
    "\n",
    "np.unique([((out & 0xFF00) >> 8) for out in output['digital_events']['UnparsedData'] if ((out & 0xFF00) >> 8)<0x10])\n",
    "\n",
    "#if TASK_CO\n",
    "#define WORD_TASK_CODE 0x01\n",
    "#elif TASK_RW\n",
    "#define WORD_TASK_CODE 0x02\n",
    "#elif TASK_FC\n",
    "#define WORD_TASK_CODE 0x03\n",
    "#elif TASK_MG\n",
    "#define WORD_TASK_CODE 0x06\n",
    "#elif TASK_WF\n",
    "#define WORD_TASK_CODE 0x07\n",
    "#elif TASK_UC || TASK_UN || TASK_UN1D\n",
    "#define WORD_TASK_CODE 0x08\n",
    "#elif TASK_BD\n",
    "#define WORD_TASK_CODE 0x09\n",
    "#elif TASK_BC\n",
    "#define WORD_TASK_CODE 0x0A\n",
    "#elif TASK_VS\n",
    "#define WORD_TASK_CODE 0x0B\n",
    "#elif TASK_BF\n",
    "#define WORD_TASK_CODE 0x0C\n",
    "#elif TASK_2AFC\n",
    "#define WORD_TASK_CODE 0x0D\n",
    "#elif TASK_AT\n",
    "#define WORD_TASK_CODE 0x0E\n",
    "#elif TASK_DB_DEFINED\n",
    "#define WORD_TASK_CODE 0x0F /* this is an escape indicating that the task will be specified by the databurst */\n",
    "#endif"
   ]
  },
  {
   "cell_type": "code",
   "execution_count": null,
   "id": "8a24dc57",
   "metadata": {},
   "outputs": [],
   "source": [
    "# 0xFF00 keeps the first 8 bits \n",
    "# out & 0xFF00 finds the first 8 bits of out\n",
    "# >> 8 shifts it over by 8 bits\n",
    "# out is in integer that encodes important information\n",
    "temp_list = [((out & 0xFF00) >> 8) for out in output['digital_events']['UnparsedData']]\n",
    "has_bumps = np.any(np.isin(temp_list, np.arange(0x50,0x5F)))"
   ]
  },
  {
   "cell_type": "markdown",
   "id": "56115b2b",
   "metadata": {},
   "source": [
    "## Nsx file explortation\n",
    "\n",
    "nsx file sampling rates:\n",
    "- 1: 500\n",
    "- 2: 1000\n",
    "- 3: 2000\n",
    "- 4: 10000\n",
    "- 5: 30000\n",
    "- 6: 30000 (raw)"
   ]
  },
  {
   "cell_type": "code",
   "execution_count": 13,
   "id": "f9155ab4",
   "metadata": {},
   "outputs": [
    {
     "name": "stdout",
     "output_type": "stream",
     "text": [
      "\n",
      "20181220_Greyson_FreeReaching_001.ns3 opened\n"
     ]
    }
   ],
   "source": [
    "nsxfileobjs = []\n",
    "for nsx_file in nsx_list[1:2]:\n",
    "    NsxFileObj = brpylib.NsxFile(nsx_file)\n",
    "    nsxfileobjs.append(NsxFileObj.getdata())"
   ]
  },
  {
   "cell_type": "code",
   "execution_count": 20,
   "id": "4f6e0539",
   "metadata": {},
   "outputs": [
    {
     "name": "stdout",
     "output_type": "stream",
     "text": [
      "\n",
      "20181220_Greyson_FreeReaching_001.ns3 opened\n"
     ]
    }
   ],
   "source": [
    "_20181220_Greyson_FreeReaching_001_ns3 = brpylib.NsxFile(nsx_file)"
   ]
  },
  {
   "cell_type": "code",
   "execution_count": 21,
   "id": "82b4d213",
   "metadata": {},
   "outputs": [
    {
     "data": {
      "text/plain": [
       "{'FileTypeID': 'NEURALCD',\n",
       " 'FileSpec': '2.3',\n",
       " 'BytesInHeader': 1238,\n",
       " 'Label': '2 kS/s',\n",
       " 'Comment': '',\n",
       " 'Period': 15,\n",
       " 'TimeStampResolution': 30000,\n",
       " 'TimeOrigin': datetime.datetime(2018, 12, 20, 17, 6, 59, 785000),\n",
       " 'ChannelCount': 14}"
      ]
     },
     "execution_count": 21,
     "metadata": {},
     "output_type": "execute_result"
    }
   ],
   "source": [
    "_20181220_Greyson_FreeReaching_001_ns3.basic_header"
   ]
  },
  {
   "cell_type": "code",
   "execution_count": 23,
   "id": "d4e518ad",
   "metadata": {},
   "outputs": [
    {
     "data": {
      "text/plain": [
       "[{'Type': 'CC',\n",
       "  'ElectrodeID': 257,\n",
       "  'ElectrodeLabel': 'EMG_FDP2',\n",
       "  'PhysicalConnector': 9,\n",
       "  'ConnectorPin': 1,\n",
       "  'MinDigitalValue': -32767,\n",
       "  'MaxDigitalValue': 32767,\n",
       "  'MinAnalogValue': -5000,\n",
       "  'MaxAnalogValue': 5000,\n",
       "  'Units': 'mV',\n",
       "  'HighFreqCorner': '10.0 Hz',\n",
       "  'HighFreqOrder': 2,\n",
       "  'HighFreqType': 'butterworth',\n",
       "  'LowFreqCorner': '250.0 Hz',\n",
       "  'LowFreqOrder': 2,\n",
       "  'LowFreqType': 'butterworth'},\n",
       " {'Type': 'CC',\n",
       "  'ElectrodeID': 258,\n",
       "  'ElectrodeLabel': 'EMG_FCU1',\n",
       "  'PhysicalConnector': 9,\n",
       "  'ConnectorPin': 2,\n",
       "  'MinDigitalValue': -32767,\n",
       "  'MaxDigitalValue': 32767,\n",
       "  'MinAnalogValue': -5000,\n",
       "  'MaxAnalogValue': 5000,\n",
       "  'Units': 'mV',\n",
       "  'HighFreqCorner': '10.0 Hz',\n",
       "  'HighFreqOrder': 2,\n",
       "  'HighFreqType': 'butterworth',\n",
       "  'LowFreqCorner': '250.0 Hz',\n",
       "  'LowFreqOrder': 2,\n",
       "  'LowFreqType': 'butterworth'},\n",
       " {'Type': 'CC',\n",
       "  'ElectrodeID': 259,\n",
       "  'ElectrodeLabel': 'EMG_FCR1',\n",
       "  'PhysicalConnector': 9,\n",
       "  'ConnectorPin': 3,\n",
       "  'MinDigitalValue': -32767,\n",
       "  'MaxDigitalValue': 32767,\n",
       "  'MinAnalogValue': -5000,\n",
       "  'MaxAnalogValue': 5000,\n",
       "  'Units': 'mV',\n",
       "  'HighFreqCorner': '10.0 Hz',\n",
       "  'HighFreqOrder': 2,\n",
       "  'HighFreqType': 'butterworth',\n",
       "  'LowFreqCorner': '250.0 Hz',\n",
       "  'LowFreqOrder': 2,\n",
       "  'LowFreqType': 'butterworth'},\n",
       " {'Type': 'CC',\n",
       "  'ElectrodeID': 260,\n",
       "  'ElectrodeLabel': 'EMG_FDP1',\n",
       "  'PhysicalConnector': 9,\n",
       "  'ConnectorPin': 4,\n",
       "  'MinDigitalValue': -32767,\n",
       "  'MaxDigitalValue': 32767,\n",
       "  'MinAnalogValue': -5000,\n",
       "  'MaxAnalogValue': 5000,\n",
       "  'Units': 'mV',\n",
       "  'HighFreqCorner': '10.0 Hz',\n",
       "  'HighFreqOrder': 2,\n",
       "  'HighFreqType': 'butterworth',\n",
       "  'LowFreqCorner': '250.0 Hz',\n",
       "  'LowFreqOrder': 2,\n",
       "  'LowFreqType': 'butterworth'},\n",
       " {'Type': 'CC',\n",
       "  'ElectrodeID': 261,\n",
       "  'ElectrodeLabel': 'EMG_FDS1',\n",
       "  'PhysicalConnector': 9,\n",
       "  'ConnectorPin': 5,\n",
       "  'MinDigitalValue': -32767,\n",
       "  'MaxDigitalValue': 32767,\n",
       "  'MinAnalogValue': -5000,\n",
       "  'MaxAnalogValue': 5000,\n",
       "  'Units': 'mV',\n",
       "  'HighFreqCorner': '10.0 Hz',\n",
       "  'HighFreqOrder': 2,\n",
       "  'HighFreqType': 'butterworth',\n",
       "  'LowFreqCorner': '250.0 Hz',\n",
       "  'LowFreqOrder': 2,\n",
       "  'LowFreqType': 'butterworth'},\n",
       " {'Type': 'CC',\n",
       "  'ElectrodeID': 262,\n",
       "  'ElectrodeLabel': 'EMG_FDS2',\n",
       "  'PhysicalConnector': 9,\n",
       "  'ConnectorPin': 6,\n",
       "  'MinDigitalValue': -32767,\n",
       "  'MaxDigitalValue': 32767,\n",
       "  'MinAnalogValue': -5000,\n",
       "  'MaxAnalogValue': 5000,\n",
       "  'Units': 'mV',\n",
       "  'HighFreqCorner': '10.0 Hz',\n",
       "  'HighFreqOrder': 2,\n",
       "  'HighFreqType': 'butterworth',\n",
       "  'LowFreqCorner': '250.0 Hz',\n",
       "  'LowFreqOrder': 2,\n",
       "  'LowFreqType': 'butterworth'},\n",
       " {'Type': 'CC',\n",
       "  'ElectrodeID': 263,\n",
       "  'ElectrodeLabel': 'EMG_APB',\n",
       "  'PhysicalConnector': 9,\n",
       "  'ConnectorPin': 7,\n",
       "  'MinDigitalValue': -32767,\n",
       "  'MaxDigitalValue': 32767,\n",
       "  'MinAnalogValue': -5000,\n",
       "  'MaxAnalogValue': 5000,\n",
       "  'Units': 'mV',\n",
       "  'HighFreqCorner': '10.0 Hz',\n",
       "  'HighFreqOrder': 2,\n",
       "  'HighFreqType': 'butterworth',\n",
       "  'LowFreqCorner': '250.0 Hz',\n",
       "  'LowFreqOrder': 2,\n",
       "  'LowFreqType': 'butterworth'},\n",
       " {'Type': 'CC',\n",
       "  'ElectrodeID': 264,\n",
       "  'ElectrodeLabel': 'EMG_FPB',\n",
       "  'PhysicalConnector': 9,\n",
       "  'ConnectorPin': 8,\n",
       "  'MinDigitalValue': -32767,\n",
       "  'MaxDigitalValue': 32767,\n",
       "  'MinAnalogValue': -5000,\n",
       "  'MaxAnalogValue': 5000,\n",
       "  'Units': 'mV',\n",
       "  'HighFreqCorner': '10.0 Hz',\n",
       "  'HighFreqOrder': 2,\n",
       "  'HighFreqType': 'butterworth',\n",
       "  'LowFreqCorner': '250.0 Hz',\n",
       "  'LowFreqOrder': 2,\n",
       "  'LowFreqType': 'butterworth'},\n",
       " {'Type': 'CC',\n",
       "  'ElectrodeID': 265,\n",
       "  'ElectrodeLabel': 'EMG_LUM',\n",
       "  'PhysicalConnector': 9,\n",
       "  'ConnectorPin': 9,\n",
       "  'MinDigitalValue': -32767,\n",
       "  'MaxDigitalValue': 32767,\n",
       "  'MinAnalogValue': -5000,\n",
       "  'MaxAnalogValue': 5000,\n",
       "  'Units': 'mV',\n",
       "  'HighFreqCorner': '10.0 Hz',\n",
       "  'HighFreqOrder': 2,\n",
       "  'HighFreqType': 'butterworth',\n",
       "  'LowFreqCorner': '250.0 Hz',\n",
       "  'LowFreqOrder': 2,\n",
       "  'LowFreqType': 'butterworth'},\n",
       " {'Type': 'CC',\n",
       "  'ElectrodeID': 266,\n",
       "  'ElectrodeLabel': 'EMG_FDI',\n",
       "  'PhysicalConnector': 9,\n",
       "  'ConnectorPin': 10,\n",
       "  'MinDigitalValue': -32767,\n",
       "  'MaxDigitalValue': 32767,\n",
       "  'MinAnalogValue': -5000,\n",
       "  'MaxAnalogValue': 5000,\n",
       "  'Units': 'mV',\n",
       "  'HighFreqCorner': '10.0 Hz',\n",
       "  'HighFreqOrder': 2,\n",
       "  'HighFreqType': 'butterworth',\n",
       "  'LowFreqCorner': '250.0 Hz',\n",
       "  'LowFreqOrder': 2,\n",
       "  'LowFreqType': 'butterworth'},\n",
       " {'Type': 'CC',\n",
       "  'ElectrodeID': 267,\n",
       "  'ElectrodeLabel': 'EMG_EDC3',\n",
       "  'PhysicalConnector': 9,\n",
       "  'ConnectorPin': 11,\n",
       "  'MinDigitalValue': -32767,\n",
       "  'MaxDigitalValue': 32767,\n",
       "  'MinAnalogValue': -5000,\n",
       "  'MaxAnalogValue': 5000,\n",
       "  'Units': 'mV',\n",
       "  'HighFreqCorner': '10.0 Hz',\n",
       "  'HighFreqOrder': 2,\n",
       "  'HighFreqType': 'butterworth',\n",
       "  'LowFreqCorner': '250.0 Hz',\n",
       "  'LowFreqOrder': 2,\n",
       "  'LowFreqType': 'butterworth'},\n",
       " {'Type': 'CC',\n",
       "  'ElectrodeID': 268,\n",
       "  'ElectrodeLabel': 'EMG_EDC1',\n",
       "  'PhysicalConnector': 9,\n",
       "  'ConnectorPin': 12,\n",
       "  'MinDigitalValue': -32767,\n",
       "  'MaxDigitalValue': 32767,\n",
       "  'MinAnalogValue': -5000,\n",
       "  'MaxAnalogValue': 5000,\n",
       "  'Units': 'mV',\n",
       "  'HighFreqCorner': '10.0 Hz',\n",
       "  'HighFreqOrder': 2,\n",
       "  'HighFreqType': 'butterworth',\n",
       "  'LowFreqCorner': '250.0 Hz',\n",
       "  'LowFreqOrder': 2,\n",
       "  'LowFreqType': 'butterworth'},\n",
       " {'Type': 'CC',\n",
       "  'ElectrodeID': 271,\n",
       "  'ElectrodeLabel': 'Force_x',\n",
       "  'PhysicalConnector': 9,\n",
       "  'ConnectorPin': 15,\n",
       "  'MinDigitalValue': -32767,\n",
       "  'MaxDigitalValue': 32767,\n",
       "  'MinAnalogValue': -5000,\n",
       "  'MaxAnalogValue': 5000,\n",
       "  'Units': 'mV',\n",
       "  'HighFreqCorner': '0.0 Hz',\n",
       "  'HighFreqOrder': 0,\n",
       "  'HighFreqType': 'none',\n",
       "  'LowFreqCorner': '0.0 Hz',\n",
       "  'LowFreqOrder': 0,\n",
       "  'LowFreqType': 'none'},\n",
       " {'Type': 'CC',\n",
       "  'ElectrodeID': 272,\n",
       "  'ElectrodeLabel': 'Force_y',\n",
       "  'PhysicalConnector': 9,\n",
       "  'ConnectorPin': 16,\n",
       "  'MinDigitalValue': -32767,\n",
       "  'MaxDigitalValue': 32767,\n",
       "  'MinAnalogValue': -5000,\n",
       "  'MaxAnalogValue': 5000,\n",
       "  'Units': 'mV',\n",
       "  'HighFreqCorner': '0.0 Hz',\n",
       "  'HighFreqOrder': 0,\n",
       "  'HighFreqType': 'none',\n",
       "  'LowFreqCorner': '0.0 Hz',\n",
       "  'LowFreqOrder': 0,\n",
       "  'LowFreqType': 'none'}]"
      ]
     },
     "execution_count": 23,
     "metadata": {},
     "output_type": "execute_result"
    }
   ],
   "source": [
    "_20181220_Greyson_FreeReaching_001_ns3.extended_headers"
   ]
  },
  {
   "cell_type": "code",
   "execution_count": null,
   "id": "dec13a70",
   "metadata": {},
   "outputs": [],
   "source": []
  },
  {
   "cell_type": "code",
   "execution_count": 14,
   "id": "65acd36d",
   "metadata": {
    "scrolled": true
   },
   "outputs": [
    {
     "data": {
      "text/plain": [
       "1"
      ]
     },
     "execution_count": 14,
     "metadata": {},
     "output_type": "execute_result"
    }
   ],
   "source": [
    "len(nsxfileobjs)"
   ]
  },
  {
   "cell_type": "code",
   "execution_count": 15,
   "id": "0da11ecb",
   "metadata": {},
   "outputs": [],
   "source": [
    "output_nsx = nsxfileobjs[0]"
   ]
  },
  {
   "cell_type": "code",
   "execution_count": 16,
   "id": "08cfa01c",
   "metadata": {},
   "outputs": [
    {
     "data": {
      "text/plain": [
       "dict"
      ]
     },
     "execution_count": 16,
     "metadata": {},
     "output_type": "execute_result"
    }
   ],
   "source": [
    "type(output_nsx)"
   ]
  },
  {
   "cell_type": "code",
   "execution_count": 17,
   "id": "aadae7a5",
   "metadata": {},
   "outputs": [
    {
     "data": {
      "text/plain": [
       "[('elec_ids', list),\n",
       " ('start_time_s', float),\n",
       " ('data_time_s', str),\n",
       " ('downsample', int),\n",
       " ('data', list),\n",
       " ('data_headers', list),\n",
       " ('ExtendedHeaderIndices', list)]"
      ]
     },
     "execution_count": 17,
     "metadata": {},
     "output_type": "execute_result"
    }
   ],
   "source": [
    "[(i, type(output_nsx[i])) for i in output_nsx]"
   ]
  },
  {
   "cell_type": "markdown",
   "id": "e1a36cf7",
   "metadata": {},
   "source": [
    "\n",
    "- **key**: data, **value**: list\n",
    "- **key**: data_headers, **value**: list\n",
    "- **key**: ExtendedHeaderIndices, **value**: list"
   ]
  },
  {
   "cell_type": "code",
   "execution_count": 39,
   "id": "c3ca500c",
   "metadata": {},
   "outputs": [
    {
     "data": {
      "text/plain": [
       "<Python_Utilities.brpylib.NsxFile at 0x148e37070>"
      ]
     },
     "execution_count": 39,
     "metadata": {},
     "output_type": "execute_result"
    }
   ],
   "source": [
    "nsxfileobjs[0]"
   ]
  },
  {
   "cell_type": "code",
   "execution_count": 45,
   "id": "765bafe4",
   "metadata": {},
   "outputs": [
    {
     "name": "stdout",
     "output_type": "stream",
     "text": [
      "[257, 258, 259, 260, 261, 262, 263, 264, 265, 266, 267, 268, 271, 272] 14\n",
      "[257, 258, 259, 260, 261, 262, 263, 264, 265, 266, 267, 268, 271, 272] 14\n",
      "[257, 258, 259, 260, 261, 262, 263, 264, 265, 266, 267, 268, 271, 272] 14\n",
      "[257, 258, 259, 260, 261, 262, 263, 264, 265, 266, 267, 268, 271, 272] 14\n",
      "[1, 2, 3, 4, 5, 6, 7, 8, 9, 10, 11, 12, 13, 14, 15, 16, 17, 18, 19, 20, 21, 22, 23, 24, 25, 26, 27, 28, 29, 30, 31, 32, 33, 34, 35, 36, 37, 38, 39, 40, 41, 42, 43, 44, 45, 46, 47, 48, 49, 50, 51, 52, 53, 54, 55, 56, 57, 58, 59, 60, 61, 62, 63, 64, 65, 66, 67, 68, 69, 70, 71, 72, 73, 74, 75, 76, 77, 78, 79, 80, 81, 82, 83, 84, 85, 86, 87, 88, 89, 90, 91, 92, 93, 94, 95, 96] 96\n",
      "[1, 2, 3, 4, 5, 6, 7, 8, 9, 10, 11, 12, 13, 14, 15, 16, 17, 18, 19, 20, 21, 22, 23, 24, 25, 26, 27, 28, 29, 30, 31, 32, 33, 34, 35, 36, 37, 38, 39, 40, 41, 42, 43, 44, 45, 46, 47, 48, 49, 50, 51, 52, 53, 54, 55, 56, 57, 58, 59, 60, 61, 62, 63, 64, 65, 66, 67, 68, 69, 70, 71, 72, 73, 74, 75, 76, 77, 78, 79, 80, 81, 82, 83, 84, 85, 86, 87, 88, 89, 90, 91, 92, 93, 94, 95, 96] 96\n",
      "[1, 2, 3, 4, 5, 6, 7, 8, 9, 10, 11, 12, 13, 14, 15, 16, 17, 18, 19, 20, 21, 22, 23, 24, 25, 26, 27, 28, 29, 30, 31, 32, 33, 34, 35, 36, 37, 38, 39, 40, 41, 42, 43, 44, 45, 46, 47, 48, 49, 50, 51, 52, 53, 54, 55, 56, 57, 58, 59, 60, 61, 62, 63, 64, 65, 66, 67, 68, 69, 70, 71, 72, 73, 74, 75, 76, 77, 78, 79, 80, 81, 82, 83, 84, 85, 86, 87, 88, 89, 90, 91, 92, 93, 94, 95, 96] 96\n",
      "[1, 2, 3, 4, 5, 6, 7, 8, 9, 10, 11, 12, 13, 14, 15, 16, 17, 18, 19, 20, 21, 22, 23, 24, 25, 26, 27, 28, 29, 30, 31, 32, 33, 34, 35, 36, 37, 38, 39, 40, 41, 42, 43, 44, 45, 46, 47, 48, 49, 50, 51, 52, 53, 54, 55, 56, 57, 58, 59, 60, 61, 62, 63, 64, 65, 66, 67, 68, 69, 70, 71, 72, 73, 74, 75, 76, 77, 78, 79, 80, 81, 82, 83, 84, 85, 86, 87, 88, 89, 90, 91, 92, 93, 94, 95, 96] 96\n"
     ]
    }
   ],
   "source": [
    "# 14 electrodes\n",
    "for o in nsxfileobjs:\n",
    "    print(o['elec_ids'], len(o['elec_ids']))"
   ]
  },
  {
   "cell_type": "code",
   "execution_count": 34,
   "id": "acf66a2f",
   "metadata": {},
   "outputs": [
    {
     "data": {
      "text/plain": [
       "(1, numpy.ndarray)"
      ]
     },
     "execution_count": 34,
     "metadata": {},
     "output_type": "execute_result"
    }
   ],
   "source": [
    "len(output_nsx['data']), type(output_nsx['data'][0])"
   ]
  },
  {
   "cell_type": "code",
   "execution_count": null,
   "id": "f24c9a2d",
   "metadata": {},
   "outputs": [],
   "source": [
    "nsxfileobjs"
   ]
  },
  {
   "cell_type": "markdown",
   "id": "37d0e7b3",
   "metadata": {},
   "source": [
    "14 electrodes, 1800020 data points"
   ]
  },
  {
   "cell_type": "code",
   "execution_count": 18,
   "id": "571aea41",
   "metadata": {
    "scrolled": true
   },
   "outputs": [
    {
     "data": {
      "text/plain": [
       "(1200020, 14)"
      ]
     },
     "execution_count": 18,
     "metadata": {},
     "output_type": "execute_result"
    }
   ],
   "source": [
    "output_nsx['data'][0].shape"
   ]
  },
  {
   "cell_type": "code",
   "execution_count": 19,
   "id": "2dde4b64",
   "metadata": {},
   "outputs": [
    {
     "data": {
      "text/plain": [
       "[{'Timestamp': 0, 'NumDataPoints': 1200020}]"
      ]
     },
     "execution_count": 19,
     "metadata": {},
     "output_type": "execute_result"
    }
   ],
   "source": [
    "output_nsx['data_headers']"
   ]
  },
  {
   "cell_type": "code",
   "execution_count": 87,
   "id": "b624b264",
   "metadata": {},
   "outputs": [
    {
     "data": {
      "text/plain": [
       "[0, 1, 2, 3, 4, 5, 6, 7, 8, 9, 10, 11, 12, 13]"
      ]
     },
     "execution_count": 87,
     "metadata": {},
     "output_type": "execute_result"
    }
   ],
   "source": [
    "output_nsx['ExtendedHeaderIndices']"
   ]
  },
  {
   "cell_type": "markdown",
   "id": "fc3f8ede",
   "metadata": {},
   "source": [
    "nsx file extended headers contain information on each of the 14 electrodes, including id, electrode label, high and low frequency type"
   ]
  },
  {
   "cell_type": "code",
   "execution_count": 106,
   "id": "7d9e68d2",
   "metadata": {},
   "outputs": [
    {
     "data": {
      "text/plain": [
       "[{'Type': 'CC',\n",
       "  'ElectrodeID': 257,\n",
       "  'ElectrodeLabel': 'EMG_FDP2',\n",
       "  'PhysicalConnector': 9,\n",
       "  'ConnectorPin': 1,\n",
       "  'MinDigitalValue': -32767,\n",
       "  'MaxDigitalValue': 32767,\n",
       "  'MinAnalogValue': -5000,\n",
       "  'MaxAnalogValue': 5000,\n",
       "  'Units': 'mV',\n",
       "  'HighFreqCorner': '10.0 Hz',\n",
       "  'HighFreqOrder': 2,\n",
       "  'HighFreqType': 'butterworth',\n",
       "  'LowFreqCorner': '250.0 Hz',\n",
       "  'LowFreqOrder': 2,\n",
       "  'LowFreqType': 'butterworth'},\n",
       " {'Type': 'CC',\n",
       "  'ElectrodeID': 258,\n",
       "  'ElectrodeLabel': 'EMG_FCU1',\n",
       "  'PhysicalConnector': 9,\n",
       "  'ConnectorPin': 2,\n",
       "  'MinDigitalValue': -32767,\n",
       "  'MaxDigitalValue': 32767,\n",
       "  'MinAnalogValue': -5000,\n",
       "  'MaxAnalogValue': 5000,\n",
       "  'Units': 'mV',\n",
       "  'HighFreqCorner': '10.0 Hz',\n",
       "  'HighFreqOrder': 2,\n",
       "  'HighFreqType': 'butterworth',\n",
       "  'LowFreqCorner': '250.0 Hz',\n",
       "  'LowFreqOrder': 2,\n",
       "  'LowFreqType': 'butterworth'},\n",
       " {'Type': 'CC',\n",
       "  'ElectrodeID': 259,\n",
       "  'ElectrodeLabel': 'EMG_FCR1',\n",
       "  'PhysicalConnector': 9,\n",
       "  'ConnectorPin': 3,\n",
       "  'MinDigitalValue': -32767,\n",
       "  'MaxDigitalValue': 32767,\n",
       "  'MinAnalogValue': -5000,\n",
       "  'MaxAnalogValue': 5000,\n",
       "  'Units': 'mV',\n",
       "  'HighFreqCorner': '10.0 Hz',\n",
       "  'HighFreqOrder': 2,\n",
       "  'HighFreqType': 'butterworth',\n",
       "  'LowFreqCorner': '250.0 Hz',\n",
       "  'LowFreqOrder': 2,\n",
       "  'LowFreqType': 'butterworth'},\n",
       " {'Type': 'CC',\n",
       "  'ElectrodeID': 260,\n",
       "  'ElectrodeLabel': 'EMG_FDP1',\n",
       "  'PhysicalConnector': 9,\n",
       "  'ConnectorPin': 4,\n",
       "  'MinDigitalValue': -32767,\n",
       "  'MaxDigitalValue': 32767,\n",
       "  'MinAnalogValue': -5000,\n",
       "  'MaxAnalogValue': 5000,\n",
       "  'Units': 'mV',\n",
       "  'HighFreqCorner': '10.0 Hz',\n",
       "  'HighFreqOrder': 2,\n",
       "  'HighFreqType': 'butterworth',\n",
       "  'LowFreqCorner': '250.0 Hz',\n",
       "  'LowFreqOrder': 2,\n",
       "  'LowFreqType': 'butterworth'},\n",
       " {'Type': 'CC',\n",
       "  'ElectrodeID': 261,\n",
       "  'ElectrodeLabel': 'EMG_FDS1',\n",
       "  'PhysicalConnector': 9,\n",
       "  'ConnectorPin': 5,\n",
       "  'MinDigitalValue': -32767,\n",
       "  'MaxDigitalValue': 32767,\n",
       "  'MinAnalogValue': -5000,\n",
       "  'MaxAnalogValue': 5000,\n",
       "  'Units': 'mV',\n",
       "  'HighFreqCorner': '10.0 Hz',\n",
       "  'HighFreqOrder': 2,\n",
       "  'HighFreqType': 'butterworth',\n",
       "  'LowFreqCorner': '250.0 Hz',\n",
       "  'LowFreqOrder': 2,\n",
       "  'LowFreqType': 'butterworth'},\n",
       " {'Type': 'CC',\n",
       "  'ElectrodeID': 262,\n",
       "  'ElectrodeLabel': 'EMG_FDS2',\n",
       "  'PhysicalConnector': 9,\n",
       "  'ConnectorPin': 6,\n",
       "  'MinDigitalValue': -32767,\n",
       "  'MaxDigitalValue': 32767,\n",
       "  'MinAnalogValue': -5000,\n",
       "  'MaxAnalogValue': 5000,\n",
       "  'Units': 'mV',\n",
       "  'HighFreqCorner': '10.0 Hz',\n",
       "  'HighFreqOrder': 2,\n",
       "  'HighFreqType': 'butterworth',\n",
       "  'LowFreqCorner': '250.0 Hz',\n",
       "  'LowFreqOrder': 2,\n",
       "  'LowFreqType': 'butterworth'},\n",
       " {'Type': 'CC',\n",
       "  'ElectrodeID': 263,\n",
       "  'ElectrodeLabel': 'EMG_APB',\n",
       "  'PhysicalConnector': 9,\n",
       "  'ConnectorPin': 7,\n",
       "  'MinDigitalValue': -32767,\n",
       "  'MaxDigitalValue': 32767,\n",
       "  'MinAnalogValue': -5000,\n",
       "  'MaxAnalogValue': 5000,\n",
       "  'Units': 'mV',\n",
       "  'HighFreqCorner': '10.0 Hz',\n",
       "  'HighFreqOrder': 2,\n",
       "  'HighFreqType': 'butterworth',\n",
       "  'LowFreqCorner': '250.0 Hz',\n",
       "  'LowFreqOrder': 2,\n",
       "  'LowFreqType': 'butterworth'},\n",
       " {'Type': 'CC',\n",
       "  'ElectrodeID': 264,\n",
       "  'ElectrodeLabel': 'EMG_FPB',\n",
       "  'PhysicalConnector': 9,\n",
       "  'ConnectorPin': 8,\n",
       "  'MinDigitalValue': -32767,\n",
       "  'MaxDigitalValue': 32767,\n",
       "  'MinAnalogValue': -5000,\n",
       "  'MaxAnalogValue': 5000,\n",
       "  'Units': 'mV',\n",
       "  'HighFreqCorner': '10.0 Hz',\n",
       "  'HighFreqOrder': 2,\n",
       "  'HighFreqType': 'butterworth',\n",
       "  'LowFreqCorner': '250.0 Hz',\n",
       "  'LowFreqOrder': 2,\n",
       "  'LowFreqType': 'butterworth'},\n",
       " {'Type': 'CC',\n",
       "  'ElectrodeID': 265,\n",
       "  'ElectrodeLabel': 'EMG_LUM',\n",
       "  'PhysicalConnector': 9,\n",
       "  'ConnectorPin': 9,\n",
       "  'MinDigitalValue': -32767,\n",
       "  'MaxDigitalValue': 32767,\n",
       "  'MinAnalogValue': -5000,\n",
       "  'MaxAnalogValue': 5000,\n",
       "  'Units': 'mV',\n",
       "  'HighFreqCorner': '10.0 Hz',\n",
       "  'HighFreqOrder': 2,\n",
       "  'HighFreqType': 'butterworth',\n",
       "  'LowFreqCorner': '250.0 Hz',\n",
       "  'LowFreqOrder': 2,\n",
       "  'LowFreqType': 'butterworth'},\n",
       " {'Type': 'CC',\n",
       "  'ElectrodeID': 266,\n",
       "  'ElectrodeLabel': 'EMG_FDI',\n",
       "  'PhysicalConnector': 9,\n",
       "  'ConnectorPin': 10,\n",
       "  'MinDigitalValue': -32767,\n",
       "  'MaxDigitalValue': 32767,\n",
       "  'MinAnalogValue': -5000,\n",
       "  'MaxAnalogValue': 5000,\n",
       "  'Units': 'mV',\n",
       "  'HighFreqCorner': '10.0 Hz',\n",
       "  'HighFreqOrder': 2,\n",
       "  'HighFreqType': 'butterworth',\n",
       "  'LowFreqCorner': '250.0 Hz',\n",
       "  'LowFreqOrder': 2,\n",
       "  'LowFreqType': 'butterworth'},\n",
       " {'Type': 'CC',\n",
       "  'ElectrodeID': 267,\n",
       "  'ElectrodeLabel': 'EMG_EDC3',\n",
       "  'PhysicalConnector': 9,\n",
       "  'ConnectorPin': 11,\n",
       "  'MinDigitalValue': -32767,\n",
       "  'MaxDigitalValue': 32767,\n",
       "  'MinAnalogValue': -5000,\n",
       "  'MaxAnalogValue': 5000,\n",
       "  'Units': 'mV',\n",
       "  'HighFreqCorner': '10.0 Hz',\n",
       "  'HighFreqOrder': 2,\n",
       "  'HighFreqType': 'butterworth',\n",
       "  'LowFreqCorner': '250.0 Hz',\n",
       "  'LowFreqOrder': 2,\n",
       "  'LowFreqType': 'butterworth'},\n",
       " {'Type': 'CC',\n",
       "  'ElectrodeID': 268,\n",
       "  'ElectrodeLabel': 'EMG_EDC1',\n",
       "  'PhysicalConnector': 9,\n",
       "  'ConnectorPin': 12,\n",
       "  'MinDigitalValue': -32767,\n",
       "  'MaxDigitalValue': 32767,\n",
       "  'MinAnalogValue': -5000,\n",
       "  'MaxAnalogValue': 5000,\n",
       "  'Units': 'mV',\n",
       "  'HighFreqCorner': '10.0 Hz',\n",
       "  'HighFreqOrder': 2,\n",
       "  'HighFreqType': 'butterworth',\n",
       "  'LowFreqCorner': '250.0 Hz',\n",
       "  'LowFreqOrder': 2,\n",
       "  'LowFreqType': 'butterworth'},\n",
       " {'Type': 'CC',\n",
       "  'ElectrodeID': 271,\n",
       "  'ElectrodeLabel': 'Force_x',\n",
       "  'PhysicalConnector': 9,\n",
       "  'ConnectorPin': 15,\n",
       "  'MinDigitalValue': -32767,\n",
       "  'MaxDigitalValue': 32767,\n",
       "  'MinAnalogValue': -5000,\n",
       "  'MaxAnalogValue': 5000,\n",
       "  'Units': 'mV',\n",
       "  'HighFreqCorner': '0.0 Hz',\n",
       "  'HighFreqOrder': 0,\n",
       "  'HighFreqType': 'none',\n",
       "  'LowFreqCorner': '0.0 Hz',\n",
       "  'LowFreqOrder': 0,\n",
       "  'LowFreqType': 'none'},\n",
       " {'Type': 'CC',\n",
       "  'ElectrodeID': 272,\n",
       "  'ElectrodeLabel': 'Force_y',\n",
       "  'PhysicalConnector': 9,\n",
       "  'ConnectorPin': 16,\n",
       "  'MinDigitalValue': -32767,\n",
       "  'MaxDigitalValue': 32767,\n",
       "  'MinAnalogValue': -5000,\n",
       "  'MaxAnalogValue': 5000,\n",
       "  'Units': 'mV',\n",
       "  'HighFreqCorner': '0.0 Hz',\n",
       "  'HighFreqOrder': 0,\n",
       "  'HighFreqType': 'none',\n",
       "  'LowFreqCorner': '0.0 Hz',\n",
       "  'LowFreqOrder': 0,\n",
       "  'LowFreqType': 'none'}]"
      ]
     },
     "execution_count": 106,
     "metadata": {},
     "output_type": "execute_result"
    }
   ],
   "source": [
    "NsxFileObj.extended_headers"
   ]
  },
  {
   "cell_type": "markdown",
   "id": "d0eeb964",
   "metadata": {},
   "source": [
    "Plot ns3 stuff"
   ]
  },
  {
   "cell_type": "code",
   "execution_count": 101,
   "id": "9626817d",
   "metadata": {
    "scrolled": true
   },
   "outputs": [
    {
     "name": "stdout",
     "output_type": "stream",
     "text": [
      "Channel: 257\n"
     ]
    },
    {
     "data": {
      "image/png": "[encoded data removed]",
      "text/plain": [
       "<Figure size 432x288 with 1 Axes>"
      ]
     },
     "metadata": {
      "needs_background": "light"
     },
     "output_type": "display_data"
    },
    {
     "name": "stdout",
     "output_type": "stream",
     "text": [
      "Channel: 258\n"
     ]
    },
    {
     "data": {
      "image/png": "[encoded data removed]",
      "text/plain": [
       "<Figure size 432x288 with 1 Axes>"
      ]
     },
     "metadata": {
      "needs_background": "light"
     },
     "output_type": "display_data"
    },
    {
     "name": "stdout",
     "output_type": "stream",
     "text": [
      "Channel: 259\n"
     ]
    },
    {
     "data": {
      "image/png": "[encoded data removed]",
      "text/plain": [
       "<Figure size 432x288 with 1 Axes>"
      ]
     },
     "metadata": {
      "needs_background": "light"
     },
     "output_type": "display_data"
    },
    {
     "name": "stdout",
     "output_type": "stream",
     "text": [
      "Channel: 260\n"
     ]
    },
    {
     "data": {
      "image/png": "[encoded data removed]",
      "text/plain": [
       "<Figure size 432x288 with 1 Axes>"
      ]
     },
     "metadata": {
      "needs_background": "light"
     },
     "output_type": "display_data"
    },
    {
     "name": "stdout",
     "output_type": "stream",
     "text": [
      "Channel: 261\n"
     ]
    },
    {
     "data": {
      "image/png": "[encoded data removed]",
      "text/plain": [
       "<Figure size 432x288 with 1 Axes>"
      ]
     },
     "metadata": {
      "needs_background": "light"
     },
     "output_type": "display_data"
    },
    {
     "name": "stdout",
     "output_type": "stream",
     "text": [
      "Channel: 262\n"
     ]
    },
    {
     "data": {
      "image/png": "[encoded data removed]",
      "text/plain": [
       "<Figure size 432x288 with 1 Axes>"
      ]
     },
     "metadata": {
      "needs_background": "light"
     },
     "output_type": "display_data"
    },
    {
     "name": "stdout",
     "output_type": "stream",
     "text": [
      "Channel: 263\n"
     ]
    },
    {
     "data": {
      "image/png": "[encoded data removed]",
      "text/plain": [
       "<Figure size 432x288 with 1 Axes>"
      ]
     },
     "metadata": {
      "needs_background": "light"
     },
     "output_type": "display_data"
    },
    {
     "name": "stdout",
     "output_type": "stream",
     "text": [
      "Channel: 264\n"
     ]
    },
    {
     "data": {
      "image/png": "[encoded data removed]",
      "text/plain": [
       "<Figure size 432x288 with 1 Axes>"
      ]
     },
     "metadata": {
      "needs_background": "light"
     },
     "output_type": "display_data"
    },
    {
     "name": "stdout",
     "output_type": "stream",
     "text": [
      "Channel: 265\n"
     ]
    },
    {
     "data": {
      "image/png": "[encoded data removed]",
      "text/plain": [
       "<Figure size 432x288 with 1 Axes>"
      ]
     },
     "metadata": {
      "needs_background": "light"
     },
     "output_type": "display_data"
    },
    {
     "name": "stdout",
     "output_type": "stream",
     "text": [
      "Channel: 266\n"
     ]
    },
    {
     "data": {
      "image/png": "[encoded data removed]",
      "text/plain": [
       "<Figure size 432x288 with 1 Axes>"
      ]
     },
     "metadata": {
      "needs_background": "light"
     },
     "output_type": "display_data"
    },
    {
     "name": "stdout",
     "output_type": "stream",
     "text": [
      "Channel: 267\n"
     ]
    },
    {
     "data": {
      "image/png": "[encoded data removed]",
      "text/plain": [
       "<Figure size 432x288 with 1 Axes>"
      ]
     },
     "metadata": {
      "needs_background": "light"
     },
     "output_type": "display_data"
    },
    {
     "name": "stdout",
     "output_type": "stream",
     "text": [
      "Channel: 268\n"
     ]
    },
    {
     "data": {
      "image/png": "[encoded data removed]",
      "text/plain": [
       "<Figure size 432x288 with 1 Axes>"
      ]
     },
     "metadata": {
      "needs_background": "light"
     },
     "output_type": "display_data"
    },
    {
     "name": "stdout",
     "output_type": "stream",
     "text": [
      "Channel: 271\n"
     ]
    },
    {
     "data": {
      "image/png": "[encoded data removed]",
      "text/plain": [
       "<Figure size 432x288 with 1 Axes>"
      ]
     },
     "metadata": {
      "needs_background": "light"
     },
     "output_type": "display_data"
    },
    {
     "name": "stdout",
     "output_type": "stream",
     "text": [
      "Channel: 272\n"
     ]
    },
    {
     "data": {
      "image/png": "[encoded data removed]",
      "text/plain": [
       "<Figure size 432x288 with 1 Axes>"
      ]
     },
     "metadata": {
      "needs_background": "light"
     },
     "output_type": "display_data"
    }
   ],
   "source": [
    "for plot_chan in output_nsx['elec_ids']:\n",
    "\n",
    "    ch_idx  = output_nsx['elec_ids'].index(plot_chan)\n",
    "    print('Channel: '+str(plot_chan))\n",
    "    hdr_idx = output_nsx['ExtendedHeaderIndices'][ch_idx]\n",
    "    # Bug in the original code - changed np.arange(output_nsx['data'].shape[1] to np.arange(output_nsx['data'][0].shape[0]\n",
    "    t       = output_nsx['start_time_s'] + np.arange(output_nsx['data'][0].shape[0]) / 2000#output_nsx['samp_per_s']\n",
    "\n",
    "    plt.plot(t, output_nsx['data'][0][:,ch_idx])\n",
    "#     plt.axis([t[0], t[-1], np.min(output_nsx['data'][0][:, ch_idx]), np.max(output_nsx['data'][0][:, ch_idx])])\n",
    "    plt.locator_params(axis='y', nbins=20)\n",
    "    plt.xlabel('Time (s)')\n",
    "    plt.ylabel(\"Output (\" + NsxFileObj.extended_headers[hdr_idx]['Units'] + \")\")\n",
    "    plt.title(NsxFileObj.extended_headers[hdr_idx]['ElectrodeLabel'])\n",
    "    plt.show()"
   ]
  },
  {
   "cell_type": "code",
   "execution_count": 124,
   "id": "017fd705",
   "metadata": {
    "scrolled": true
   },
   "outputs": [
    {
     "name": "stdout",
     "output_type": "stream",
     "text": [
      "\n",
      "20181220_Greyson_PG_001.ns3 closed\n"
     ]
    }
   ],
   "source": [
    "NsxFileObj.close()"
   ]
  },
  {
   "cell_type": "markdown",
   "id": "be36f334",
   "metadata": {},
   "source": [
    "# CCF file examination"
   ]
  },
  {
   "cell_type": "markdown",
   "id": "d83ab0f7",
   "metadata": {},
   "source": [
    "Examine one ccf file"
   ]
  },
  {
   "cell_type": "code",
   "execution_count": 2,
   "id": "fc20d5ff",
   "metadata": {},
   "outputs": [
    {
     "ename": "NameError",
     "evalue": "name 'ET' is not defined",
     "output_type": "error",
     "traceback": [
      "\u001b[0;31m---------------------------------------------------------------------------\u001b[0m",
      "\u001b[0;31mNameError\u001b[0m                                 Traceback (most recent call last)",
      "Input \u001b[0;32mIn [2]\u001b[0m, in \u001b[0;36m<cell line: 2>\u001b[0;34m()\u001b[0m\n\u001b[1;32m      1\u001b[0m filename \u001b[38;5;241m=\u001b[39m \u001b[38;5;124m'\u001b[39m\u001b[38;5;124m/Volumes/L_MillerLab/data/Greyson_17L2/CerebusData/20181220/20181220_Greyson_FreeReaching_001.ccf\u001b[39m\u001b[38;5;124m'\u001b[39m\n\u001b[0;32m----> 2\u001b[0m tree \u001b[38;5;241m=\u001b[39m \u001b[43mET\u001b[49m\u001b[38;5;241m.\u001b[39mparse(filename)\n",
      "\u001b[0;31mNameError\u001b[0m: name 'ET' is not defined"
     ]
    }
   ],
   "source": [
    "filename = '/Volumes/L_MillerLab/data/Greyson_17L2/CerebusData/20181220/20181220_Greyson_FreeReaching_001.ccf'\n",
    "tree = ET.parse(filename)"
   ]
  },
  {
   "cell_type": "code",
   "execution_count": 12,
   "id": "55fca971",
   "metadata": {},
   "outputs": [
    {
     "data": {
      "text/plain": [
       "<xml.etree.ElementTree.ElementTree at 0x11c5ce4a0>"
      ]
     },
     "execution_count": 12,
     "metadata": {},
     "output_type": "execute_result"
    }
   ],
   "source": [
    "tree"
   ]
  },
  {
   "cell_type": "code",
   "execution_count": 13,
   "id": "92d50913",
   "metadata": {
    "scrolled": true
   },
   "outputs": [
    {
     "data": {
      "text/plain": [
       "<Element 'CCF' at 0x11c4ccd60>"
      ]
     },
     "execution_count": 13,
     "metadata": {},
     "output_type": "execute_result"
    }
   ],
   "source": [
    "root = tree.getroot()\n",
    "root"
   ]
  },
  {
   "cell_type": "code",
   "execution_count": 11,
   "id": "405503f2",
   "metadata": {},
   "outputs": [],
   "source": [
    "print(root.findall('ChanInfo'))"
   ]
  },
  {
   "cell_type": "code",
   "execution_count": 14,
   "id": "279c32a6",
   "metadata": {},
   "outputs": [
    {
     "data": {
      "text/plain": [
       "[<Element 'FilterInfo' at 0x11c78f650>,\n",
       " <Element 'ChanInfo' at 0x11c7bd210>,\n",
       " <Element 'Sorting' at 0x123b47f60>,\n",
       " <Element 'SysInfo' at 0x123f1fab0>,\n",
       " <Element 'LNC' at 0x123f1fe20>,\n",
       " <Element 'AnalogOutput' at 0x123f1fe70>,\n",
       " <Element 'NTrodeInfo' at 0x123f38130>,\n",
       " <Element 'AdaptInfo' at 0x12473f290>,\n",
       " <Element 'Session' at 0x12473f2e0>]"
      ]
     },
     "execution_count": 14,
     "metadata": {},
     "output_type": "execute_result"
    }
   ],
   "source": [
    "list(root)"
   ]
  },
  {
   "cell_type": "code",
   "execution_count": 15,
   "id": "b9b4450c",
   "metadata": {
    "scrolled": true
   },
   "outputs": [
    {
     "data": {
      "text/plain": [
       "'32768'"
      ]
     },
     "execution_count": 15,
     "metadata": {},
     "output_type": "execute_result"
    }
   ],
   "source": [
    "list(list(list(root)[1])[0])[0].text"
   ]
  },
  {
   "cell_type": "code",
   "execution_count": 16,
   "id": "ce76fc27",
   "metadata": {
    "scrolled": true
   },
   "outputs": [
    {
     "name": "stdout",
     "output_type": "stream",
     "text": [
      "0\n",
      "284\n",
      "0\n",
      "0\n",
      "0\n",
      "0\n",
      "0\n",
      "0\n",
      "0\n"
     ]
    }
   ],
   "source": [
    "for el in list(root):\n",
    "    print(len(el.findall('ChanInfo_item')))"
   ]
  }
 ],
 "metadata": {
  "kernelspec": {
   "display_name": "Python 3 (ipykernel)",
   "language": "python",
   "name": "python3"
  },
  "language_info": {
   "codemirror_mode": {
    "name": "ipython",
    "version": 3
   },
   "file_extension": ".py",
   "mimetype": "text/x-python",
   "name": "python",
   "nbconvert_exporter": "python",
   "pygments_lexer": "ipython3",
   "version": "3.11.2"
  }
 },
 "nbformat": 4,
 "nbformat_minor": 5
}
